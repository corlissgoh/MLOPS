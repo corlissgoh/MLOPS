{
 "cells": [
  {
   "cell_type": "markdown",
   "id": "dd890a3f",
   "metadata": {},
   "source": [
    "## IT2313 - Programming for Data Science\n",
    "## Practical 4 \n",
    "## NumPy for Numerical Computations (Part 2)"
   ]
  },
  {
   "cell_type": "markdown",
   "id": "9360a8f0",
   "metadata": {},
   "source": [
    "### In this lesson, we will continue to practise our NumPy knowledge. \n",
    "- Shapes and Operation\n",
    "- Basic Math Operation\n",
    "- Matrix and Manipulation\n",
    "- Broadcasting\n",
    "- Case Study with actual dataset"
   ]
  },
  {
   "cell_type": "markdown",
   "id": "43852209",
   "metadata": {},
   "source": [
    "#### We need to import the neccessary libraries"
   ]
  },
  {
   "cell_type": "code",
   "execution_count": 1,
   "id": "84200a71",
   "metadata": {},
   "outputs": [],
   "source": [
    "import numpy as np"
   ]
  },
  {
   "cell_type": "markdown",
   "id": "a4f29bcb",
   "metadata": {},
   "source": [
    "#### Q1 - Create an array with sequence of alternate numbers from 0 to 18 and save it to A"
   ]
  },
  {
   "cell_type": "code",
   "execution_count": 2,
   "id": "47b87943",
   "metadata": {},
   "outputs": [
    {
     "name": "stdout",
     "output_type": "stream",
     "text": [
      "[ 0  2  4  6  8 10 12 14 16]\n"
     ]
    }
   ],
   "source": [
    "# Type your answer here\n"
   ]
  },
  {
   "cell_type": "markdown",
   "id": "862dfdea",
   "metadata": {},
   "source": [
    "#### Q2 - Print the shape of the array A"
   ]
  },
  {
   "cell_type": "code",
   "execution_count": 3,
   "id": "c06ce41f",
   "metadata": {},
   "outputs": [
    {
     "name": "stdout",
     "output_type": "stream",
     "text": [
      "(9,)\n"
     ]
    }
   ],
   "source": [
    "# Type your answer here\n"
   ]
  },
  {
   "cell_type": "markdown",
   "id": "c3ff027a",
   "metadata": {},
   "source": [
    "#### Q3 - Create an array with sequence of numbers from 1 to 9 and save it to B, Reshape array B to a 3 by 3 array and display array B "
   ]
  },
  {
   "cell_type": "code",
   "execution_count": 4,
   "id": "25f8595b",
   "metadata": {},
   "outputs": [
    {
     "name": "stdout",
     "output_type": "stream",
     "text": [
      "[[1 2 3]\n",
      " [4 5 6]\n",
      " [7 8 9]]\n"
     ]
    }
   ],
   "source": [
    "# Type your answer here\n"
   ]
  },
  {
   "cell_type": "markdown",
   "id": "82d2841a",
   "metadata": {},
   "source": [
    "#### Q4 - Print the shape of the array B"
   ]
  },
  {
   "cell_type": "code",
   "execution_count": 5,
   "id": "84156753",
   "metadata": {},
   "outputs": [
    {
     "name": "stdout",
     "output_type": "stream",
     "text": [
      "(3, 3)\n"
     ]
    }
   ],
   "source": [
    "# Type your answer here\n",
    "# Need to know to tell that this is a 2D Array\n"
   ]
  },
  {
   "cell_type": "markdown",
   "id": "d3c78695",
   "metadata": {},
   "source": [
    "#### Q5 - Let create the following arrays\n",
    "[[0 1]\n",
    "[2 3]]\n",
    "\n",
    "[[10.1 13.4]\n",
    "[15.5 21.3]]"
   ]
  },
  {
   "cell_type": "code",
   "execution_count": 7,
   "id": "8fac9506",
   "metadata": {},
   "outputs": [
    {
     "name": "stdout",
     "output_type": "stream",
     "text": [
      "[[0 1]\n",
      " [2 3]]\n",
      "[[10.1 13.4]\n",
      " [15.5 21.3]]\n"
     ]
    }
   ],
   "source": [
    "# Type your answer here\n",
    "x = \n",
    "y = \n",
    "print(x)\n",
    "print(y)"
   ]
  },
  {
   "cell_type": "markdown",
   "id": "0ada6e78",
   "metadata": {},
   "source": [
    "#### Q6 - Using the above array,\n",
    " - (a) sum up array x and y using the \"+\" operator and add function\n",
    " - (b) subtract array y from x using the \"-\" operator and subtract function\n",
    " - (c) multiply array x and y using the \"*\" operator and multiply function\n",
    " - (d) divide up y from x using the \"/\" operator and divide function"
   ]
  },
  {
   "cell_type": "code",
   "execution_count": 8,
   "id": "b995cf94",
   "metadata": {},
   "outputs": [
    {
     "name": "stdout",
     "output_type": "stream",
     "text": [
      "[[10.1 14.4]\n",
      " [17.5 24.3]]\n",
      "\n",
      "[[10.1 14.4]\n",
      " [17.5 24.3]]\n"
     ]
    }
   ],
   "source": [
    "# Question Q6(a)\n",
    "# Type your answer here\n"
   ]
  },
  {
   "cell_type": "code",
   "execution_count": 9,
   "id": "b0c18b08",
   "metadata": {},
   "outputs": [
    {
     "name": "stdout",
     "output_type": "stream",
     "text": [
      "[[-10.1 -12.4]\n",
      " [-13.5 -18.3]]\n",
      "\n",
      "[[-10.1 -12.4]\n",
      " [-13.5 -18.3]]\n"
     ]
    }
   ],
   "source": [
    "# Question Q6(b)\n",
    "# Type your answer here\n"
   ]
  },
  {
   "cell_type": "code",
   "execution_count": 10,
   "id": "b98b17ca",
   "metadata": {},
   "outputs": [
    {
     "name": "stdout",
     "output_type": "stream",
     "text": [
      "[[ 0.  13.4]\n",
      " [31.  63.9]]\n",
      "\n",
      "[[ 0.  13.4]\n",
      " [31.  63.9]]\n"
     ]
    }
   ],
   "source": [
    "# Question Q6(c)\n",
    "# Type your answer here\n"
   ]
  },
  {
   "cell_type": "code",
   "execution_count": 11,
   "id": "30aa96cc",
   "metadata": {},
   "outputs": [
    {
     "name": "stdout",
     "output_type": "stream",
     "text": [
      "[[0.         0.07462687]\n",
      " [0.12903226 0.14084507]]\n",
      "\n",
      "[[0.         0.07462687]\n",
      " [0.12903226 0.14084507]]\n"
     ]
    }
   ],
   "source": [
    "# Question Q6(d)\n",
    "# Type your answer here\n"
   ]
  },
  {
   "cell_type": "markdown",
   "id": "0566862d",
   "metadata": {},
   "source": [
    "#### Q7 - Let use the following command to generate a 5x5 matrix\n",
    "\n",
    "mat = np.arange(1, 26).reshape(5, 5)\n",
    "##### Flatten the array, shuffle it, and then reshape it back\n",
    "flat_mat = mat.flatten()\n",
    "np.random.shuffle(flat_mat)\n",
    "mat = flat_mat.reshape(5, 5)\n",
    "\n",
    " - (a) Compute the mean, median, standard deviation of a numpy array in each of the rows\n",
    " - (b) Compute the mean, median, standard deviation of a numpy array in each of the columns\n",
    " - (c) Compite the mean, median, standard deviation for the matrix"
   ]
  },
  {
   "cell_type": "code",
   "execution_count": 12,
   "id": "4bc50d99",
   "metadata": {},
   "outputs": [
    {
     "name": "stdout",
     "output_type": "stream",
     "text": [
      "[[ 9 17  1 24 12]\n",
      " [10 14  2 23  6]\n",
      " [ 3 13 16  4  5]\n",
      " [21 18 22 19 25]\n",
      " [ 8 11 15 20  7]]\n"
     ]
    }
   ],
   "source": [
    "# Set a random seed for reproducibility\n",
    "# This is to ensure every run will produce the same random number\n",
    "seed_value = 42\n",
    "np.random.seed(seed_value)\n",
    "\n",
    "mat = np.arange(1, 26).reshape(5, 5)\n",
    "flat_mat = mat.flatten()\n",
    "np.random.shuffle(flat_mat)\n",
    "mat = flat_mat.reshape(5, 5)\n",
    "print(mat)"
   ]
  },
  {
   "cell_type": "code",
   "execution_count": 13,
   "id": "9c24448c",
   "metadata": {},
   "outputs": [
    {
     "name": "stdout",
     "output_type": "stream",
     "text": [
      "Mean along each row: [12.6 11.   8.2 21.  12.2]\n",
      "Median along each row: [12. 10.  5. 21. 11.]\n",
      "Standard deviation along each row: [7.70973411 7.21110255 5.26877595 2.44948974 4.79165942]\n"
     ]
    }
   ],
   "source": [
    "# Question Q7(a)\n",
    "# Type your answer here\n",
    "# Compute mean, median, and standard deviation along each row\n"
   ]
  },
  {
   "cell_type": "code",
   "execution_count": 14,
   "id": "9aec2b38",
   "metadata": {},
   "outputs": [
    {
     "name": "stdout",
     "output_type": "stream",
     "text": [
      "Mean along each column: [10.2 14.6 11.2 18.  11. ]\n",
      "Median along each column: [ 9. 14. 15. 20.  7.]\n",
      "Standard deviation along each column: [5.9126982  2.57681975 8.28009662 7.23878443 7.40270221]\n"
     ]
    }
   ],
   "source": [
    "# Question Q7(b)\n",
    "# Type your answer here\n",
    "# Compute mean, median, and standard deviation along each column\n"
   ]
  },
  {
   "cell_type": "code",
   "execution_count": 15,
   "id": "0f319d40",
   "metadata": {},
   "outputs": [
    {
     "name": "stdout",
     "output_type": "stream",
     "text": [
      "Mean of the matrix: 13.0\n",
      "Median of the matrix: 13.0\n",
      "Standard deviation of the matrix: 7.211102550927978\n"
     ]
    }
   ],
   "source": [
    "# Question Q7(c)\n",
    "# Type your answer here\n",
    "# Compute mean, median, and standard deviation for the entire matrix\n"
   ]
  },
  {
   "cell_type": "markdown",
   "id": "4ba6eb88",
   "metadata": {},
   "source": [
    "#### Q8 - Let use the following command to generate a 2x2 matrix.\n",
    "####         The student just need to know the application in Python. \n",
    "mat = np.arange(1,5).reshape(2,2)\n",
    " - (a) Compute the Matrix Transpose\n",
    " - (b) Compute the Matrix Power\n",
    " - (c) Compute the Matrix Rank\n",
    " - (d) Compute the Matrix Detrimental\n",
    "\n",
    "Reference Notes:\n",
    "For (a) Transpose is \"Flipping\" a matrix over its diagonal. The rows and columns get swapped.\n",
    "https://www.mathsisfun.com/definitions/transpose-matrix-.html\n",
    "\n",
    "For (b) Raising a matrix to a power involves multiplying the matrix by itself a certain number of times. The power of a matrix is similiar to the concept of exponentiation for numbers.\n",
    "https://www.mathsisfun.com/algebra/matrix-multiplying.html\n",
    "\n",
    "For (c) The rank is how many of the rows are \"unique\": not made of other rows. (Same for columns.)\n",
    "https://www.mathsisfun.com/algebra/matrix-rank.html\n",
    "\n",
    "For (d) he determinant is a special number that can be calculated from a matrix\n",
    "https://www.mathsisfun.com/algebra/matrix-determinant.html"
   ]
  },
  {
   "cell_type": "code",
   "execution_count": 16,
   "id": "cc66434e",
   "metadata": {},
   "outputs": [
    {
     "data": {
      "text/plain": [
       "array([[1, 2],\n",
       "       [3, 4]])"
      ]
     },
     "execution_count": 16,
     "metadata": {},
     "output_type": "execute_result"
    }
   ],
   "source": [
    "mat = np.arange(1,5).reshape(2,2)\n",
    "mat"
   ]
  },
  {
   "cell_type": "code",
   "execution_count": 17,
   "id": "a4d996e4",
   "metadata": {},
   "outputs": [
    {
     "name": "stdout",
     "output_type": "stream",
     "text": [
      "[[1 3]\n",
      " [2 4]]\n"
     ]
    }
   ],
   "source": [
    "# Question Q8(a)\n",
    "# Type your answer here\n"
   ]
  },
  {
   "cell_type": "code",
   "execution_count": 18,
   "id": "6a7e14ca",
   "metadata": {},
   "outputs": [
    {
     "name": "stdout",
     "output_type": "stream",
     "text": [
      "[[ 7 10]\n",
      " [15 22]]\n"
     ]
    }
   ],
   "source": [
    "# Question Q8(b)\n",
    "# Raising a matrix to a power involves multiplying the matrix by itself a certain number of times. The power of a matrix is analogous to the concept of exponentiation for numbers.\n",
    "# Type your answer here\n",
    "# Specify the power\n"
   ]
  },
  {
   "cell_type": "code",
   "execution_count": 19,
   "id": "51c17d82",
   "metadata": {},
   "outputs": [
    {
     "name": "stdout",
     "output_type": "stream",
     "text": [
      "2\n"
     ]
    }
   ],
   "source": [
    "# Question Q8(c)\n",
    "# Type your answer here\n"
   ]
  },
  {
   "cell_type": "code",
   "execution_count": 20,
   "id": "2f6b4710",
   "metadata": {},
   "outputs": [
    {
     "name": "stdout",
     "output_type": "stream",
     "text": [
      "-2.0000000000000004\n"
     ]
    }
   ],
   "source": [
    "# Question Q8(d)\n",
    "# Type your answer here\n",
    "# Calculate the determinant\n"
   ]
  },
  {
   "cell_type": "markdown",
   "id": "091c6acf",
   "metadata": {},
   "source": [
    "#### Q9 - You are given any array A of shape (3,1) and Array B of shape(4,1).\n",
    "####         If you add them up using the following code, A + B = C, what will be shape of Array C?\n",
    "####         Can you explain how the Broadcasting rules are being applied?"
   ]
  },
  {
   "cell_type": "code",
   "execution_count": 21,
   "id": "4bd81ae6",
   "metadata": {},
   "outputs": [
    {
     "name": "stdout",
     "output_type": "stream",
     "text": [
      "(3, 1)\n",
      "(1, 4)\n",
      "(3, 4)\n"
     ]
    }
   ],
   "source": [
    "# Question Q9\n",
    "# Type your answer here\n",
    "A = np.array([[1],[2],[3]])\n",
    "\n",
    "B = np.array([[10, 20, 30, 40]])\n",
    "\n",
    "# Broadcasting to perform element-wise addition\n",
    "\n",
    "\n",
    "# Print the resulting shape of the A, B and output array\n"
   ]
  },
  {
   "cell_type": "markdown",
   "id": "deeb3050",
   "metadata": {},
   "source": [
    "#### Q10 - Change the array of floats to an array of (a) integers and (b) strings. \n",
    "\n",
    "arr = np.array([1.3, 2.2, 3.1]) "
   ]
  },
  {
   "cell_type": "code",
   "execution_count": 22,
   "id": "49ffb77d",
   "metadata": {},
   "outputs": [
    {
     "name": "stdout",
     "output_type": "stream",
     "text": [
      "[1 2 3]\n",
      "int32\n"
     ]
    }
   ],
   "source": [
    "# Question 10(a)\n",
    "# Type your answer here\n",
    "\n",
    "arr = np.array([1.3, 2.2, 3.1]) \n"
   ]
  },
  {
   "cell_type": "code",
   "execution_count": 23,
   "id": "d3b3eaf6",
   "metadata": {},
   "outputs": [
    {
     "name": "stdout",
     "output_type": "stream",
     "text": [
      "['1.3' '2.2' '3.1']\n",
      "<U32\n"
     ]
    }
   ],
   "source": [
    "# Question 10(b)\n",
    "# Type your answer here\n",
    "\n",
    "arr = np.array([1.3, 2.2, 3.1]) \n"
   ]
  },
  {
   "cell_type": "markdown",
   "id": "b5d8979c",
   "metadata": {},
   "source": [
    "### Case Studies"
   ]
  },
  {
   "cell_type": "markdown",
   "id": "4e20910f",
   "metadata": {},
   "source": [
    "#### Question 11\n",
    "The dataset essentially captures information about different athletes, their ages, the sports they participate in, their physical attributes (weight and height), and a performance metric (score). Below are the columns description:\n",
    "\n",
    "- athlete: The column represents the name of the athlete participating in sports.\n",
    "- age: Indicates the age of the athlete.\n",
    "- sport: Describes the type of sport in which the athlete is involved (e.g., Basketball, Soccer, Swimming).\n",
    "- weight: Represents the weight of the athlete.\n",
    "- height: Indicates the height of the athlete.\n",
    "- score: This column provides a score or performance metric for the athlete in their respective sport."
   ]
  },
  {
   "cell_type": "code",
   "execution_count": 24,
   "id": "dd244d9e",
   "metadata": {},
   "outputs": [
    {
     "name": "stdout",
     "output_type": "stream",
     "text": [
      "[('John', 25, 'Basketball', 80, 190, 30)\n",
      " ('Alice', 22, 'Soccer', 65, 170, 25) ('Bob', 28, 'Swimming', 75, 180, 35)\n",
      " ('Eva', 24, 'Tennis', 68, 175, 28) ('Chris', 30, 'Running', 70, 175, 40)\n",
      " ('Sara', 23, 'Basketball', 78, 185, 32)\n",
      " ('Mike', 26, 'Soccer', 70, 175, 28) ('Lily', 27, 'Swimming', 73, 178, 38)\n",
      " ('Alex', 29, 'Tennis', 72, 180, 33) ('Emma', 24, 'Running', 68, 172, 36)]\n"
     ]
    }
   ],
   "source": [
    "# Q11\n",
    "# Type your answer here\n",
    "\n",
    "# Read the CSV file into a NumPy array\n",
    "athlete_data = np.genfromtxt('sports_dataset.csv', delimiter=',', dtype=None, names=True, encoding=None)\n",
    "\n",
    "# Print the array to verify the data\n",
    "print(athlete_data)"
   ]
  },
  {
   "cell_type": "code",
   "execution_count": 25,
   "id": "f85206e8",
   "metadata": {},
   "outputs": [
    {
     "name": "stdout",
     "output_type": "stream",
     "text": [
      "('John', 25, 'Basketball', 80, 190, 30)\n",
      "('Alice', 22, 'Soccer', 65, 170, 25)\n",
      "('Bob', 28, 'Swimming', 75, 180, 35)\n",
      "('Eva', 24, 'Tennis', 68, 175, 28)\n",
      "('Chris', 30, 'Running', 70, 175, 40)\n",
      "('Sara', 23, 'Basketball', 78, 185, 32)\n",
      "('Mike', 26, 'Soccer', 70, 175, 28)\n",
      "('Lily', 27, 'Swimming', 73, 178, 38)\n",
      "('Alex', 29, 'Tennis', 72, 180, 33)\n",
      "('Emma', 24, 'Running', 68, 172, 36)\n"
     ]
    }
   ],
   "source": [
    "for row in athlete_data:\n",
    "    print(row)"
   ]
  },
  {
   "cell_type": "markdown",
   "id": "9644d031",
   "metadata": {},
   "source": [
    "- (a) Calculate the average age of the athletes.\n",
    "- (b) Find the athlete with the highest score. Print their name and score.\n",
    "- (c) Filter and display athletes who participate in Tennis.\n",
    "- (d) Calculate the average height of athletes who play Basketball.\n",
    "- (e) Find the athlete with the lowest weight. Print their name and weight.\n",
    "- (f) Filter and display athletes who are younger than 25 years old.\n",
    "- (g) Calculate the total score of all athletes.\n",
    "- (h) Filter and display athletes with a score greater than 30."
   ]
  },
  {
   "cell_type": "code",
   "execution_count": 26,
   "id": "52b0d515",
   "metadata": {},
   "outputs": [
    {
     "name": "stdout",
     "output_type": "stream",
     "text": [
      "The average age of the athletes is: 25.8\n"
     ]
    }
   ],
   "source": [
    "# Question 11(a) - Calculate the average age of the athletes\n",
    "# Type your answer here\n"
   ]
  },
  {
   "cell_type": "code",
   "execution_count": 27,
   "id": "bef29c43",
   "metadata": {},
   "outputs": [
    {
     "name": "stdout",
     "output_type": "stream",
     "text": [
      "The athlete with the highest score is Chris with a score of 40.\n"
     ]
    }
   ],
   "source": [
    "# Question 11(b) - Find the athlete with the highest score. Print their name and score.\n",
    "# Type your answer here\n"
   ]
  },
  {
   "cell_type": "code",
   "execution_count": 28,
   "id": "f1d6f48b",
   "metadata": {},
   "outputs": [
    {
     "name": "stdout",
     "output_type": "stream",
     "text": [
      "Athletes who play Tennis:\n",
      "[('Eva', 24, 'Tennis', 68, 175, 28) ('Alex', 29, 'Tennis', 72, 180, 33)]\n"
     ]
    }
   ],
   "source": [
    "# Question 11(c) - Filter and display athletes who participate in Tennis.\n",
    "# Type your answer here\n"
   ]
  },
  {
   "cell_type": "code",
   "execution_count": 29,
   "id": "1912c97c",
   "metadata": {},
   "outputs": [
    {
     "name": "stdout",
     "output_type": "stream",
     "text": [
      "The average height of Basketball players is: 187.5\n"
     ]
    }
   ],
   "source": [
    "# Question 11(d) - Calculate the average height of athletes who play Basketball\n",
    "# Type your answer here\n"
   ]
  },
  {
   "cell_type": "code",
   "execution_count": 30,
   "id": "e0125438",
   "metadata": {},
   "outputs": [
    {
     "name": "stdout",
     "output_type": "stream",
     "text": [
      "The athlete with the lowest weight is Alice with a weight of 65.\n"
     ]
    }
   ],
   "source": [
    "# Question 11(e) - Find the athlete with the lowest weight. Print their name and weight.\n",
    "# Type your answer here\n"
   ]
  },
  {
   "cell_type": "code",
   "execution_count": 31,
   "id": "99129006",
   "metadata": {},
   "outputs": [
    {
     "name": "stdout",
     "output_type": "stream",
     "text": [
      "Athletes younger than 25:\n",
      "[('Alice', 22, 'Soccer', 65, 170, 25) ('Eva', 24, 'Tennis', 68, 175, 28)\n",
      " ('Sara', 23, 'Basketball', 78, 185, 32)\n",
      " ('Emma', 24, 'Running', 68, 172, 36)]\n"
     ]
    }
   ],
   "source": [
    "# Question 11(f) - Filter and display athletes who are younger than 25 years old.\n",
    "# Type your answer here\n"
   ]
  },
  {
   "cell_type": "code",
   "execution_count": 32,
   "id": "23d04298",
   "metadata": {},
   "outputs": [
    {
     "name": "stdout",
     "output_type": "stream",
     "text": [
      "The total score of all athletes is: 325\n"
     ]
    }
   ],
   "source": [
    "# Question 11(g) - Calculate the total score of all athletes.\n",
    "# Type your answer here\n"
   ]
  },
  {
   "cell_type": "code",
   "execution_count": 33,
   "id": "b2cd98e0",
   "metadata": {},
   "outputs": [
    {
     "name": "stdout",
     "output_type": "stream",
     "text": [
      "Athletes with a score greater than 30:\n",
      "[('Bob', 28, 'Swimming', 75, 180, 35)\n",
      " ('Chris', 30, 'Running', 70, 175, 40)\n",
      " ('Sara', 23, 'Basketball', 78, 185, 32)\n",
      " ('Lily', 27, 'Swimming', 73, 178, 38) ('Alex', 29, 'Tennis', 72, 180, 33)\n",
      " ('Emma', 24, 'Running', 68, 172, 36)]\n"
     ]
    }
   ],
   "source": [
    "# Question 11(h) - Filter and display athletes with a score greater than 30.\n",
    "# Type your answer here\n"
   ]
  },
  {
   "cell_type": "code",
   "execution_count": null,
   "id": "1e89baf9",
   "metadata": {},
   "outputs": [],
   "source": []
  },
  {
   "cell_type": "code",
   "execution_count": null,
   "id": "823bfdfa",
   "metadata": {},
   "outputs": [],
   "source": []
  }
 ],
 "metadata": {
  "kernelspec": {
   "display_name": "Python 3 (ipykernel)",
   "language": "python",
   "name": "python3"
  },
  "language_info": {
   "codemirror_mode": {
    "name": "ipython",
    "version": 3
   },
   "file_extension": ".py",
   "mimetype": "text/x-python",
   "name": "python",
   "nbconvert_exporter": "python",
   "pygments_lexer": "ipython3",
   "version": "3.10.13"
  }
 },
 "nbformat": 4,
 "nbformat_minor": 5
}
