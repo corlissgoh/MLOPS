{
 "cells": [
  {
   "cell_type": "markdown",
   "metadata": {},
   "source": [
    "# Web Scraper for 9Anime"
   ]
  },
  {
   "cell_type": "markdown",
   "metadata": {},
   "source": [
    "### Importing packages"
   ]
  },
  {
   "cell_type": "code",
   "execution_count": 1,
   "metadata": {},
   "outputs": [],
   "source": [
    "import requests\n",
    "from bs4 import BeautifulSoup as bs\n",
    "import pandas as pd"
   ]
  },
  {
   "cell_type": "markdown",
   "metadata": {},
   "source": [
    "### Get links for all animes under each category"
   ]
  },
  {
   "cell_type": "code",
   "execution_count": 2,
   "metadata": {},
   "outputs": [
    {
     "data": {
      "text/plain": [
       "{'Action': 'https://9animetv.to/genre/action',\n",
       " 'Adventure': 'https://9animetv.to/genre/adventure',\n",
       " 'Comedy': 'https://9animetv.to/genre/comedy',\n",
       " 'Romance': 'https://9animetv.to/genre/romance',\n",
       " 'Slice of Life': 'https://9animetv.to/genre/slice-of-life'}"
      ]
     },
     "execution_count": 2,
     "metadata": {},
     "output_type": "execute_result"
    }
   ],
   "source": [
    "# URLs for different anime genres\n",
    "tags = [\"action\", \"adventure\", \"comedy\", \"romance\", \"slice-of-life\"]\n",
    "genres = [\"Action\", \"Adventure\", \"Comedy\", \"Romance\", \"Slice of Life\"]\n",
    "\n",
    "# Base link\n",
    "link = \"https://9animetv.to/genre/{}\"\n",
    "\n",
    "# Making a GET request\n",
    "urls = {}\n",
    "for tag in tags:\n",
    "    formated_url = link.format(tag) \n",
    "    urls[genres[tags.index(tag)]] = formated_url\n",
    "\n",
    "urls"
   ]
  },
  {
   "cell_type": "code",
   "execution_count": 3,
   "metadata": {},
   "outputs": [
    {
     "ename": "NameError",
     "evalue": "name 'soup' is not defined",
     "output_type": "error",
     "traceback": [
      "\u001b[1;31m---------------------------------------------------------------------------\u001b[0m",
      "\u001b[1;31mNameError\u001b[0m                                 Traceback (most recent call last)",
      "Cell \u001b[1;32mIn[3], line 25\u001b[0m\n\u001b[0;32m     23\u001b[0m url \u001b[38;5;241m=\u001b[39m urls[genre]\n\u001b[0;32m     24\u001b[0m scrape_page(url,num)\n\u001b[1;32m---> 25\u001b[0m \u001b[38;5;28;01mif\u001b[39;00m \u001b[38;5;129;01mnot\u001b[39;00m \u001b[43msoup\u001b[49m\u001b[38;5;241m.\u001b[39mfind(class_\u001b[38;5;241m=\u001b[39m[\u001b[38;5;124m\"\u001b[39m\u001b[38;5;124mdisabled\u001b[39m\u001b[38;5;124m\"\u001b[39m]):\n\u001b[0;32m     26\u001b[0m     \u001b[38;5;28mprint\u001b[39m(\u001b[38;5;124mf\u001b[39m\u001b[38;5;124m\"\u001b[39m\u001b[38;5;132;01m{\u001b[39;00mgenre\u001b[38;5;132;01m}\u001b[39;00m\u001b[38;5;124m: \u001b[39m\u001b[38;5;132;01m{\u001b[39;00m\u001b[38;5;28mlen\u001b[39m(anime_links[genre])\u001b[38;5;132;01m}\u001b[39;00m\u001b[38;5;124m\"\u001b[39m)\n\u001b[0;32m     27\u001b[0m     \u001b[38;5;28;01mbreak\u001b[39;00m\n",
      "\u001b[1;31mNameError\u001b[0m: name 'soup' is not defined"
     ]
    }
   ],
   "source": [
    "base_url = \"https://9animetv.to\"\n",
    "anime_links = {}\n",
    "\n",
    "# Function to scrape pages (1-10) of each genre\n",
    "def scrape_page(url,num):\n",
    "    url = url + \"?page=\" + str(num)\n",
    "    response = requests.get(url)\n",
    "    html = response.content\n",
    "    soup = bs(html, \"html.parser\")\n",
    "\n",
    "    # Getting all the links for the anime\n",
    "    hrefs = soup.find_all('a', class_=\"dynamic-name\")\n",
    "    for href in hrefs:\n",
    "        link = base_url + href.get('href')\n",
    "        anime_links[genre].append(link)\n",
    "\n",
    "animes =  {}\n",
    "for genre in urls.keys():\n",
    "    anime_links[genre] = []\n",
    "    num = 1\n",
    "    while num <= 10: \n",
    "    # As there are a lot of animes per genre, we will only scrape the first 10 pages of each genre\n",
    "        url = urls[genre]\n",
    "        scrape_page(url,num)\n",
    "        if not soup.find(class_=[\"disabled\"]):\n",
    "            print(f\"{genre}: {len(anime_links[genre])}\")\n",
    "            break\n",
    "        num += 1\n",
    "    anime = pd.DataFrame(anime_links[genre], columns=['link'])\n",
    "    anime['genre'] = genre\n",
    "    animes[genre] = anime\n",
    "\n",
    "animes.keys()"
   ]
  },
  {
   "cell_type": "code",
   "execution_count": null,
   "metadata": {},
   "outputs": [],
   "source": [
    "animes = pd.concat(animes.values(), ignore_index=True)\n",
    "animes"
   ]
  },
  {
   "cell_type": "code",
   "execution_count": null,
   "metadata": {},
   "outputs": [],
   "source": [
    "# Remove duplicates\n",
    "animes = animes.drop_duplicates(subset=['link'])\n",
    "animes"
   ]
  },
  {
   "cell_type": "code",
   "execution_count": null,
   "metadata": {},
   "outputs": [],
   "source": [
    "animes['genre'].value_counts().plot(kind='bar')\n"
   ]
  },
  {
   "cell_type": "markdown",
   "metadata": {},
   "source": [
    "### Collecting Anime Title and Description"
   ]
  },
  {
   "cell_type": "code",
   "execution_count": null,
   "metadata": {},
   "outputs": [],
   "source": [
    "titles = []\n",
    "descriptions = []\n",
    "for link in animes['link']:\n",
    "    response = requests.get(link)\n",
    "    html = response.content\n",
    "    soup = bs(html, \"html.parser\")\n",
    "\n",
    "    # Getting the title of the anime\n",
    "    title = soup.select(\"h2.film-name\")[0].get_text().strip()\n",
    "    titles.append(title)\n",
    "    \n",
    "\n",
    "    # Getting the description\n",
    "    description = soup.select(\"p.shorting\")[0].get_text().strip()\n",
    "    descriptions.append(description)\n",
    "\n",
    "animes['title'] = titles\n",
    "animes['description'] = descriptions\n",
    "animes\n"
   ]
  },
  {
   "cell_type": "markdown",
   "metadata": {},
   "source": [
    "### Export to CSV"
   ]
  },
  {
   "cell_type": "code",
   "execution_count": null,
   "metadata": {},
   "outputs": [],
   "source": [
    "animes.to_csv('animes.csv', index=False)\n"
   ]
  }
 ],
 "metadata": {
  "kernelspec": {
   "display_name": "Python 3 (ipykernel)",
   "language": "python",
   "name": "python3"
  },
  "language_info": {
   "codemirror_mode": {
    "name": "ipython",
    "version": 3
   },
   "file_extension": ".py",
   "mimetype": "text/x-python",
   "name": "python",
   "nbconvert_exporter": "python",
   "pygments_lexer": "ipython3",
   "version": "3.10.13"
  }
 },
 "nbformat": 4,
 "nbformat_minor": 2
}
