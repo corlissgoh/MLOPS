{
 "cells": [
  {
   "cell_type": "code",
   "execution_count": 2,
   "metadata": {
    "colab": {
     "base_uri": "https://localhost:8080/",
     "height": 143
    },
    "id": "eO9Ngc0vgyfK",
    "outputId": "7bc174ce-7457-474c-9a25-fed514273077"
   },
   "outputs": [
    {
     "ename": "SyntaxError",
     "evalue": "ignored",
     "output_type": "error",
     "traceback": [
      "\u001b[0;36m  File \u001b[0;32m\"<ipython-input-2-86589d8e6aa2>\"\u001b[0;36m, line \u001b[0;32m1\u001b[0m\n\u001b[0;31m    from pandas\u001b[0m\n\u001b[0m               ^\u001b[0m\n\u001b[0;31mSyntaxError\u001b[0m\u001b[0;31m:\u001b[0m invalid syntax\n"
     ]
    }
   ],
   "source": [
    "from pandas"
   ]
  },
  {
   "cell_type": "code",
   "execution_count": null,
   "metadata": {
    "id": "ek3CXQ_ukHYQ"
   },
   "outputs": [],
   "source": [
    "import read_csv"
   ]
  },
  {
   "cell_type": "markdown",
   "metadata": {
    "id": "Mt7_x5MppGQU"
   },
   "source": [
    "Install NLTK entire collection in Colab"
   ]
  },
  {
   "cell_type": "code",
   "execution_count": 1,
   "metadata": {
    "id": "pqlgBrtgpCrH"
   },
   "outputs": [],
   "source": [
    "import nltk"
   ]
  },
  {
   "cell_type": "code",
   "execution_count": null,
   "metadata": {
    "id": "s3FtaLQGpCwI"
   },
   "outputs": [],
   "source": [
    "nltk.download('all')"
   ]
  },
  {
   "cell_type": "code",
   "execution_count": null,
   "metadata": {
    "id": "qlZKz2XikIGq"
   },
   "outputs": [],
   "source": [
    "df = pd.read_csv(Data)"
   ]
  },
  {
   "cell_type": "markdown",
   "metadata": {
    "id": "b_fHS7ytwlKn"
   },
   "source": [
    "Tokenize following paragraph into list of sentences"
   ]
  },
  {
   "cell_type": "code",
   "execution_count": null,
   "metadata": {
    "id": "DnlCy2LOwshY"
   },
   "outputs": [],
   "source": [
    "import nltk.tokenize as tk"
   ]
  },
  {
   "cell_type": "code",
   "execution_count": null,
   "metadata": {
    "id": "GV_BLXo4xmmv"
   },
   "outputs": [],
   "source": [
    "my_text =\"\"\" \"\"\""
   ]
  },
  {
   "cell_type": "code",
   "execution_count": null,
   "metadata": {
    "id": "Locc3zefxrRQ"
   },
   "outputs": [],
   "source": [
    "sents = tk.sent_tokenize(my_text)"
   ]
  },
  {
   "cell_type": "code",
   "execution_count": null,
   "metadata": {
    "id": "qNv_tQjPx5_m"
   },
   "outputs": [],
   "source": [
    "for sent in sents:\n",
    "  print(sent)"
   ]
  }
 ],
 "metadata": {
  "colab": {
   "provenance": []
  },
  "kernelspec": {
   "display_name": "Python 3 (ipykernel)",
   "language": "python",
   "name": "python3"
  },
  "language_info": {
   "codemirror_mode": {
    "name": "ipython",
    "version": 3
   },
   "file_extension": ".py",
   "mimetype": "text/x-python",
   "name": "python",
   "nbconvert_exporter": "python",
   "pygments_lexer": "ipython3",
   "version": "3.10.13"
  }
 },
 "nbformat": 4,
 "nbformat_minor": 1
}
