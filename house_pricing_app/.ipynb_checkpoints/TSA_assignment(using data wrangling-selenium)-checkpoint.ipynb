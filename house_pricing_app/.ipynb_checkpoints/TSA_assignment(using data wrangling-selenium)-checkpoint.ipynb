{
 "cells": [
  {
   "cell_type": "code",
   "execution_count": 4,
   "id": "1136cc13",
   "metadata": {},
   "outputs": [],
   "source": [
    "# load packages"
   ]
  },
  {
   "cell_type": "code",
   "execution_count": 5,
   "id": "9cb4dddb",
   "metadata": {},
   "outputs": [],
   "source": [
    "import requests\n",
    "import pandas as pd\n",
    "import time"
   ]
  },
  {
   "cell_type": "code",
   "execution_count": 6,
   "id": "6c4f7a00",
   "metadata": {},
   "outputs": [],
   "source": [
    "from bs4 import BeautifulSoup\n",
    "from selenium import webdriver\n",
    "from selenium.webdriver.common.keys import Keys\n",
    "from selenium.webdriver.chrome.service import Service\n",
    "from selenium.webdriver.common.by import By"
   ]
  },
  {
   "cell_type": "code",
   "execution_count": 7,
   "id": "e5ff2dc6",
   "metadata": {},
   "outputs": [],
   "source": [
    "# install selenium"
   ]
  },
  {
   "cell_type": "code",
   "execution_count": 8,
   "id": "2fd4389a",
   "metadata": {},
   "outputs": [
    {
     "name": "stdout",
     "output_type": "stream",
     "text": [
      "Requirement already satisfied: selenium in c:\\users\\user\\anaconda3\\lib\\site-packages (4.9.1)\n",
      "Requirement already satisfied: urllib3<3,>=1.26 in c:\\users\\user\\anaconda3\\lib\\site-packages (from urllib3[socks]<3,>=1.26->selenium) (1.26.16)\n",
      "Requirement already satisfied: trio~=0.17 in c:\\users\\user\\anaconda3\\lib\\site-packages (from selenium) (0.22.0)\n",
      "Requirement already satisfied: trio-websocket~=0.9 in c:\\users\\user\\anaconda3\\lib\\site-packages (from selenium) (0.10.2)\n",
      "Requirement already satisfied: certifi>=2021.10.8 in c:\\users\\user\\anaconda3\\lib\\site-packages (from selenium) (2023.7.22)\n",
      "Requirement already satisfied: attrs>=19.2.0 in c:\\users\\user\\anaconda3\\lib\\site-packages (from trio~=0.17->selenium) (23.1.0)\n",
      "Requirement already satisfied: sortedcontainers in c:\\users\\user\\anaconda3\\lib\\site-packages (from trio~=0.17->selenium) (2.4.0)\n",
      "Requirement already satisfied: async-generator>=1.9 in c:\\users\\user\\anaconda3\\lib\\site-packages (from trio~=0.17->selenium) (1.10)\n",
      "Requirement already satisfied: idna in c:\\users\\user\\anaconda3\\lib\\site-packages (from trio~=0.17->selenium) (3.4)\n",
      "Requirement already satisfied: outcome in c:\\users\\user\\anaconda3\\lib\\site-packages (from trio~=0.17->selenium) (1.2.0)\n",
      "Requirement already satisfied: sniffio in c:\\users\\user\\anaconda3\\lib\\site-packages (from trio~=0.17->selenium) (1.2.0)\n",
      "Requirement already satisfied: cffi>=1.14 in c:\\users\\user\\anaconda3\\lib\\site-packages (from trio~=0.17->selenium) (1.15.1)\n",
      "Requirement already satisfied: exceptiongroup>=1.0.0rc9 in c:\\users\\user\\anaconda3\\lib\\site-packages (from trio~=0.17->selenium) (1.0.4)\n",
      "Requirement already satisfied: wsproto>=0.14 in c:\\users\\user\\anaconda3\\lib\\site-packages (from trio-websocket~=0.9->selenium) (1.2.0)\n",
      "Requirement already satisfied: PySocks!=1.5.7,<2.0,>=1.5.6 in c:\\users\\user\\anaconda3\\lib\\site-packages (from urllib3[socks]<3,>=1.26->selenium) (1.7.1)\n",
      "Requirement already satisfied: pycparser in c:\\users\\user\\anaconda3\\lib\\site-packages (from cffi>=1.14->trio~=0.17->selenium) (2.21)\n",
      "Requirement already satisfied: h11<1,>=0.9.0 in c:\\users\\user\\anaconda3\\lib\\site-packages (from wsproto>=0.14->trio-websocket~=0.9->selenium) (0.14.0)\n"
     ]
    },
    {
     "name": "stderr",
     "output_type": "stream",
     "text": [
      "WARNING: There was an error checking the latest version of pip.\n"
     ]
    }
   ],
   "source": [
    "!pip install selenium"
   ]
  },
  {
   "cell_type": "code",
   "execution_count": null,
   "id": "11a9c5fb",
   "metadata": {},
   "outputs": [],
   "source": [
    " "
   ]
  },
  {
   "cell_type": "code",
   "execution_count": null,
   "id": "743259cd",
   "metadata": {},
   "outputs": [],
   "source": [
    "# def get_current_url(url, job_title, location):\n",
    "    \n",
    "#     service = Service(executable_path= \"/geckodriver\")\n",
    "#     driver = webdriver.Chrome(service=service)\n",
    "#     driver.get(url)\n",
    "#     time.sleep(3)\n",
    "#     driver.find_element(\"xpath\", '//*[@id=\"text-input-what\"]').send_keys(job_title)\n",
    "#     time.sleep(3)\n",
    "#     driver.find_element(\"xpath\", '//*[@id=\"text-input-where\"]').send_keys(location)\n",
    "#     time.sleep(3)\n",
    "#     driver.find_element(\"xpath\", '/html/body/div\"]').click()\n",
    "#     time.sleep(3)\n",
    "#     try:\n",
    "#         driver.find_element(\"xpath\", '//*[@id=\"jobsearch\"]/button').click()\n",
    "#     except:\n",
    "#         driver.find_element(\"xpath\", '//*[@id=\"=whatWhereFormId\"]/div[3]/button').click()\n",
    "#     current_url = driver.current_url  \n",
    "    \n",
    "#     return current_url\n",
    "\n",
    "# current_url = get_current_url('https://sg.indeed.com/','Data Scientist',\"Singapore\")\n",
    "# print(current_url)    "
   ]
  },
  {
   "cell_type": "code",
   "execution_count": null,
   "id": "333be6f2",
   "metadata": {},
   "outputs": [],
   "source": [
    "def get_current_url(url, job_title, location):\n",
    "    \n",
    "    service = Service(executable_path= \"/geckodriver\")\n",
    "    \n",
    "#     specify path to ChromeDriver executable\n",
    "    driver = webdriver.Chrome(service=service)\n",
    "    \n",
    "    driver.get(url)\n",
    "    time.sleep(3)\n",
    "    driver.find_element(\"xpath\", '//*[@id=\"content\"]/div/div[2]/div/div[1]/div/div/div/input]').send_keys(vid_title)\n",
    "    time.sleep(3)\n",
    "#     driver.find_element(\"xpath\", '//*[@id=\"text-input-where\"]').send_keys(location)\n",
    "#     time.sleep(3)\n",
    "#     driver.find_element(\"xpath\", '/html/body/div\"]').click()\n",
    "#     time.sleep(3)\n",
    "#     try:\n",
    "#         driver.find_element(\"xpath\", '//*[@id=\"jobsearch\"]/button').click()\n",
    "#     except:\n",
    "#         driver.find_element(\"xpath\", '//*[@id=\"=whatWhereFormId\"]/div[3]/button').click()\n",
    "#     current_url = driver.current_url  \n",
    "    \n",
    "#     return current_url\n",
    "\n",
    "# current_url = get_current_url('https://sg.indeed.com/','Data Scientist',\"Singapore\")\n",
    "# print(current_url)"
   ]
  },
  {
   "cell_type": "code",
   "execution_count": null,
   "id": "2e76963a",
   "metadata": {},
   "outputs": [],
   "source": []
  },
  {
   "cell_type": "code",
   "execution_count": null,
   "id": "8d198492",
   "metadata": {},
   "outputs": [],
   "source": [
    "# scraping job details"
   ]
  },
  {
   "cell_type": "code",
   "execution_count": null,
   "id": "a13f2cf6",
   "metadata": {},
   "outputs": [],
   "source": [
    "resp = requests.get(current_url)\n",
    "content = BeautifulSoup(resp.content, 'lxml')\n",
    "\n",
    "print(content)"
   ]
  },
  {
   "cell_type": "code",
   "execution_count": null,
   "id": "9efb0470",
   "metadata": {},
   "outputs": [],
   "source": [
    "def scrape_job_details(url):\n",
    "        service = Service(executable_path= \"/geckodriver\")\n",
    "        driver = webdriver.Firefox(service=service)\n",
    "\n",
    "        driver.get(url)\n",
    "        content = driver.find_elements(BY.CLASS_NAME, 'job_seen_beacon')\n",
    "\n",
    "        jobs_list = []\n",
    "        for post in content:\n",
    "            try:\n",
    "              data = {\n",
    "                  \"job_title\": post.find_element(By.CLASS_NAME, 'jobTitle').text,\n",
    "                  \"company\": post.find_element(By.CLASS_NAME, 'companyName').text,\n",
    "                  \"salary\": post.find_element(By.CLASS_NAME, 'attribut_snippet').text,\n",
    "                  \"location\": post.find_element(By.CLASS_NAME, 'company_location').text,\n",
    "                  \"date\": post.find_element(By.CLASS_NAME, 'date').text,\n",
    "                  \"job_desc\": post.find_element(By.CLASS_NAME, 'job-snippet').text,\n",
    "              } \n",
    "            except IndexError:\n",
    "                continue\n",
    "            jobs_list.appende(data)\n",
    "            \n",
    "        return pd.DataFrame(jobs_list)\n",
    "\n",
    "\n",
    "\n"
   ]
  },
  {
   "cell_type": "code",
   "execution_count": null,
   "id": "d26d2aa2",
   "metadata": {},
   "outputs": [],
   "source": []
  },
  {
   "cell_type": "code",
   "execution_count": null,
   "id": "06d3fd06",
   "metadata": {},
   "outputs": [],
   "source": [
    "df_jobs = scrape_job_details(current_url)\n",
    "df_jobs.to_csv('job.csv', index=False)\n",
    "df_jobs.head()"
   ]
  },
  {
   "cell_type": "code",
   "execution_count": null,
   "id": "8a43b49f",
   "metadata": {},
   "outputs": [],
   "source": []
  },
  {
   "cell_type": "code",
   "execution_count": null,
   "id": "33bf6641",
   "metadata": {},
   "outputs": [],
   "source": [
    "# From crunchyroll searchbar"
   ]
  },
  {
   "cell_type": "code",
   "execution_count": null,
   "id": "03e21df9",
   "metadata": {},
   "outputs": [],
   "source": [
    "# # search bar\n",
    "# //*[@id=\"content\"]/div/div[2]/div/div[1]/div/div/div/input"
   ]
  },
  {
   "cell_type": "code",
   "execution_count": null,
   "id": "d301576f",
   "metadata": {},
   "outputs": [],
   "source": []
  },
  {
   "cell_type": "code",
   "execution_count": null,
   "id": "5d36c3c8",
   "metadata": {},
   "outputs": [],
   "source": []
  },
  {
   "cell_type": "code",
   "execution_count": null,
   "id": "3ed04870",
   "metadata": {},
   "outputs": [],
   "source": [
    "# Below not working"
   ]
  },
  {
   "cell_type": "code",
   "execution_count": null,
   "id": "3358f8d5",
   "metadata": {},
   "outputs": [],
   "source": [
    "# download webdriver"
   ]
  },
  {
   "cell_type": "code",
   "execution_count": null,
   "id": "291c9651",
   "metadata": {},
   "outputs": [],
   "source": [
    "# from time import sleep\n",
    "\n",
    "# from selenium.webdriver.chrome.service import Service\n",
    "# from selenium import webdriver\n",
    "\n",
    "# # this is tested on Firefox or you can use \"webdriver.Chrome()\" or \"webdriver.Edge()\"\n",
    "# service = Service(executable_path=\"/geckodriver\")\n",
    "# browser = webdriver.Firefox(service=service)\n",
    "\n",
    "# browser.get('https://www.nyp.edu.sg/')\n",
    "# sleep(5)\n",
    "# browser.close()"
   ]
  },
  {
   "cell_type": "code",
   "execution_count": null,
   "id": "602ae599",
   "metadata": {},
   "outputs": [],
   "source": []
  },
  {
   "cell_type": "code",
   "execution_count": null,
   "id": "c7bd3602",
   "metadata": {},
   "outputs": [],
   "source": []
  },
  {
   "cell_type": "code",
   "execution_count": null,
   "id": "ad4ee7f5",
   "metadata": {},
   "outputs": [],
   "source": []
  },
  {
   "cell_type": "code",
   "execution_count": null,
   "id": "12b40035",
   "metadata": {},
   "outputs": [],
   "source": []
  },
  {
   "cell_type": "code",
   "execution_count": null,
   "id": "c0bb7e57",
   "metadata": {},
   "outputs": [],
   "source": []
  },
  {
   "cell_type": "code",
   "execution_count": null,
   "id": "24e1b060",
   "metadata": {},
   "outputs": [],
   "source": []
  },
  {
   "cell_type": "code",
   "execution_count": null,
   "id": "a43b199f",
   "metadata": {},
   "outputs": [],
   "source": []
  },
  {
   "cell_type": "code",
   "execution_count": null,
   "id": "450d6aa2",
   "metadata": {},
   "outputs": [],
   "source": []
  },
  {
   "cell_type": "code",
   "execution_count": null,
   "id": "43f9e04d",
   "metadata": {},
   "outputs": [],
   "source": []
  }
 ],
 "metadata": {
  "kernelspec": {
   "display_name": "Python 3 (ipykernel)",
   "language": "python",
   "name": "python3"
  },
  "language_info": {
   "codemirror_mode": {
    "name": "ipython",
    "version": 3
   },
   "file_extension": ".py",
   "mimetype": "text/x-python",
   "name": "python",
   "nbconvert_exporter": "python",
   "pygments_lexer": "ipython3",
   "version": "3.10.13"
  }
 },
 "nbformat": 4,
 "nbformat_minor": 5
}
