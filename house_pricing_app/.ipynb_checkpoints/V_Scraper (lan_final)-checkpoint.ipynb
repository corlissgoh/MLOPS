{
 "cells": [
  {
   "cell_type": "markdown",
   "metadata": {},
   "source": [
    "# Web Scraper for 9Anime"
   ]
  },
  {
   "cell_type": "markdown",
   "metadata": {},
   "source": [
    "### Importing packages"
   ]
  },
  {
   "cell_type": "code",
   "execution_count": 1,
   "metadata": {},
   "outputs": [],
   "source": [
    "import requests\n",
    "from bs4 import BeautifulSoup as bs\n",
    "import pandas as pd"
   ]
  },
  {
   "cell_type": "markdown",
   "metadata": {},
   "source": [
    "### Get links for all animes under each category"
   ]
  },
  {
   "cell_type": "code",
   "execution_count": 2,
   "metadata": {},
   "outputs": [
    {
     "data": {
      "text/plain": [
       "{'Action': 'https://9animetv.to/genre/action',\n",
       " 'Adventure': 'https://9animetv.to/genre/adventure',\n",
       " 'Comedy': 'https://9animetv.to/genre/comedy',\n",
       " 'Romance': 'https://9animetv.to/genre/romance',\n",
       " 'Slice of Life': 'https://9animetv.to/genre/slice-of-life'}"
      ]
     },
     "execution_count": 2,
     "metadata": {},
     "output_type": "execute_result"
    }
   ],
   "source": [
    "# URLs for different anime genres\n",
    "tags = [\"action\", \"adventure\", \"comedy\", \"romance\", \"slice-of-life\"]\n",
    "genres = [\"Action\", \"Adventure\", \"Comedy\", \"Romance\", \"Slice of Life\"]\n",
    "\n",
    "# Base link\n",
    "link = \"https://9animetv.to/genre/{}\"\n",
    "\n",
    "# Making a GET request\n",
    "urls = {}\n",
    "for tag in tags:\n",
    "    formated_url = link.format(tag) \n",
    "    urls[genres[tags.index(tag)]] = formated_url\n",
    "\n",
    "urls"
   ]
  },
  {
   "cell_type": "code",
   "execution_count": null,
   "metadata": {},
   "outputs": [
    {
     "name": "stdout",
     "output_type": "stream",
     "text": [
      "Action: 960\n",
      "Adventure: 960\n",
      "Comedy: 960\n"
     ]
    }
   ],
   "source": [
    "base_url = \"https://9animetv.to\"\n",
    "anime_links = {}\n",
    "\n",
    "# Function to scrape pages (1-15) of each genre\n",
    "def scrape_page(url,num):\n",
    "    url = url + \"?page=\" + str(num)\n",
    "    response = requests.get(url)\n",
    "    html = response.content\n",
    "    soup = bs(html, \"html.parser\")\n",
    "    # Getting all the links for the anime\n",
    "    hrefs = soup.find_all('a', class_=\"dynamic-name\")\n",
    "    for href in hrefs:\n",
    "        link = base_url + href.get('href')\n",
    "        anime_links[genre].append(link)\n",
    "\n",
    "animes =  {}\n",
    "for genre in urls.keys():\n",
    "    anime_links[genre] = []\n",
    "    num = 1\n",
    "    while num <= 15: \n",
    "    # As there are a lot of animes per genre, we will only scrape the first 15 pages of each genre\n",
    "        url = urls[genre]\n",
    "        response = requests.get(url)\n",
    "        html = response.content\n",
    "        soup = bs(html, \"html.parser\")\n",
    "        scrape_page(url,num)\n",
    "        num += 1\n",
    "    anime = pd.DataFrame(anime_links[genre], columns=['link'])\n",
    "    anime['genre'] = genre\n",
    "    animes[genre] = anime\n",
    "    print(f\"{genre}: {len(anime_links[genre])}\")\n",
    "\n",
    "animes.keys()"
   ]
  },
  {
   "cell_type": "code",
   "execution_count": null,
   "metadata": {},
   "outputs": [],
   "source": [
    "animes = pd.concat(animes.values(), ignore_index=True)\n",
    "animes"
   ]
  },
  {
   "cell_type": "code",
   "execution_count": null,
   "metadata": {},
   "outputs": [],
   "source": [
    "# Remove duplicates\n",
    "animes = animes.drop_duplicates(subset=['link'],ignore_index=True,keep='first')\n",
    "animes"
   ]
  },
  {
   "cell_type": "code",
   "execution_count": null,
   "metadata": {},
   "outputs": [],
   "source": [
    "animes['genre'].value_counts().plot(kind='bar')\n"
   ]
  },
  {
   "cell_type": "markdown",
   "metadata": {},
   "source": [
    "### Collecting Anime Title and Description"
   ]
  },
  {
   "cell_type": "code",
   "execution_count": null,
   "metadata": {},
   "outputs": [],
   "source": [
    "titles = []\n",
    "descriptions = []\n",
    "for link in animes['link']:\n",
    "    response = requests.get(link)\n",
    "    html = response.content\n",
    "    soup = bs(html, \"html.parser\")\n",
    "\n",
    "    # Getting the title of the anime\n",
    "    title = soup.select(\"h2.film-name\")[0].get_text().strip()\n",
    "    titles.append(title)\n",
    "    \n",
    "\n",
    "    # Getting the description\n",
    "    description = soup.select(\"p.shorting\")[0].get_text().strip()\n",
    "    descriptions.append(description)\n",
    "\n",
    "animes['title'] = titles\n",
    "animes['description'] = descriptions\n",
    "animes\n"
   ]
  },
  {
   "cell_type": "markdown",
   "metadata": {},
   "source": [
    "### Export to CSV"
   ]
  },
  {
   "cell_type": "code",
   "execution_count": null,
   "metadata": {},
   "outputs": [],
   "source": [
    "animes.to_csv('victor.csv', index=False)\n"
   ]
  }
 ],
 "metadata": {
  "kernelspec": {
   "display_name": "Python 3 (ipykernel)",
   "language": "python",
   "name": "python3"
  },
  "language_info": {
   "codemirror_mode": {
    "name": "ipython",
    "version": 3
   },
   "file_extension": ".py",
   "mimetype": "text/x-python",
   "name": "python",
   "nbconvert_exporter": "python",
   "pygments_lexer": "ipython3",
   "version": "3.10.13"
  }
 },
 "nbformat": 4,
 "nbformat_minor": 2
}
