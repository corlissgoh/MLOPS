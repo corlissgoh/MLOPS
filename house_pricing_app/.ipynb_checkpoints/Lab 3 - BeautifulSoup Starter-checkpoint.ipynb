{
 "cells": [
  {
   "cell_type": "markdown",
   "id": "a994653e",
   "metadata": {},
   "source": [
    "## Web Scraping\n",
    "Web Scraping is the extraction of data from a website, and in this case, the Python library called **Beautiful Soup** will be used. The scraper loads the HTML code of the page the user wants to collect data from, then the scraper will either extract all the data on the page or the user will go through the process of selecting the specific data they want from the page. That is done by looking at the website’s HTML code and selecting the the specific element or tag that the desired information is in. \n",
    "\n",
    "### Data to Scrape\n",
    "In this practical we will look at how to do web scraping on imdb.com to fetch information about movies with different genres using Python BeautifulSoup and requests. IMDB (Internet Movie Database) website is owned by Amazon, is one of the best platforms for finding information about films, television shows, web series, etc.\n",
    "\n",
    "The data that we want to extract from it are:\n",
    "* Movie title\n",
    "* Release date\n",
    "* Genre\n",
    "* Movie length\n",
    "* Movie certification\n",
    "* Rating\n",
    "* Metascore\n",
    "* Description\n",
    "* Votes\n",
    "\n",
    "To extract all of this data, our scrapper will need to go inside each film’s webpage. Now let's start scrapping."
   ]
  },
  {
   "cell_type": "markdown",
   "id": "319c7bef",
   "metadata": {},
   "source": [
    "## Load Libraries\n",
    "Before we begin, we need to import the libraries that will be used for this practical."
   ]
  },
  {
   "cell_type": "code",
   "execution_count": null,
   "id": "0562f384",
   "metadata": {},
   "outputs": [],
   "source": [
    "# Load packages\n",
    "from bs4 import BeautifulSoup\n",
    "import requests\n",
    "import pandas as pd"
   ]
  },
  {
   "cell_type": "markdown",
   "id": "03ab527c",
   "metadata": {},
   "source": [
    "## Getting URLs of different pages\n",
    "The first thing we need to do is to get URLs of different movie genres, for example, the genres include Adventure, Animation, Drama, Comedy, Horror, etc.\n"
   ]
  },
  {
   "cell_type": "code",
   "execution_count": null,
   "id": "945a110a",
   "metadata": {},
   "outputs": [],
   "source": []
  },
  {
   "cell_type": "markdown",
   "id": "25825e7f",
   "metadata": {},
   "source": [
    "## Parsing Movie Information\n",
    "Now let's parse the movie information from IMDB. We will work with one genre first."
   ]
  },
  {
   "cell_type": "code",
   "execution_count": null,
   "id": "99f16127",
   "metadata": {},
   "outputs": [],
   "source": []
  },
  {
   "cell_type": "markdown",
   "id": "f502535b",
   "metadata": {},
   "source": [
    "## Creating a scraping function\n",
    "Now let's create a function that does the same as above but it can be reused several times for different URLs."
   ]
  },
  {
   "cell_type": "code",
   "execution_count": 2,
   "id": "3552d2f1",
   "metadata": {},
   "outputs": [],
   "source": [
    "def get_movies(url):\n",
    "    \n",
    "    resp = request.get(url)\n",
    "    content = BeautifulSoup(resp.content, 'lxml')\n",
    "    \n",
    "    movie_list = []\n",
    "    \n",
    "    for movie in content.select('.lister item-content'):\n",
    "    \n",
    "        try:\n",
    "            # Creating a python dictionary\n",
    "            data = {\n",
    "                \n",
    "                \"title\":movie.select('.lister-item-header')[0].get_text().strip(),\n",
    "                \"year\":movie.select('.lister-item-year')[0].get_text().strip(),\n",
    "                \"certificate\":movie.select('.certificate')[0].get_text().strip(),\n",
    "                \"time\":movie.select('.runtime')[0].get_text().strip(),\n",
    "                \"genre\":movie.select('.genre')[0].get_text().strip(),\n",
    "                \"rating\":movie.select('.ratings-imdb-rating')[0].get_text().strip(),\n",
    "                \"metascore\":movie.select('.ratings-metascore')[0].get_text().strip(),\n",
    "                \"simple_desc\":movie.select('.text-muted')[2].get_text().strip(),\n",
    "                \"votes\":movie.select('.sort-num_votes-visible')[0].get_text().strip(),\n",
    "                \n",
    "            }\n",
    "        except IndexError:\n",
    "            continue\n",
    "            \n",
    "        movie_list.append(data)\n",
    "        \n",
    "    return pd.DataFrame(movie_list)"
   ]
  },
  {
   "cell_type": "code",
   "execution_count": 3,
   "id": "63f3df5c",
   "metadata": {},
   "outputs": [
    {
     "ename": "SyntaxError",
     "evalue": "invalid syntax (1305497275.py, line 1)",
     "output_type": "error",
     "traceback": [
      "\u001b[1;36m  Cell \u001b[1;32mIn[3], line 1\u001b[1;36m\u001b[0m\n\u001b[1;33m    :\u001b[0m\n\u001b[1;37m    ^\u001b[0m\n\u001b[1;31mSyntaxError\u001b[0m\u001b[1;31m:\u001b[0m invalid syntax\n"
     ]
    }
   ],
   "source": [
    ":"
   ]
  },
  {
   "cell_type": "markdown",
   "id": "024780e9",
   "metadata": {},
   "source": [
    "## Scraping movies of different genres\n",
    "The **get_movies()** function we write above can parse details from the IMDB web page of different genre URLs and can save them as a CSV file. So by using this function it is possible to scrape all genres that can be saved as separate CSV files. So let's see how this can be done."
   ]
  },
  {
   "cell_type": "code",
   "execution_count": null,
   "id": "19189091",
   "metadata": {},
   "outputs": [],
   "source": []
  },
  {
   "cell_type": "code",
   "execution_count": null,
   "id": "b7401e3b",
   "metadata": {},
   "outputs": [],
   "source": []
  }
 ],
 "metadata": {
  "kernelspec": {
   "display_name": "Python 3 (ipykernel)",
   "language": "python",
   "name": "python3"
  },
  "language_info": {
   "codemirror_mode": {
    "name": "ipython",
    "version": 3
   },
   "file_extension": ".py",
   "mimetype": "text/x-python",
   "name": "python",
   "nbconvert_exporter": "python",
   "pygments_lexer": "ipython3",
   "version": "3.10.9"
  }
 },
 "nbformat": 4,
 "nbformat_minor": 5
}
