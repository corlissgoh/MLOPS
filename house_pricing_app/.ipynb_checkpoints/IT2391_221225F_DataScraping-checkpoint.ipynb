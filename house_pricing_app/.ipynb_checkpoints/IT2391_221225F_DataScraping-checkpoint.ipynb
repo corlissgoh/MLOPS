{
 "cells": [
  {
   "cell_type": "markdown",
   "metadata": {},
   "source": [
    "# Web Scraper for animeultima"
   ]
  },
  {
   "cell_type": "markdown",
   "metadata": {},
   "source": [
    "### Importing packages"
   ]
  },
  {
   "cell_type": "code",
   "execution_count": 1,
   "metadata": {},
   "outputs": [],
   "source": [
    "import requests\n",
    "from bs4 import BeautifulSoup as bs\n",
    "import pandas as pd"
   ]
  },
  {
   "cell_type": "code",
   "execution_count": null,
   "metadata": {},
   "outputs": [],
   "source": [
    "Note: site being scraped could be a phishinng site"
   ]
  },
  {
   "cell_type": "code",
   "execution_count": null,
   "metadata": {},
   "outputs": [],
   "source": []
  },
  {
   "cell_type": "markdown",
   "metadata": {},
   "source": [
    "### Get links for all animes under each category"
   ]
  },
  {
   "cell_type": "code",
   "execution_count": 2,
   "metadata": {},
   "outputs": [
    {
     "data": {
      "text/plain": [
       "{'Action': 'https://animeultima.su/genres/action',\n",
       " 'Adventure': 'https://animeultima.su/genres/adventure',\n",
       " 'Comedy': 'https://animeultima.su/genres/comedy',\n",
       " 'Romance': 'https://animeultima.su/genres/romance',\n",
       " 'Slice of Life': 'https://animeultima.su/genres/slice-of-life'}"
      ]
     },
     "execution_count": 2,
     "metadata": {},
     "output_type": "execute_result"
    }
   ],
   "source": [
    "# URLs for different anime genres\n",
    "tags = [\"action\", \"adventure\", \"comedy\", \"romance\", \"slice-of-life\"]\n",
    "genres = [\"Action\", \"Adventure\", \"Comedy\", \"Romance\", \"Slice of Life\"]\n",
    "\n",
    "# Base link\n",
    "link = \"https://animeultima.su/genres/{}\"\n",
    "\n",
    "# Making a GET request\n",
    "urls = {}\n",
    "for tag in tags:\n",
    "    formated_url = link.format(tag) \n",
    "    urls[genres[tags.index(tag)]] = formated_url\n",
    "\n",
    "urls"
   ]
  },
  {
   "cell_type": "code",
   "execution_count": 7,
   "metadata": {},
   "outputs": [
    {
     "name": "stdout",
     "output_type": "stream",
     "text": [
      "Action: 0\n",
      "Adventure: 0\n",
      "Comedy: 0\n",
      "Romance: 0\n",
      "Slice of Life: 0\n"
     ]
    },
    {
     "data": {
      "text/plain": [
       "dict_keys(['Action', 'Adventure', 'Comedy', 'Romance', 'Slice of Life'])"
      ]
     },
     "execution_count": 7,
     "metadata": {},
     "output_type": "execute_result"
    }
   ],
   "source": [
    "base_url = \"https://animeultima.su\"\n",
    "anime_links = {}\n",
    "\n",
    "# Function to scrape pages (1-15) of each genre\n",
    "def scrape_page(url,num):\n",
    "    url = url + \"?page=\" + str(num)\n",
    "    response = requests.get(url)\n",
    "    html = response.content\n",
    "    soup = bs(html, \"html.parser\")\n",
    "    # Getting all the links for the anime\n",
    "    hrefs = soup.find_all('a', class_=\"dynamic-name\")\n",
    "    for href in hrefs:\n",
    "        link = base_url + href.get('href')\n",
    "        anime_links[genre].append(link)\n",
    "\n",
    "animes =  {}\n",
    "for genre in urls.keys():\n",
    "    anime_links[genre] = []\n",
    "    num = 1\n",
    "    while num <= 15: \n",
    "    # As there are a lot of animes per genre, we will only scrape the first 15 pages of each genre\n",
    "        url = urls[genre]\n",
    "        response = requests.get(url)\n",
    "        html = response.content\n",
    "        soup = bs(html, \"html.parser\")\n",
    "        scrape_page(url,num)\n",
    "        num += 1\n",
    "    anime = pd.DataFrame(anime_links[genre], columns=['link'])\n",
    "    anime['genre'] = genre\n",
    "    animes[genre] = anime\n",
    "    print(f\"{genre}: {len(anime_links[genre])}\")\n",
    "\n",
    "animes.keys()"
   ]
  },
  {
   "cell_type": "code",
   "execution_count": 4,
   "metadata": {},
   "outputs": [],
   "source": [
    "# import requests\n",
    "# from bs4 import BeautifulSoup\n",
    "\n",
    "# base_url = \"https://animeultima.su\"\n",
    "# anime_links = {}\n",
    "\n",
    "# # Replace this with the a ctual URL of the page containing anime links\n",
    "# url = \"https://animeultima.su/genre\"\n",
    "\n",
    "# # Send a GET request to the URL\n",
    "# response = requests.get(url)\n",
    "\n",
    "# if response.status_code == 200:\n",
    "#     # Parse the HTML content\n",
    "#     soup = BeautifulSoup(response.content, 'html.parser')\n",
    "\n",
    "#     # Extract anime links (this is just a basic example, you might need to inspect the HTML structure)\n",
    "#     anime_elements = soup.find_all('a', class_='anime-title')\n",
    "    \n",
    "#     for anime_element in anime_elements:\n",
    "#         anime_name = anime_element.text.strip()\n",
    "#         anime_url = base_url + anime_element['href']\n",
    "#         anime_links[anime_name] = anime_url\n",
    "\n",
    "#     # Display the dictionary of anime links\n",
    "#     print(anime_links)\n",
    "# else:\n",
    "#     print(f\"Failed to fetch the page. Status code: {response.status_code}\")\n"
   ]
  },
  {
   "cell_type": "code",
   "execution_count": 5,
   "metadata": {},
   "outputs": [
    {
     "ename": "NameError",
     "evalue": "name 'animes' is not defined",
     "output_type": "error",
     "traceback": [
      "\u001b[1;31m---------------------------------------------------------------------------\u001b[0m",
      "\u001b[1;31mNameError\u001b[0m                                 Traceback (most recent call last)",
      "Cell \u001b[1;32mIn[5], line 1\u001b[0m\n\u001b[1;32m----> 1\u001b[0m animes \u001b[38;5;241m=\u001b[39m pd\u001b[38;5;241m.\u001b[39mconcat(\u001b[43manimes\u001b[49m\u001b[38;5;241m.\u001b[39mvalues(), ignore_index\u001b[38;5;241m=\u001b[39m\u001b[38;5;28;01mTrue\u001b[39;00m)\n\u001b[0;32m      2\u001b[0m animes\n",
      "\u001b[1;31mNameError\u001b[0m: name 'animes' is not defined"
     ]
    }
   ],
   "source": [
    "animes = pd.concat(animes.values(), ignore_index=True)\n",
    "animes"
   ]
  },
  {
   "cell_type": "code",
   "execution_count": null,
   "metadata": {},
   "outputs": [],
   "source": [
    "# Remove duplicates\n",
    "animes = animes.drop_duplicates(subset=['link'],ignore_index=True,keep='first')\n",
    "animes"
   ]
  },
  {
   "cell_type": "code",
   "execution_count": null,
   "metadata": {},
   "outputs": [],
   "source": [
    "animes['genre'].value_counts().plot(kind='bar')\n"
   ]
  },
  {
   "cell_type": "markdown",
   "metadata": {},
   "source": [
    "### Collecting Anime Title and Description"
   ]
  },
  {
   "cell_type": "code",
   "execution_count": null,
   "metadata": {},
   "outputs": [],
   "source": [
    "titles = []\n",
    "descriptions = []\n",
    "for link in animes['link']:\n",
    "    response = requests.get(link)\n",
    "    html = response.content\n",
    "    soup = bs(html, \"html.parser\")\n",
    "\n",
    "    # Getting the title of the anime\n",
    "    title = soup.select(\"h2.film-name\")[0].get_text().strip()\n",
    "    titles.append(title)\n",
    "    \n",
    "\n",
    "    # Getting the description\n",
    "    description = soup.select(\"p.shorting\")[0].get_text().strip()\n",
    "    descriptions.append(description)\n",
    "\n",
    "animes['title'] = titles\n",
    "animes['description'] = descriptions\n",
    "animes\n"
   ]
  },
  {
   "cell_type": "markdown",
   "metadata": {},
   "source": [
    "### Export to CSV"
   ]
  },
  {
   "cell_type": "code",
   "execution_count": null,
   "metadata": {},
   "outputs": [],
   "source": [
    "animes.to_csv('victor.csv', index=False)\n"
   ]
  }
 ],
 "metadata": {
  "kernelspec": {
   "display_name": "Python 3 (ipykernel)",
   "language": "python",
   "name": "python3"
  },
  "language_info": {
   "codemirror_mode": {
    "name": "ipython",
    "version": 3
   },
   "file_extension": ".py",
   "mimetype": "text/x-python",
   "name": "python",
   "nbconvert_exporter": "python",
   "pygments_lexer": "ipython3",
   "version": "3.10.13"
  }
 },
 "nbformat": 4,
 "nbformat_minor": 2
}
