{
 "cells": [
  {
   "cell_type": "markdown",
   "id": "ce8d0704",
   "metadata": {},
   "source": [
    "# IT2381 Practical Test\n",
    "Done by Admin No: 221225F\n",
    "\n",
    "### Import the necessary libraries"
   ]
  },
  {
   "cell_type": "code",
   "execution_count": null,
   "id": "9d1b6636",
   "metadata": {},
   "outputs": [],
   "source": [
    "i"
   ]
  },
  {
   "cell_type": "markdown",
   "id": "31ebe885",
   "metadata": {},
   "source": [
    "### URL for the webpage"
   ]
  },
  {
   "cell_type": "code",
   "execution_count": null,
   "id": "43f312de",
   "metadata": {},
   "outputs": [],
   "source": [
    "url =\"\""
   ]
  },
  {
   "cell_type": "markdown",
   "id": "1fe2e649",
   "metadata": {},
   "source": [
    "### Retrieve Page HTML content"
   ]
  },
  {
   "cell_type": "code",
   "execution_count": null,
   "id": "7a586366",
   "metadata": {},
   "outputs": [],
   "source": []
  },
  {
   "cell_type": "markdown",
   "id": "60d43dee",
   "metadata": {},
   "source": [
    "### Parse and Extract HTML content\n",
    "Extract the name, price, old price and specifications of all the products in the page. You are required to handle the empty value and replace it with 'NA' in your output."
   ]
  },
  {
   "cell_type": "code",
   "execution_count": null,
   "id": "f1a8b285",
   "metadata": {},
   "outputs": [],
   "source": []
  },
  {
   "cell_type": "markdown",
   "id": "b02030b6",
   "metadata": {},
   "source": [
    "### Save extracted content\n",
    "Save the extracted data to a CSV without the index. Name the CSV with this format: **AdminNo_brand.csv**."
   ]
  },
  {
   "cell_type": "code",
   "execution_count": null,
   "id": "47880d95",
   "metadata": {},
   "outputs": [],
   "source": []
  }
 ],
 "metadata": {
  "kernelspec": {
   "display_name": "Python 3 (ipykernel)",
   "language": "python",
   "name": "python3"
  },
  "language_info": {
   "codemirror_mode": {
    "name": "ipython",
    "version": 3
   },
   "file_extension": ".py",
   "mimetype": "text/x-python",
   "name": "python",
   "nbconvert_exporter": "python",
   "pygments_lexer": "ipython3",
   "version": "3.10.9"
  }
 },
 "nbformat": 4,
 "nbformat_minor": 5
}
