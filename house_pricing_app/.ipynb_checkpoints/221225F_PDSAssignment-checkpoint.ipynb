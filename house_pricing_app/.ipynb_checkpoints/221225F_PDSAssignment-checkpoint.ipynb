{
 "cells": [
  {
   "cell_type": "markdown",
   "metadata": {},
   "source": [
    "## Name:"
   ]
  },
  {
   "cell_type": "code",
   "execution_count": 1,
   "metadata": {},
   "outputs": [],
   "source": [
    "# Victor Hoan"
   ]
  },
  {
   "cell_type": "markdown",
   "metadata": {},
   "source": [
    "## Admin Number:"
   ]
  },
  {
   "cell_type": "code",
   "execution_count": 2,
   "metadata": {},
   "outputs": [],
   "source": [
    "# 221225F "
   ]
  },
  {
   "cell_type": "markdown",
   "metadata": {},
   "source": [
    "## Brief Overview (provide your video link here too)"
   ]
  },
  {
   "cell_type": "code",
   "execution_count": 3,
   "metadata": {},
   "outputs": [],
   "source": [
    "# AIM:\n",
    "# predict whether a fitness club member will or will not attend class, so club can make another space available."
   ]
  },
  {
   "cell_type": "markdown",
   "metadata": {},
   "source": [
    "<a id='table_of_contents'></a>\n",
    "\n",
    "1. [Import libraries](#imports)\n",
    "2. [Import data](#import_data)\n",
    "3. [Data exploration](#data_exploration)\n",
    "4. [Data cleaning and preparation](#data_cleaning)\n",
    "5. [Model training](#model_training)<br>\n",
    "6. [Tuning](#tuning)<br>\n",
    "7. [Validation](#validation)<br>"
   ]
  },
  {
   "cell_type": "markdown",
   "metadata": {},
   "source": [
    "# 1. Import libraries <a id='imports'></a>\n",
    "[Back to top](#table_of_contents)"
   ]
  },
  {
   "cell_type": "code",
   "execution_count": 4,
   "metadata": {},
   "outputs": [],
   "source": [
    "# Libraries to help with reading and manipulating data\n",
    "import numpy as np\n",
    "import pandas as pd\n",
    "\n",
    "# Libraries to help with data visualization\n",
    "import matplotlib.pyplot as plt\n",
    "import seaborn as sns\n",
    "import random\n",
    "from scipy.stats import skew\n",
    "\n",
    "# Current version of Seaborn generates a bunch of warnings that we'll ignore in this tutorial\n",
    "import warnings\n",
    "warnings.filterwarnings(\"ignore\")\n",
    "\n",
    "# Command to tell Python to actually display the graphs\n",
    "%matplotlib inline\n",
    "sns.set()"
   ]
  },
  {
   "cell_type": "code",
   "execution_count": 5,
   "metadata": {},
   "outputs": [],
   "source": [
    "from sklearn.preprocessing import MinMaxScaler, StandardScaler, RobustScaler, MaxAbsScaler\n",
    "from sklearn.tree import DecisionTreeRegressor\n",
    "from sklearn.linear_model import LinearRegression\n",
    "from sklearn.ensemble import RandomForestRegressor, GradientBoostingRegressor\n",
    "from sklearn.model_selection import train_test_split, GridSearchCV\n",
    "from sklearn.metrics import mean_squared_error, r2_score, mean_absolute_error, mean_squared_error\n"
   ]
  },
  {
   "cell_type": "code",
   "execution_count": 6,
   "metadata": {},
   "outputs": [],
   "source": [
    "from sklearn.linear_model import LogisticRegression\n",
    "from sklearn.neighbors import KNeighborsClassifier\n",
    "from sklearn.svm import SVC\n",
    "from sklearn.model_selection import RandomizedSearchCV\n",
    "from sklearn.model_selection import train_test_split\n",
    "from sklearn.preprocessing import StandardScaler\n",
    "from sklearn.tree import DecisionTreeClassifier\n",
    "from sklearn.ensemble import RandomForestClassifier, AdaBoostClassifier, GradientBoostingClassifier\n",
    "from sklearn.metrics import classification_report, confusion_matrix, roc_curve, auc"
   ]
  },
  {
   "cell_type": "markdown",
   "metadata": {},
   "source": [
    "# 2. Import data <a id='import_data'></a>\n",
    "[Back to top](#table_of_contents)"
   ]
  },
  {
   "cell_type": "code",
   "execution_count": 7,
   "metadata": {},
   "outputs": [],
   "source": [
    "fitness_df = pd.read_csv('fitness_class.csv')"
   ]
  },
  {
   "cell_type": "code",
   "execution_count": null,
   "metadata": {},
   "outputs": [],
   "source": []
  },
  {
   "cell_type": "code",
   "execution_count": null,
   "metadata": {},
   "outputs": [],
   "source": []
  },
  {
   "cell_type": "code",
   "execution_count": 8,
   "metadata": {},
   "outputs": [
    {
     "data": {
      "text/html": [
       "<div>\n",
       "<style scoped>\n",
       "    .dataframe tbody tr th:only-of-type {\n",
       "        vertical-align: middle;\n",
       "    }\n",
       "\n",
       "    .dataframe tbody tr th {\n",
       "        vertical-align: top;\n",
       "    }\n",
       "\n",
       "    .dataframe thead th {\n",
       "        text-align: right;\n",
       "    }\n",
       "</style>\n",
       "<table border=\"1\" class=\"dataframe\">\n",
       "  <thead>\n",
       "    <tr style=\"text-align: right;\">\n",
       "      <th></th>\n",
       "      <th>booking_id</th>\n",
       "      <th>months_as_member</th>\n",
       "      <th>weight</th>\n",
       "      <th>days_before</th>\n",
       "      <th>day_of_week</th>\n",
       "      <th>time</th>\n",
       "      <th>category</th>\n",
       "      <th>attended</th>\n",
       "    </tr>\n",
       "  </thead>\n",
       "  <tbody>\n",
       "    <tr>\n",
       "      <th>0</th>\n",
       "      <td>1</td>\n",
       "      <td>17</td>\n",
       "      <td>79.56</td>\n",
       "      <td>8</td>\n",
       "      <td>Wed</td>\n",
       "      <td>PM</td>\n",
       "      <td>Strength</td>\n",
       "      <td>0</td>\n",
       "    </tr>\n",
       "    <tr>\n",
       "      <th>1</th>\n",
       "      <td>2</td>\n",
       "      <td>10</td>\n",
       "      <td>79.01</td>\n",
       "      <td>2</td>\n",
       "      <td>Mon</td>\n",
       "      <td>AM</td>\n",
       "      <td>HIIT</td>\n",
       "      <td>0</td>\n",
       "    </tr>\n",
       "    <tr>\n",
       "      <th>2</th>\n",
       "      <td>3</td>\n",
       "      <td>16</td>\n",
       "      <td>74.53</td>\n",
       "      <td>14</td>\n",
       "      <td>Sun</td>\n",
       "      <td>AM</td>\n",
       "      <td>Strength</td>\n",
       "      <td>0</td>\n",
       "    </tr>\n",
       "    <tr>\n",
       "      <th>3</th>\n",
       "      <td>4</td>\n",
       "      <td>5</td>\n",
       "      <td>86.12</td>\n",
       "      <td>10</td>\n",
       "      <td>Fri</td>\n",
       "      <td>AM</td>\n",
       "      <td>Cycling</td>\n",
       "      <td>0</td>\n",
       "    </tr>\n",
       "    <tr>\n",
       "      <th>4</th>\n",
       "      <td>5</td>\n",
       "      <td>15</td>\n",
       "      <td>69.29</td>\n",
       "      <td>8</td>\n",
       "      <td>Thu</td>\n",
       "      <td>AM</td>\n",
       "      <td>HIIT</td>\n",
       "      <td>0</td>\n",
       "    </tr>\n",
       "    <tr>\n",
       "      <th>...</th>\n",
       "      <td>...</td>\n",
       "      <td>...</td>\n",
       "      <td>...</td>\n",
       "      <td>...</td>\n",
       "      <td>...</td>\n",
       "      <td>...</td>\n",
       "      <td>...</td>\n",
       "      <td>...</td>\n",
       "    </tr>\n",
       "    <tr>\n",
       "      <th>1495</th>\n",
       "      <td>1496</td>\n",
       "      <td>21</td>\n",
       "      <td>79.51</td>\n",
       "      <td>10</td>\n",
       "      <td>Fri</td>\n",
       "      <td>AM</td>\n",
       "      <td>HIIT</td>\n",
       "      <td>0</td>\n",
       "    </tr>\n",
       "    <tr>\n",
       "      <th>1496</th>\n",
       "      <td>1497</td>\n",
       "      <td>29</td>\n",
       "      <td>89.55</td>\n",
       "      <td>2</td>\n",
       "      <td>Mon</td>\n",
       "      <td>AM</td>\n",
       "      <td>Strength</td>\n",
       "      <td>0</td>\n",
       "    </tr>\n",
       "    <tr>\n",
       "      <th>1497</th>\n",
       "      <td>1498</td>\n",
       "      <td>9</td>\n",
       "      <td>87.38</td>\n",
       "      <td>4</td>\n",
       "      <td>Tue</td>\n",
       "      <td>AM</td>\n",
       "      <td>HIIT</td>\n",
       "      <td>0</td>\n",
       "    </tr>\n",
       "    <tr>\n",
       "      <th>1498</th>\n",
       "      <td>1499</td>\n",
       "      <td>34</td>\n",
       "      <td>68.64</td>\n",
       "      <td>14</td>\n",
       "      <td>Sun</td>\n",
       "      <td>AM</td>\n",
       "      <td>Aqua</td>\n",
       "      <td>0</td>\n",
       "    </tr>\n",
       "    <tr>\n",
       "      <th>1499</th>\n",
       "      <td>1500</td>\n",
       "      <td>20</td>\n",
       "      <td>94.39</td>\n",
       "      <td>8</td>\n",
       "      <td>Thu</td>\n",
       "      <td>AM</td>\n",
       "      <td>Cycling</td>\n",
       "      <td>1</td>\n",
       "    </tr>\n",
       "  </tbody>\n",
       "</table>\n",
       "<p>1500 rows × 8 columns</p>\n",
       "</div>"
      ],
      "text/plain": [
       "      booking_id  months_as_member  weight days_before day_of_week time  \\\n",
       "0              1                17   79.56           8         Wed   PM   \n",
       "1              2                10   79.01           2         Mon   AM   \n",
       "2              3                16   74.53          14         Sun   AM   \n",
       "3              4                 5   86.12          10         Fri   AM   \n",
       "4              5                15   69.29           8         Thu   AM   \n",
       "...          ...               ...     ...         ...         ...  ...   \n",
       "1495        1496                21   79.51          10         Fri   AM   \n",
       "1496        1497                29   89.55           2         Mon   AM   \n",
       "1497        1498                 9   87.38           4         Tue   AM   \n",
       "1498        1499                34   68.64          14         Sun   AM   \n",
       "1499        1500                20   94.39           8         Thu   AM   \n",
       "\n",
       "      category  attended  \n",
       "0     Strength         0  \n",
       "1         HIIT         0  \n",
       "2     Strength         0  \n",
       "3      Cycling         0  \n",
       "4         HIIT         0  \n",
       "...        ...       ...  \n",
       "1495      HIIT         0  \n",
       "1496  Strength         0  \n",
       "1497      HIIT         0  \n",
       "1498      Aqua         0  \n",
       "1499   Cycling         1  \n",
       "\n",
       "[1500 rows x 8 columns]"
      ]
     },
     "execution_count": 8,
     "metadata": {},
     "output_type": "execute_result"
    }
   ],
   "source": [
    "# copy of original fitness\n",
    "orig_fitness_df = fitness_df\n",
    "orig_fitness_df\n",
    "\n"
   ]
  },
  {
   "cell_type": "code",
   "execution_count": null,
   "metadata": {},
   "outputs": [],
   "source": []
  },
  {
   "cell_type": "markdown",
   "metadata": {},
   "source": [
    "# 3. Data exploration <a id='data_exploration'></a>\n",
    "[Back to top](#table_of_contents)"
   ]
  },
  {
   "cell_type": "code",
   "execution_count": 9,
   "metadata": {
    "scrolled": true
   },
   "outputs": [
    {
     "data": {
      "text/html": [
       "<div>\n",
       "<style scoped>\n",
       "    .dataframe tbody tr th:only-of-type {\n",
       "        vertical-align: middle;\n",
       "    }\n",
       "\n",
       "    .dataframe tbody tr th {\n",
       "        vertical-align: top;\n",
       "    }\n",
       "\n",
       "    .dataframe thead th {\n",
       "        text-align: right;\n",
       "    }\n",
       "</style>\n",
       "<table border=\"1\" class=\"dataframe\">\n",
       "  <thead>\n",
       "    <tr style=\"text-align: right;\">\n",
       "      <th></th>\n",
       "      <th>booking_id</th>\n",
       "      <th>months_as_member</th>\n",
       "      <th>weight</th>\n",
       "      <th>days_before</th>\n",
       "      <th>day_of_week</th>\n",
       "      <th>time</th>\n",
       "      <th>category</th>\n",
       "      <th>attended</th>\n",
       "    </tr>\n",
       "  </thead>\n",
       "  <tbody>\n",
       "    <tr>\n",
       "      <th>0</th>\n",
       "      <td>1</td>\n",
       "      <td>17</td>\n",
       "      <td>79.56</td>\n",
       "      <td>8</td>\n",
       "      <td>Wed</td>\n",
       "      <td>PM</td>\n",
       "      <td>Strength</td>\n",
       "      <td>0</td>\n",
       "    </tr>\n",
       "    <tr>\n",
       "      <th>1</th>\n",
       "      <td>2</td>\n",
       "      <td>10</td>\n",
       "      <td>79.01</td>\n",
       "      <td>2</td>\n",
       "      <td>Mon</td>\n",
       "      <td>AM</td>\n",
       "      <td>HIIT</td>\n",
       "      <td>0</td>\n",
       "    </tr>\n",
       "    <tr>\n",
       "      <th>2</th>\n",
       "      <td>3</td>\n",
       "      <td>16</td>\n",
       "      <td>74.53</td>\n",
       "      <td>14</td>\n",
       "      <td>Sun</td>\n",
       "      <td>AM</td>\n",
       "      <td>Strength</td>\n",
       "      <td>0</td>\n",
       "    </tr>\n",
       "    <tr>\n",
       "      <th>3</th>\n",
       "      <td>4</td>\n",
       "      <td>5</td>\n",
       "      <td>86.12</td>\n",
       "      <td>10</td>\n",
       "      <td>Fri</td>\n",
       "      <td>AM</td>\n",
       "      <td>Cycling</td>\n",
       "      <td>0</td>\n",
       "    </tr>\n",
       "    <tr>\n",
       "      <th>4</th>\n",
       "      <td>5</td>\n",
       "      <td>15</td>\n",
       "      <td>69.29</td>\n",
       "      <td>8</td>\n",
       "      <td>Thu</td>\n",
       "      <td>AM</td>\n",
       "      <td>HIIT</td>\n",
       "      <td>0</td>\n",
       "    </tr>\n",
       "    <tr>\n",
       "      <th>5</th>\n",
       "      <td>6</td>\n",
       "      <td>7</td>\n",
       "      <td>93.33</td>\n",
       "      <td>2</td>\n",
       "      <td>Mon</td>\n",
       "      <td>AM</td>\n",
       "      <td>Cycling</td>\n",
       "      <td>0</td>\n",
       "    </tr>\n",
       "    <tr>\n",
       "      <th>6</th>\n",
       "      <td>7</td>\n",
       "      <td>11</td>\n",
       "      <td>88.59</td>\n",
       "      <td>6</td>\n",
       "      <td>Wednesday</td>\n",
       "      <td>PM</td>\n",
       "      <td>HIIT</td>\n",
       "      <td>0</td>\n",
       "    </tr>\n",
       "    <tr>\n",
       "      <th>7</th>\n",
       "      <td>8</td>\n",
       "      <td>9</td>\n",
       "      <td>89.52</td>\n",
       "      <td>10</td>\n",
       "      <td>Fri</td>\n",
       "      <td>AM</td>\n",
       "      <td>HIIT</td>\n",
       "      <td>0</td>\n",
       "    </tr>\n",
       "    <tr>\n",
       "      <th>8</th>\n",
       "      <td>9</td>\n",
       "      <td>23</td>\n",
       "      <td>71.12</td>\n",
       "      <td>10</td>\n",
       "      <td>Fri.</td>\n",
       "      <td>AM</td>\n",
       "      <td>HIIT</td>\n",
       "      <td>1</td>\n",
       "    </tr>\n",
       "    <tr>\n",
       "      <th>9</th>\n",
       "      <td>10</td>\n",
       "      <td>7</td>\n",
       "      <td>81.25</td>\n",
       "      <td>10</td>\n",
       "      <td>Fri</td>\n",
       "      <td>AM</td>\n",
       "      <td>HIIT</td>\n",
       "      <td>0</td>\n",
       "    </tr>\n",
       "    <tr>\n",
       "      <th>10</th>\n",
       "      <td>11</td>\n",
       "      <td>13</td>\n",
       "      <td>73.22</td>\n",
       "      <td>4</td>\n",
       "      <td>Tue</td>\n",
       "      <td>AM</td>\n",
       "      <td>Cycling</td>\n",
       "      <td>0</td>\n",
       "    </tr>\n",
       "    <tr>\n",
       "      <th>11</th>\n",
       "      <td>12</td>\n",
       "      <td>16</td>\n",
       "      <td>86.86</td>\n",
       "      <td>10</td>\n",
       "      <td>Fri</td>\n",
       "      <td>AM</td>\n",
       "      <td>Cycling</td>\n",
       "      <td>0</td>\n",
       "    </tr>\n",
       "    <tr>\n",
       "      <th>12</th>\n",
       "      <td>13</td>\n",
       "      <td>16</td>\n",
       "      <td>71.70</td>\n",
       "      <td>14</td>\n",
       "      <td>Sun</td>\n",
       "      <td>AM</td>\n",
       "      <td>Strength</td>\n",
       "      <td>1</td>\n",
       "    </tr>\n",
       "    <tr>\n",
       "      <th>13</th>\n",
       "      <td>14</td>\n",
       "      <td>8</td>\n",
       "      <td>81.32</td>\n",
       "      <td>4</td>\n",
       "      <td>Tue</td>\n",
       "      <td>AM</td>\n",
       "      <td>Cycling</td>\n",
       "      <td>0</td>\n",
       "    </tr>\n",
       "    <tr>\n",
       "      <th>14</th>\n",
       "      <td>15</td>\n",
       "      <td>9</td>\n",
       "      <td>77.35</td>\n",
       "      <td>10</td>\n",
       "      <td>Fri</td>\n",
       "      <td>AM</td>\n",
       "      <td>Cycling</td>\n",
       "      <td>0</td>\n",
       "    </tr>\n",
       "    <tr>\n",
       "      <th>15</th>\n",
       "      <td>16</td>\n",
       "      <td>9</td>\n",
       "      <td>82.42</td>\n",
       "      <td>14</td>\n",
       "      <td>Sun</td>\n",
       "      <td>AM</td>\n",
       "      <td>HIIT</td>\n",
       "      <td>1</td>\n",
       "    </tr>\n",
       "    <tr>\n",
       "      <th>16</th>\n",
       "      <td>17</td>\n",
       "      <td>22</td>\n",
       "      <td>69.52</td>\n",
       "      <td>14</td>\n",
       "      <td>Sun</td>\n",
       "      <td>AM</td>\n",
       "      <td>Strength</td>\n",
       "      <td>1</td>\n",
       "    </tr>\n",
       "    <tr>\n",
       "      <th>17</th>\n",
       "      <td>18</td>\n",
       "      <td>6</td>\n",
       "      <td>79.01</td>\n",
       "      <td>9</td>\n",
       "      <td>Thu</td>\n",
       "      <td>PM</td>\n",
       "      <td>Yoga</td>\n",
       "      <td>0</td>\n",
       "    </tr>\n",
       "    <tr>\n",
       "      <th>18</th>\n",
       "      <td>19</td>\n",
       "      <td>33</td>\n",
       "      <td>81.55</td>\n",
       "      <td>8</td>\n",
       "      <td>Thu</td>\n",
       "      <td>AM</td>\n",
       "      <td>Cycling</td>\n",
       "      <td>1</td>\n",
       "    </tr>\n",
       "    <tr>\n",
       "      <th>19</th>\n",
       "      <td>20</td>\n",
       "      <td>10</td>\n",
       "      <td>72.93</td>\n",
       "      <td>4</td>\n",
       "      <td>Tue</td>\n",
       "      <td>AM</td>\n",
       "      <td>Cycling</td>\n",
       "      <td>1</td>\n",
       "    </tr>\n",
       "  </tbody>\n",
       "</table>\n",
       "</div>"
      ],
      "text/plain": [
       "    booking_id  months_as_member  weight days_before day_of_week time  \\\n",
       "0            1                17   79.56           8         Wed   PM   \n",
       "1            2                10   79.01           2         Mon   AM   \n",
       "2            3                16   74.53          14         Sun   AM   \n",
       "3            4                 5   86.12          10         Fri   AM   \n",
       "4            5                15   69.29           8         Thu   AM   \n",
       "5            6                 7   93.33           2         Mon   AM   \n",
       "6            7                11   88.59           6   Wednesday   PM   \n",
       "7            8                 9   89.52          10         Fri   AM   \n",
       "8            9                23   71.12          10        Fri.   AM   \n",
       "9           10                 7   81.25          10         Fri   AM   \n",
       "10          11                13   73.22           4         Tue   AM   \n",
       "11          12                16   86.86          10         Fri   AM   \n",
       "12          13                16   71.70          14         Sun   AM   \n",
       "13          14                 8   81.32           4         Tue   AM   \n",
       "14          15                 9   77.35          10         Fri   AM   \n",
       "15          16                 9   82.42          14         Sun   AM   \n",
       "16          17                22   69.52          14         Sun   AM   \n",
       "17          18                 6   79.01           9         Thu   PM   \n",
       "18          19                33   81.55           8         Thu   AM   \n",
       "19          20                10   72.93           4         Tue   AM   \n",
       "\n",
       "    category  attended  \n",
       "0   Strength         0  \n",
       "1       HIIT         0  \n",
       "2   Strength         0  \n",
       "3    Cycling         0  \n",
       "4       HIIT         0  \n",
       "5    Cycling         0  \n",
       "6       HIIT         0  \n",
       "7       HIIT         0  \n",
       "8       HIIT         1  \n",
       "9       HIIT         0  \n",
       "10   Cycling         0  \n",
       "11   Cycling         0  \n",
       "12  Strength         1  \n",
       "13   Cycling         0  \n",
       "14   Cycling         0  \n",
       "15      HIIT         1  \n",
       "16  Strength         1  \n",
       "17      Yoga         0  \n",
       "18   Cycling         1  \n",
       "19   Cycling         1  "
      ]
     },
     "execution_count": 9,
     "metadata": {},
     "output_type": "execute_result"
    }
   ],
   "source": [
    "fitness_df.head(20)"
   ]
  },
  {
   "cell_type": "code",
   "execution_count": 10,
   "metadata": {},
   "outputs": [
    {
     "data": {
      "text/html": [
       "<div>\n",
       "<style scoped>\n",
       "    .dataframe tbody tr th:only-of-type {\n",
       "        vertical-align: middle;\n",
       "    }\n",
       "\n",
       "    .dataframe tbody tr th {\n",
       "        vertical-align: top;\n",
       "    }\n",
       "\n",
       "    .dataframe thead th {\n",
       "        text-align: right;\n",
       "    }\n",
       "</style>\n",
       "<table border=\"1\" class=\"dataframe\">\n",
       "  <thead>\n",
       "    <tr style=\"text-align: right;\">\n",
       "      <th></th>\n",
       "      <th>booking_id</th>\n",
       "      <th>months_as_member</th>\n",
       "      <th>weight</th>\n",
       "      <th>days_before</th>\n",
       "      <th>day_of_week</th>\n",
       "      <th>time</th>\n",
       "      <th>category</th>\n",
       "      <th>attended</th>\n",
       "    </tr>\n",
       "  </thead>\n",
       "  <tbody>\n",
       "    <tr>\n",
       "      <th>1495</th>\n",
       "      <td>1496</td>\n",
       "      <td>21</td>\n",
       "      <td>79.51</td>\n",
       "      <td>10</td>\n",
       "      <td>Fri</td>\n",
       "      <td>AM</td>\n",
       "      <td>HIIT</td>\n",
       "      <td>0</td>\n",
       "    </tr>\n",
       "    <tr>\n",
       "      <th>1496</th>\n",
       "      <td>1497</td>\n",
       "      <td>29</td>\n",
       "      <td>89.55</td>\n",
       "      <td>2</td>\n",
       "      <td>Mon</td>\n",
       "      <td>AM</td>\n",
       "      <td>Strength</td>\n",
       "      <td>0</td>\n",
       "    </tr>\n",
       "    <tr>\n",
       "      <th>1497</th>\n",
       "      <td>1498</td>\n",
       "      <td>9</td>\n",
       "      <td>87.38</td>\n",
       "      <td>4</td>\n",
       "      <td>Tue</td>\n",
       "      <td>AM</td>\n",
       "      <td>HIIT</td>\n",
       "      <td>0</td>\n",
       "    </tr>\n",
       "    <tr>\n",
       "      <th>1498</th>\n",
       "      <td>1499</td>\n",
       "      <td>34</td>\n",
       "      <td>68.64</td>\n",
       "      <td>14</td>\n",
       "      <td>Sun</td>\n",
       "      <td>AM</td>\n",
       "      <td>Aqua</td>\n",
       "      <td>0</td>\n",
       "    </tr>\n",
       "    <tr>\n",
       "      <th>1499</th>\n",
       "      <td>1500</td>\n",
       "      <td>20</td>\n",
       "      <td>94.39</td>\n",
       "      <td>8</td>\n",
       "      <td>Thu</td>\n",
       "      <td>AM</td>\n",
       "      <td>Cycling</td>\n",
       "      <td>1</td>\n",
       "    </tr>\n",
       "  </tbody>\n",
       "</table>\n",
       "</div>"
      ],
      "text/plain": [
       "      booking_id  months_as_member  weight days_before day_of_week time  \\\n",
       "1495        1496                21   79.51          10         Fri   AM   \n",
       "1496        1497                29   89.55           2         Mon   AM   \n",
       "1497        1498                 9   87.38           4         Tue   AM   \n",
       "1498        1499                34   68.64          14         Sun   AM   \n",
       "1499        1500                20   94.39           8         Thu   AM   \n",
       "\n",
       "      category  attended  \n",
       "1495      HIIT         0  \n",
       "1496  Strength         0  \n",
       "1497      HIIT         0  \n",
       "1498      Aqua         0  \n",
       "1499   Cycling         1  "
      ]
     },
     "execution_count": 10,
     "metadata": {},
     "output_type": "execute_result"
    }
   ],
   "source": [
    "fitness_df.tail()"
   ]
  },
  {
   "cell_type": "code",
   "execution_count": 11,
   "metadata": {},
   "outputs": [
    {
     "name": "stdout",
     "output_type": "stream",
     "text": [
      "<class 'pandas.core.frame.DataFrame'>\n",
      "RangeIndex: 1500 entries, 0 to 1499\n",
      "Data columns (total 8 columns):\n",
      " #   Column            Non-Null Count  Dtype  \n",
      "---  ------            --------------  -----  \n",
      " 0   booking_id        1500 non-null   int64  \n",
      " 1   months_as_member  1500 non-null   int64  \n",
      " 2   weight            1480 non-null   float64\n",
      " 3   days_before       1500 non-null   object \n",
      " 4   day_of_week       1500 non-null   object \n",
      " 5   time              1500 non-null   object \n",
      " 6   category          1500 non-null   object \n",
      " 7   attended          1500 non-null   int64  \n",
      "dtypes: float64(1), int64(3), object(4)\n",
      "memory usage: 93.9+ KB\n"
     ]
    }
   ],
   "source": [
    "fitness_df.info()"
   ]
  },
  {
   "cell_type": "code",
   "execution_count": null,
   "metadata": {},
   "outputs": [],
   "source": []
  },
  {
   "cell_type": "code",
   "execution_count": 12,
   "metadata": {},
   "outputs": [
    {
     "data": {
      "text/plain": [
       "booking_id            int64\n",
       "months_as_member      int64\n",
       "weight              float64\n",
       "days_before          object\n",
       "day_of_week          object\n",
       "time                 object\n",
       "category             object\n",
       "attended              int64\n",
       "dtype: object"
      ]
     },
     "execution_count": 12,
     "metadata": {},
     "output_type": "execute_result"
    }
   ],
   "source": [
    "fitness_df.dtypes"
   ]
  },
  {
   "cell_type": "code",
   "execution_count": 13,
   "metadata": {},
   "outputs": [],
   "source": [
    "# label encoding library\n",
    "from sklearn.preprocessing import LabelEncoder"
   ]
  },
  {
   "cell_type": "code",
   "execution_count": 14,
   "metadata": {},
   "outputs": [],
   "source": [
    "# encode 'category' column\n",
    "label_encoder = LabelEncoder()\n",
    "fitness_df['category_encoded'] = label_encoder.fit_transform(fitness_df['category'])"
   ]
  },
  {
   "cell_type": "code",
   "execution_count": 15,
   "metadata": {},
   "outputs": [
    {
     "name": "stdout",
     "output_type": "stream",
     "text": [
      "[4 3 2 5 0 1]\n"
     ]
    }
   ],
   "source": [
    "# check unique value\n",
    "print(fitness_df['category_encoded'].unique())"
   ]
  },
  {
   "cell_type": "code",
   "execution_count": 16,
   "metadata": {},
   "outputs": [
    {
     "data": {
      "text/plain": [
       "booking_id            int64\n",
       "months_as_member      int64\n",
       "weight              float64\n",
       "days_before          object\n",
       "day_of_week          object\n",
       "time                 object\n",
       "category             object\n",
       "attended              int64\n",
       "category_encoded      int32\n",
       "dtype: object"
      ]
     },
     "execution_count": 16,
     "metadata": {},
     "output_type": "execute_result"
    }
   ],
   "source": [
    "fitness_df.dtypes"
   ]
  },
  {
   "cell_type": "code",
   "execution_count": 17,
   "metadata": {},
   "outputs": [
    {
     "data": {
      "text/plain": [
       "<bound method NDFrame.head of       booking_id  months_as_member  weight days_before day_of_week time  \\\n",
       "0              1                17   79.56           8         Wed   PM   \n",
       "1              2                10   79.01           2         Mon   AM   \n",
       "2              3                16   74.53          14         Sun   AM   \n",
       "3              4                 5   86.12          10         Fri   AM   \n",
       "4              5                15   69.29           8         Thu   AM   \n",
       "...          ...               ...     ...         ...         ...  ...   \n",
       "1495        1496                21   79.51          10         Fri   AM   \n",
       "1496        1497                29   89.55           2         Mon   AM   \n",
       "1497        1498                 9   87.38           4         Tue   AM   \n",
       "1498        1499                34   68.64          14         Sun   AM   \n",
       "1499        1500                20   94.39           8         Thu   AM   \n",
       "\n",
       "      category  attended  category_encoded  \n",
       "0     Strength         0                 4  \n",
       "1         HIIT         0                 3  \n",
       "2     Strength         0                 4  \n",
       "3      Cycling         0                 2  \n",
       "4         HIIT         0                 3  \n",
       "...        ...       ...               ...  \n",
       "1495      HIIT         0                 3  \n",
       "1496  Strength         0                 4  \n",
       "1497      HIIT         0                 3  \n",
       "1498      Aqua         0                 1  \n",
       "1499   Cycling         1                 2  \n",
       "\n",
       "[1500 rows x 9 columns]>"
      ]
     },
     "execution_count": 17,
     "metadata": {},
     "output_type": "execute_result"
    }
   ],
   "source": [
    "fitness_df.head"
   ]
  },
  {
   "cell_type": "code",
   "execution_count": 18,
   "metadata": {},
   "outputs": [
    {
     "name": "stdout",
     "output_type": "stream",
     "text": [
      "object\n"
     ]
    }
   ],
   "source": [
    "# Check the data type of time column after conversion\n",
    "print(fitness_df['time'].dtype)"
   ]
  },
  {
   "cell_type": "code",
   "execution_count": null,
   "metadata": {},
   "outputs": [],
   "source": []
  },
  {
   "cell_type": "markdown",
   "metadata": {},
   "source": [
    "# 4. Data cleaning and preparation <a id='data_cleaning'></a>\n",
    "[Back to top](#table_of_contents)"
   ]
  },
  {
   "cell_type": "code",
   "execution_count": 19,
   "metadata": {},
   "outputs": [],
   "source": [
    "# # Dropping unnecessary columns\n",
    "# fitness_df = fitness_df.drop([' ',' ',' '], axis=1)\n",
    "# fitness_df"
   ]
  },
  {
   "cell_type": "code",
   "execution_count": 20,
   "metadata": {},
   "outputs": [],
   "source": [
    "# Generate a transposed descriptive statistics summary using the describe() "
   ]
  },
  {
   "cell_type": "code",
   "execution_count": 21,
   "metadata": {},
   "outputs": [
    {
     "data": {
      "text/html": [
       "<div>\n",
       "<style scoped>\n",
       "    .dataframe tbody tr th:only-of-type {\n",
       "        vertical-align: middle;\n",
       "    }\n",
       "\n",
       "    .dataframe tbody tr th {\n",
       "        vertical-align: top;\n",
       "    }\n",
       "\n",
       "    .dataframe thead th {\n",
       "        text-align: right;\n",
       "    }\n",
       "</style>\n",
       "<table border=\"1\" class=\"dataframe\">\n",
       "  <thead>\n",
       "    <tr style=\"text-align: right;\">\n",
       "      <th></th>\n",
       "      <th>count</th>\n",
       "      <th>mean</th>\n",
       "      <th>std</th>\n",
       "      <th>min</th>\n",
       "      <th>25%</th>\n",
       "      <th>50%</th>\n",
       "      <th>75%</th>\n",
       "      <th>max</th>\n",
       "    </tr>\n",
       "  </thead>\n",
       "  <tbody>\n",
       "    <tr>\n",
       "      <th>booking_id</th>\n",
       "      <td>1500.0</td>\n",
       "      <td>750.500000</td>\n",
       "      <td>433.157015</td>\n",
       "      <td>1.00</td>\n",
       "      <td>375.75</td>\n",
       "      <td>750.50</td>\n",
       "      <td>1125.25</td>\n",
       "      <td>1500.00</td>\n",
       "    </tr>\n",
       "    <tr>\n",
       "      <th>months_as_member</th>\n",
       "      <td>1500.0</td>\n",
       "      <td>15.628667</td>\n",
       "      <td>12.926543</td>\n",
       "      <td>1.00</td>\n",
       "      <td>8.00</td>\n",
       "      <td>12.00</td>\n",
       "      <td>19.00</td>\n",
       "      <td>148.00</td>\n",
       "    </tr>\n",
       "    <tr>\n",
       "      <th>weight</th>\n",
       "      <td>1480.0</td>\n",
       "      <td>82.610378</td>\n",
       "      <td>12.765859</td>\n",
       "      <td>55.41</td>\n",
       "      <td>73.49</td>\n",
       "      <td>80.76</td>\n",
       "      <td>89.52</td>\n",
       "      <td>170.52</td>\n",
       "    </tr>\n",
       "    <tr>\n",
       "      <th>attended</th>\n",
       "      <td>1500.0</td>\n",
       "      <td>0.302667</td>\n",
       "      <td>0.459565</td>\n",
       "      <td>0.00</td>\n",
       "      <td>0.00</td>\n",
       "      <td>0.00</td>\n",
       "      <td>1.00</td>\n",
       "      <td>1.00</td>\n",
       "    </tr>\n",
       "    <tr>\n",
       "      <th>category_encoded</th>\n",
       "      <td>1500.0</td>\n",
       "      <td>2.957333</td>\n",
       "      <td>1.022518</td>\n",
       "      <td>0.00</td>\n",
       "      <td>2.00</td>\n",
       "      <td>3.00</td>\n",
       "      <td>3.00</td>\n",
       "      <td>5.00</td>\n",
       "    </tr>\n",
       "  </tbody>\n",
       "</table>\n",
       "</div>"
      ],
      "text/plain": [
       "                   count        mean         std    min     25%     50%  \\\n",
       "booking_id        1500.0  750.500000  433.157015   1.00  375.75  750.50   \n",
       "months_as_member  1500.0   15.628667   12.926543   1.00    8.00   12.00   \n",
       "weight            1480.0   82.610378   12.765859  55.41   73.49   80.76   \n",
       "attended          1500.0    0.302667    0.459565   0.00    0.00    0.00   \n",
       "category_encoded  1500.0    2.957333    1.022518   0.00    2.00    3.00   \n",
       "\n",
       "                      75%      max  \n",
       "booking_id        1125.25  1500.00  \n",
       "months_as_member    19.00   148.00  \n",
       "weight              89.52   170.52  \n",
       "attended             1.00     1.00  \n",
       "category_encoded     3.00     5.00  "
      ]
     },
     "execution_count": 21,
     "metadata": {},
     "output_type": "execute_result"
    }
   ],
   "source": [
    "fitness_df.describe().T"
   ]
  },
  {
   "cell_type": "code",
   "execution_count": 22,
   "metadata": {},
   "outputs": [],
   "source": [
    "# Observations: \n",
    "# The descriptive table presents statistics for fitness club member details. \n",
    "# (booking_id, months_as_member, weight, attended and category_encoded).\n",
    "# The units are in .\n",
    "\n",
    "# # # ???\n",
    "# # On average, booking_id is the highest, with a mean number of 750.50\n",
    "# # Radio advertising is the lowest with mean expense 23.26 thousand dollars\n",
    "# # Revenues, with a mean of 14.02 thousand dollars, show a moderate spread with a standard\n",
    "# # deviation of 5.22 thousand dollars.\n",
    "# # Revenues, with lowest observation at 1.6 thousand dollars, indicating the presence of relatively\n",
    "# # lower revenue points in the dataset"
   ]
  },
  {
   "cell_type": "code",
   "execution_count": 23,
   "metadata": {},
   "outputs": [
    {
     "data": {
      "text/plain": [
       "Index(['booking_id', 'months_as_member', 'weight', 'days_before',\n",
       "       'day_of_week', 'time', 'category', 'attended', 'category_encoded'],\n",
       "      dtype='object')"
      ]
     },
     "execution_count": 23,
     "metadata": {},
     "output_type": "execute_result"
    }
   ],
   "source": [
    "fitness_df.columns"
   ]
  },
  {
   "cell_type": "code",
   "execution_count": 24,
   "metadata": {},
   "outputs": [],
   "source": [
    "fitness_df = fitness_df.fillna(0)"
   ]
  },
  {
   "cell_type": "code",
   "execution_count": null,
   "metadata": {},
   "outputs": [],
   "source": []
  },
  {
   "cell_type": "code",
   "execution_count": null,
   "metadata": {},
   "outputs": [],
   "source": []
  },
  {
   "cell_type": "code",
   "execution_count": null,
   "metadata": {},
   "outputs": [],
   "source": []
  },
  {
   "cell_type": "code",
   "execution_count": 25,
   "metadata": {},
   "outputs": [],
   "source": [
    "# # Displaying unique values for selected columns\n",
    "# variables = [' ', ' ', ' ', ' ']\n",
    "# subset_df = fitness_df[variables]\n"
   ]
  },
  {
   "cell_type": "code",
   "execution_count": null,
   "metadata": {},
   "outputs": [],
   "source": []
  },
  {
   "cell_type": "code",
   "execution_count": 26,
   "metadata": {},
   "outputs": [],
   "source": [
    "#  perform Exploratory Data Analysis (EDA)"
   ]
  },
  {
   "cell_type": "code",
   "execution_count": 27,
   "metadata": {},
   "outputs": [
    {
     "data": {
      "image/png": "[encoded data removed]",
      "text/plain": [
       "<Figure size 2000x1200 with 6 Axes>"
      ]
     },
     "metadata": {},
     "output_type": "display_data"
    }
   ],
   "source": [
    "# Displaying histograms for each variable  \n",
    "#  to gain insights into the distribution and spread of\n",
    "#    values across different variables/columns in the DataFrame.\n",
    "fitness_df.hist(bins=15, figsize=(20,12), layout=(3, 2))\n",
    "plt.show()\n"
   ]
  },
  {
   "cell_type": "code",
   "execution_count": 28,
   "metadata": {},
   "outputs": [],
   "source": [
    "# obseervation: club member booking_id will not affect the possibility of memeber attending class\n",
    "#  so it is best to remove the column for booking_id\n"
   ]
  },
  {
   "cell_type": "code",
   "execution_count": 29,
   "metadata": {},
   "outputs": [
    {
     "data": {
      "text/html": [
       "<div>\n",
       "<style scoped>\n",
       "    .dataframe tbody tr th:only-of-type {\n",
       "        vertical-align: middle;\n",
       "    }\n",
       "\n",
       "    .dataframe tbody tr th {\n",
       "        vertical-align: top;\n",
       "    }\n",
       "\n",
       "    .dataframe thead th {\n",
       "        text-align: right;\n",
       "    }\n",
       "</style>\n",
       "<table border=\"1\" class=\"dataframe\">\n",
       "  <thead>\n",
       "    <tr style=\"text-align: right;\">\n",
       "      <th></th>\n",
       "      <th>months_as_member</th>\n",
       "      <th>weight</th>\n",
       "      <th>days_before</th>\n",
       "      <th>day_of_week</th>\n",
       "      <th>time</th>\n",
       "      <th>category</th>\n",
       "      <th>attended</th>\n",
       "      <th>category_encoded</th>\n",
       "    </tr>\n",
       "  </thead>\n",
       "  <tbody>\n",
       "    <tr>\n",
       "      <th>0</th>\n",
       "      <td>17</td>\n",
       "      <td>79.56</td>\n",
       "      <td>8</td>\n",
       "      <td>Wed</td>\n",
       "      <td>PM</td>\n",
       "      <td>Strength</td>\n",
       "      <td>0</td>\n",
       "      <td>4</td>\n",
       "    </tr>\n",
       "    <tr>\n",
       "      <th>1</th>\n",
       "      <td>10</td>\n",
       "      <td>79.01</td>\n",
       "      <td>2</td>\n",
       "      <td>Mon</td>\n",
       "      <td>AM</td>\n",
       "      <td>HIIT</td>\n",
       "      <td>0</td>\n",
       "      <td>3</td>\n",
       "    </tr>\n",
       "    <tr>\n",
       "      <th>2</th>\n",
       "      <td>16</td>\n",
       "      <td>74.53</td>\n",
       "      <td>14</td>\n",
       "      <td>Sun</td>\n",
       "      <td>AM</td>\n",
       "      <td>Strength</td>\n",
       "      <td>0</td>\n",
       "      <td>4</td>\n",
       "    </tr>\n",
       "    <tr>\n",
       "      <th>3</th>\n",
       "      <td>5</td>\n",
       "      <td>86.12</td>\n",
       "      <td>10</td>\n",
       "      <td>Fri</td>\n",
       "      <td>AM</td>\n",
       "      <td>Cycling</td>\n",
       "      <td>0</td>\n",
       "      <td>2</td>\n",
       "    </tr>\n",
       "    <tr>\n",
       "      <th>4</th>\n",
       "      <td>15</td>\n",
       "      <td>69.29</td>\n",
       "      <td>8</td>\n",
       "      <td>Thu</td>\n",
       "      <td>AM</td>\n",
       "      <td>HIIT</td>\n",
       "      <td>0</td>\n",
       "      <td>3</td>\n",
       "    </tr>\n",
       "    <tr>\n",
       "      <th>...</th>\n",
       "      <td>...</td>\n",
       "      <td>...</td>\n",
       "      <td>...</td>\n",
       "      <td>...</td>\n",
       "      <td>...</td>\n",
       "      <td>...</td>\n",
       "      <td>...</td>\n",
       "      <td>...</td>\n",
       "    </tr>\n",
       "    <tr>\n",
       "      <th>1495</th>\n",
       "      <td>21</td>\n",
       "      <td>79.51</td>\n",
       "      <td>10</td>\n",
       "      <td>Fri</td>\n",
       "      <td>AM</td>\n",
       "      <td>HIIT</td>\n",
       "      <td>0</td>\n",
       "      <td>3</td>\n",
       "    </tr>\n",
       "    <tr>\n",
       "      <th>1496</th>\n",
       "      <td>29</td>\n",
       "      <td>89.55</td>\n",
       "      <td>2</td>\n",
       "      <td>Mon</td>\n",
       "      <td>AM</td>\n",
       "      <td>Strength</td>\n",
       "      <td>0</td>\n",
       "      <td>4</td>\n",
       "    </tr>\n",
       "    <tr>\n",
       "      <th>1497</th>\n",
       "      <td>9</td>\n",
       "      <td>87.38</td>\n",
       "      <td>4</td>\n",
       "      <td>Tue</td>\n",
       "      <td>AM</td>\n",
       "      <td>HIIT</td>\n",
       "      <td>0</td>\n",
       "      <td>3</td>\n",
       "    </tr>\n",
       "    <tr>\n",
       "      <th>1498</th>\n",
       "      <td>34</td>\n",
       "      <td>68.64</td>\n",
       "      <td>14</td>\n",
       "      <td>Sun</td>\n",
       "      <td>AM</td>\n",
       "      <td>Aqua</td>\n",
       "      <td>0</td>\n",
       "      <td>1</td>\n",
       "    </tr>\n",
       "    <tr>\n",
       "      <th>1499</th>\n",
       "      <td>20</td>\n",
       "      <td>94.39</td>\n",
       "      <td>8</td>\n",
       "      <td>Thu</td>\n",
       "      <td>AM</td>\n",
       "      <td>Cycling</td>\n",
       "      <td>1</td>\n",
       "      <td>2</td>\n",
       "    </tr>\n",
       "  </tbody>\n",
       "</table>\n",
       "<p>1500 rows × 8 columns</p>\n",
       "</div>"
      ],
      "text/plain": [
       "      months_as_member  weight days_before day_of_week time  category  \\\n",
       "0                   17   79.56           8         Wed   PM  Strength   \n",
       "1                   10   79.01           2         Mon   AM      HIIT   \n",
       "2                   16   74.53          14         Sun   AM  Strength   \n",
       "3                    5   86.12          10         Fri   AM   Cycling   \n",
       "4                   15   69.29           8         Thu   AM      HIIT   \n",
       "...                ...     ...         ...         ...  ...       ...   \n",
       "1495                21   79.51          10         Fri   AM      HIIT   \n",
       "1496                29   89.55           2         Mon   AM  Strength   \n",
       "1497                 9   87.38           4         Tue   AM      HIIT   \n",
       "1498                34   68.64          14         Sun   AM      Aqua   \n",
       "1499                20   94.39           8         Thu   AM   Cycling   \n",
       "\n",
       "      attended  category_encoded  \n",
       "0            0                 4  \n",
       "1            0                 3  \n",
       "2            0                 4  \n",
       "3            0                 2  \n",
       "4            0                 3  \n",
       "...        ...               ...  \n",
       "1495         0                 3  \n",
       "1496         0                 4  \n",
       "1497         0                 3  \n",
       "1498         0                 1  \n",
       "1499         1                 2  \n",
       "\n",
       "[1500 rows x 8 columns]"
      ]
     },
     "execution_count": 29,
     "metadata": {},
     "output_type": "execute_result"
    }
   ],
   "source": [
    "# # # Dropping booking_id column\n",
    "# fitness_df = fitness_df.drop(['booking_id'], axis=1)\n",
    "\n",
    "# Dropping booking_id column\n",
    "fitness_df = fitness_df.drop(['booking_id'], axis=1)\n",
    "fitness_df"
   ]
  },
  {
   "cell_type": "code",
   "execution_count": 30,
   "metadata": {},
   "outputs": [
    {
     "data": {
      "text/plain": [
       "<seaborn.axisgrid.PairGrid at 0x18b517c5720>"
      ]
     },
     "execution_count": 30,
     "metadata": {},
     "output_type": "execute_result"
    },
    {
     "data": {
      "image/png": "[encoded data removed]",
      "text/plain": [
       "<Figure size 1000x1000 with 20 Axes>"
      ]
     },
     "metadata": {},
     "output_type": "display_data"
    }
   ],
   "source": [
    "sns.pairplot(fitness_df)"
   ]
  },
  {
   "cell_type": "code",
   "execution_count": 31,
   "metadata": {},
   "outputs": [
    {
     "data": {
      "text/plain": [
       "<Axes: xlabel='attended', ylabel='Density'>"
      ]
     },
     "execution_count": 31,
     "metadata": {},
     "output_type": "execute_result"
    },
    {
     "data": {
      "image/png": "[encoded data removed]",
      "text/plain": [
       "<Figure size 640x480 with 1 Axes>"
      ]
     },
     "metadata": {},
     "output_type": "display_data"
    }
   ],
   "source": [
    "sns.distplot(fitness_df['attended'])"
   ]
  },
  {
   "cell_type": "code",
   "execution_count": null,
   "metadata": {},
   "outputs": [],
   "source": []
  },
  {
   "cell_type": "code",
   "execution_count": 32,
   "metadata": {},
   "outputs": [
    {
     "name": "stdout",
     "output_type": "stream",
     "text": [
      "There are 4 categorical variables\n",
      "\n",
      "The categorical variables are :\n",
      "\n",
      " ['days_before', 'day_of_week', 'time', 'category']\n"
     ]
    }
   ],
   "source": [
    "categorical = [var for var in fitness_df.columns if fitness_df[var].dtype=='O']\n",
    "\n",
    "print('There are {} categorical variables\\n'.format(len(categorical)))\n",
    "\n",
    "print('The categorical variables are :\\n\\n', categorical)"
   ]
  },
  {
   "cell_type": "code",
   "execution_count": 33,
   "metadata": {},
   "outputs": [
    {
     "data": {
      "image/png": "[encoded data removed]",
      "text/plain": [
       "<Figure size 2000x2000 with 4 Axes>"
      ]
     },
     "metadata": {},
     "output_type": "display_data"
    }
   ],
   "source": [
    "# Correlation Analysis for categorical variables\n",
    "plt.figure(figsize=(20,20))\n",
    "for i,col in enumerate(categorical):\n",
    "    plt.subplot(3,3,i+1)\n",
    "    fitness_df[col].value_counts().plot(kind='bar')\n",
    "    plt.title(col)\n"
   ]
  },
  {
   "cell_type": "code",
   "execution_count": 34,
   "metadata": {},
   "outputs": [
    {
     "name": "stdout",
     "output_type": "stream",
     "text": [
      "days_before\n",
      "10 days    6\n",
      "12 days    3\n",
      "6 days     3\n",
      "14 days    3\n",
      "4 days     3\n",
      "13 days    1\n",
      "3 days     1\n",
      "1 days     1\n",
      "7 days     1\n",
      "8 days     1\n",
      "5 days     1\n",
      "2 days     1\n",
      "Name: count, dtype: int64\n"
     ]
    }
   ],
   "source": [
    "# Assuming 'day_before' is the column you want to inspect\n",
    "unique_values = fitness_df['days_before'][fitness_df['days_before'].str.contains('days')].value_counts()\n",
    "\n",
    "# Print the unique values\n",
    "print(unique_values)"
   ]
  },
  {
   "cell_type": "code",
   "execution_count": 35,
   "metadata": {},
   "outputs": [],
   "source": [
    "# A# Assuming 'day_before' is the column you want to modify\n",
    "fitness_df['days_before'] = fitness_df['days_before'].str.rstrip(' days')"
   ]
  },
  {
   "cell_type": "code",
   "execution_count": 36,
   "metadata": {},
   "outputs": [
    {
     "name": "stdout",
     "output_type": "stream",
     "text": [
      "['8' '2' '14' '10' '6' '4' '9' '12' '5' '3' '7' '13' '20' '1' '15' '11'\n",
      " '16' '17' '29']\n"
     ]
    }
   ],
   "source": [
    "print(fitness_df['days_before'].unique())"
   ]
  },
  {
   "cell_type": "code",
   "execution_count": 37,
   "metadata": {},
   "outputs": [
    {
     "data": {
      "image/png": "[encoded data removed]",
      "text/plain": [
       "<Figure size 2000x2000 with 4 Axes>"
      ]
     },
     "metadata": {},
     "output_type": "display_data"
    }
   ],
   "source": [
    "# Correlation Analysis for categorical variables\n",
    "plt.figure(figsize=(20,20))\n",
    "for i,col in enumerate(categorical):\n",
    "    plt.subplot(3,3,i+1)\n",
    "    fitness_df[col].value_counts().plot(kind='bar')\n",
    "    plt.title(col)\n"
   ]
  },
  {
   "cell_type": "code",
   "execution_count": null,
   "metadata": {},
   "outputs": [],
   "source": []
  },
  {
   "cell_type": "code",
   "execution_count": 38,
   "metadata": {},
   "outputs": [
    {
     "name": "stdout",
     "output_type": "stream",
     "text": [
      "                  months_as_member    weight  attended  category_encoded\n",
      "months_as_member          1.000000 -0.360652  0.485526         -0.010739\n",
      "weight                   -0.360652  1.000000 -0.219113          0.032199\n",
      "attended                  0.485526 -0.219113  1.000000         -0.000893\n",
      "category_encoded         -0.010739  0.032199 -0.000893          1.000000\n"
     ]
    }
   ],
   "source": [
    "# Assuming you have a DataFrame called fitness_df\n",
    "non_categorical_vars = fitness_df.select_dtypes(exclude=['object'])\n",
    "\n",
    "# Compute the correlation matrix\n",
    "correlation_matrix = non_categorical_vars.corr()\n",
    "\n",
    "print(correlation_matrix)\n",
    "\n",
    "# no correlation between variables so there is  linear relationship between variables"
   ]
  },
  {
   "cell_type": "code",
   "execution_count": 39,
   "metadata": {
    "scrolled": true
   },
   "outputs": [
    {
     "data": {
      "image/png": "[encoded data removed]",
      "text/plain": [
       "<Figure size 1000x800 with 2 Axes>"
      ]
     },
     "metadata": {},
     "output_type": "display_data"
    }
   ],
   "source": [
    "# Create a heatmap\n",
    "plt.figure(figsize=(10, 8))\n",
    "sns.heatmap(correlation_matrix, annot=True, cmap='coolwarm', fmt=\".2f\", linewidths=.5)\n",
    "plt.title(\"Correlation Heatmap\")\n",
    "plt.show()"
   ]
  },
  {
   "cell_type": "code",
   "execution_count": 40,
   "metadata": {},
   "outputs": [],
   "source": [
    "# ???\n",
    "# fitness_df.corr()['attended'].sort_values()"
   ]
  },
  {
   "cell_type": "code",
   "execution_count": null,
   "metadata": {},
   "outputs": [],
   "source": []
  },
  {
   "cell_type": "code",
   "execution_count": null,
   "metadata": {},
   "outputs": [],
   "source": []
  },
  {
   "cell_type": "markdown",
   "metadata": {},
   "source": [
    "# 5. Model training <a id='model_training'></a>\n",
    "[Back to top](#table_of_contents)"
   ]
  },
  {
   "cell_type": "code",
   "execution_count": 41,
   "metadata": {},
   "outputs": [
    {
     "name": "stdout",
     "output_type": "stream",
     "text": [
      "Total number of rows in the DataFrame: 1500\n"
     ]
    }
   ],
   "source": [
    "# Check the total number of rows and columns\n",
    "total_rows, total_columns = fitness_df.shape\n",
    "\n",
    "# Display the total number of rows\n",
    "print(\"Total number of rows in the DataFrame:\", total_rows)\n",
    "# Best to use 80%, 20% class model"
   ]
  },
  {
   "cell_type": "code",
   "execution_count": 42,
   "metadata": {},
   "outputs": [],
   "source": [
    "# Implement the process of splitting a dataset into training and testing sets using the train_test_split function\n",
    "#  with a 80% : 20% ratio as total number of rows is 1500"
   ]
  },
  {
   "cell_type": "code",
   "execution_count": 43,
   "metadata": {},
   "outputs": [],
   "source": [
    "# try with the following models and evaluate the models \n",
    "# using Confusion Matrix, Classification Reportand ROC Curve"
   ]
  },
  {
   "cell_type": "code",
   "execution_count": 44,
   "metadata": {},
   "outputs": [],
   "source": [
    "#  Start with the Single Feature of \"booking_id\""
   ]
  },
  {
   "cell_type": "code",
   "execution_count": 45,
   "metadata": {},
   "outputs": [],
   "source": [
    "# Define feature columns\n",
    "feature_cols = [\"months_as_member\"]"
   ]
  },
  {
   "cell_type": "code",
   "execution_count": 46,
   "metadata": {},
   "outputs": [],
   "source": [
    "# Define features (X) and target variable (y)\n",
    "X = fitness_df[feature_cols]\n",
    "y = fitness_df[\"attended\"]"
   ]
  },
  {
   "cell_type": "code",
   "execution_count": 47,
   "metadata": {},
   "outputs": [],
   "source": [
    "# Split the data into training and testing sets\n",
    "X_train, X_test, y_train, y_test = train_test_split(X, y, test_size=0.3, random_state=42)"
   ]
  },
  {
   "cell_type": "code",
   "execution_count": 48,
   "metadata": {},
   "outputs": [],
   "source": [
    "# Define a list of regression models\n",
    "models = [\n",
    "LinearRegression(),\n",
    "DecisionTreeRegressor(random_state=42),\n",
    "RandomForestRegressor(n_estimators=100, random_state=42),\n",
    "GradientBoostingRegressor(random_state=42)\n",
    "]"
   ]
  },
  {
   "cell_type": "code",
   "execution_count": null,
   "metadata": {},
   "outputs": [],
   "source": []
  },
  {
   "cell_type": "code",
   "execution_count": 49,
   "metadata": {},
   "outputs": [
    {
     "name": "stdout",
     "output_type": "stream",
     "text": [
      "Model: LinearRegression\n",
      "Mean Squared Error: 0.1777464234381305\n",
      "Mean Absolute Error: 0.3489214112862314\n",
      "R-squared: 0.21754634146602403\n",
      "\n",
      "==================================================\n",
      "\n",
      "Model: DecisionTreeRegressor\n",
      "Mean Squared Error: 0.17813859025410472\n",
      "Mean Absolute Error: 0.3141953996048111\n",
      "R-squared: 0.21581999246850692\n",
      "\n",
      "==================================================\n",
      "\n",
      "Model: RandomForestRegressor\n",
      "Mean Squared Error: 0.17742933475429623\n",
      "Mean Absolute Error: 0.3137057164023339\n",
      "R-squared: 0.2189421906535729\n",
      "\n",
      "==================================================\n",
      "\n",
      "Model: GradientBoostingRegressor\n",
      "Mean Squared Error: 0.17328456125844935\n",
      "Mean Absolute Error: 0.31406944152530525\n",
      "R-squared: 0.2371878077686137\n",
      "\n",
      "==================================================\n",
      "\n"
     ]
    }
   ],
   "source": [
    "\n",
    "# Iterate through each model\n",
    "for model in models:\n",
    "    # Fit the model to the training data\n",
    "    model.fit(X_train, y_train)\n",
    "    \n",
    "    # Make predictions on the test set\n",
    "    y_pred = model.predict(X_test)\n",
    "    \n",
    "    # Evaluate the model\n",
    "    mse = mean_squared_error(y_test, y_pred)\n",
    "    mae = mean_absolute_error(y_test, y_pred)\n",
    "    r2 = r2_score(y_test, y_pred)\n",
    "    # Print model evaluation metrics\n",
    "    print(f\"Model: {type(model).__name__}\")\n",
    "    print(f\"Mean Squared Error: {mse}\")\n",
    "    print(f\"Mean Absolute Error: {mae}\")\n",
    "    print(f\"R-squared: {r2}\")\n",
    "    print(\"\\n\" + \"=\"*50 + \"\\n\")"
   ]
  },
  {
   "cell_type": "code",
   "execution_count": null,
   "metadata": {},
   "outputs": [],
   "source": []
  },
  {
   "cell_type": "code",
   "execution_count": 50,
   "metadata": {},
   "outputs": [],
   "source": [
    "# Single Feature of \"weight\""
   ]
  },
  {
   "cell_type": "code",
   "execution_count": 51,
   "metadata": {},
   "outputs": [],
   "source": [
    "# Define feature columns\n",
    "feature_cols = [\"weight\"]\n",
    "\n",
    "# Define features (X) and target variable (y)\n",
    "X = fitness_df[feature_cols]\n",
    "y = fitness_df[\"attended\"]"
   ]
  },
  {
   "cell_type": "code",
   "execution_count": 52,
   "metadata": {},
   "outputs": [
    {
     "name": "stdout",
     "output_type": "stream",
     "text": [
      "Model: LinearRegression\n",
      "Mean Squared Error: 0.21575234444130637\n",
      "Mean Absolute Error: 0.41186830300858246\n",
      "R-squared: 0.05024130455067177\n",
      "\n",
      "==================================================\n",
      "\n",
      "Model: DecisionTreeRegressor\n",
      "Mean Squared Error: 0.35626543209876543\n",
      "Mean Absolute Error: 0.365925925925926\n",
      "R-squared: -0.5683082976457037\n",
      "\n",
      "==================================================\n",
      "\n",
      "Model: RandomForestRegressor\n",
      "Mean Squared Error: 0.27227500577552827\n",
      "Mean Absolute Error: 0.37398487029525274\n",
      "R-squared: -0.1985758716015844\n",
      "\n",
      "==================================================\n",
      "\n",
      "Model: GradientBoostingRegressor\n",
      "Mean Squared Error: 0.21271995454380965\n",
      "Mean Absolute Error: 0.39234110475918443\n",
      "R-squared: 0.06359012205992354\n",
      "\n",
      "==================================================\n",
      "\n"
     ]
    }
   ],
   "source": [
    "# Split the data into training and testing sets\n",
    "X_train, X_test, y_train, y_test = train_test_split(X, y, test_size=0.3, random_state=42)\n",
    "# Define a list of regression models\n",
    "models = [\n",
    "LinearRegression(),\n",
    "DecisionTreeRegressor(random_state=42),\n",
    "RandomForestRegressor(n_estimators=100, random_state=42),\n",
    "GradientBoostingRegressor(random_state=42)\n",
    "]\n",
    "\n",
    "# Iterate through each model\n",
    "for model in models:\n",
    "    # Fit the model to the training data\n",
    "    model.fit(X_train, y_train)\n",
    "    \n",
    "    # Make predictions on the test set\n",
    "    y_pred = model.predict(X_test)\n",
    "    \n",
    "    # Evaluate the model\n",
    "    mse = mean_squared_error(y_test, y_pred)\n",
    "    mae = mean_absolute_error(y_test, y_pred)\n",
    "    r2 = r2_score(y_test, y_pred)\n",
    "    # Print model evaluation metrics\n",
    "    print(f\"Model: {type(model).__name__}\")\n",
    "    print(f\"Mean Squared Error: {mse}\")\n",
    "    print(f\"Mean Absolute Error: {mae}\")\n",
    "    print(f\"R-squared: {r2}\")\n",
    "    print(\"\\n\" + \"=\"*50 + \"\\n\")"
   ]
  },
  {
   "cell_type": "code",
   "execution_count": 53,
   "metadata": {},
   "outputs": [],
   "source": [
    "# Define feature columns\n",
    "feature_cols = [\"category_encoded\"]"
   ]
  },
  {
   "cell_type": "code",
   "execution_count": 54,
   "metadata": {},
   "outputs": [],
   "source": [
    "# Define features (X) and target variable (y)\n",
    "X = fitness_df[feature_cols]\n",
    "y = fitness_df[\"attended\"]"
   ]
  },
  {
   "cell_type": "code",
   "execution_count": 55,
   "metadata": {},
   "outputs": [
    {
     "name": "stdout",
     "output_type": "stream",
     "text": [
      "Model: LinearRegression\n",
      "Mean Squared Error: 0.2319763718589331\n",
      "Mean Absolute Error: 0.4343074933222392\n",
      "R-squared: -0.021178133115235864\n",
      "\n",
      "==================================================\n",
      "\n",
      "Model: DecisionTreeRegressor\n",
      "Mean Squared Error: 0.23238165111717352\n",
      "Mean Absolute Error: 0.43340887547956053\n",
      "R-squared: -0.02296220410920724\n",
      "\n",
      "==================================================\n",
      "\n",
      "Model: RandomForestRegressor\n",
      "Mean Squared Error: 0.2323973477397711\n",
      "Mean Absolute Error: 0.4336749896410482\n",
      "R-squared: -0.023031301869604004\n",
      "\n",
      "==================================================\n",
      "\n",
      "Model: GradientBoostingRegressor\n",
      "Mean Squared Error: 0.23238160781996406\n",
      "Mean Absolute Error: 0.433408901130639\n",
      "R-squared: -0.02296201351150473\n",
      "\n",
      "==================================================\n",
      "\n"
     ]
    }
   ],
   "source": [
    "# Split the data into training and testing sets\n",
    "X_train, X_test, y_train, y_test = train_test_split(X, y, test_size=0.3, random_state=42)\n",
    "\n",
    "# Define a list of regression models\n",
    "models = [\n",
    "LinearRegression(),\n",
    "DecisionTreeRegressor(random_state=42),\n",
    "RandomForestRegressor(n_estimators=100, random_state=42),\n",
    "GradientBoostingRegressor(random_state=42)\n",
    "]\n",
    "\n",
    "# Iterate through each model\n",
    "for model in models:\n",
    "    # Fit the model to the training data\n",
    "    model.fit(X_train, y_train)\n",
    "    # Make predictions on the test set\n",
    "    y_pred = model.predict(X_test)\n",
    "    # Evaluate the model\n",
    "    mse = mean_squared_error(y_test, y_pred)\n",
    "    mae = mean_absolute_error(y_test, y_pred)\n",
    "    r2 = r2_score(y_test, y_pred)\n",
    "    # Print model evaluation metrics\n",
    "    print(f\"Model: {type(model).__name__}\")\n",
    "    print(f\"Mean Squared Error: {mse}\")\n",
    "\n",
    "    print(f\"Mean Absolute Error: {mae}\")\n",
    "    print(f\"R-squared: {r2}\")\n",
    "    print(\"\\n\" + \"=\"*50 + \"\\n\")"
   ]
  },
  {
   "cell_type": "code",
   "execution_count": null,
   "metadata": {},
   "outputs": [],
   "source": []
  },
  {
   "cell_type": "code",
   "execution_count": 56,
   "metadata": {},
   "outputs": [],
   "source": [
    "# Observations: We can see that  months_as_member has the highest R^2 value than\n",
    "# category_encoded and weight. "
   ]
  },
  {
   "cell_type": "code",
   "execution_count": null,
   "metadata": {},
   "outputs": [],
   "source": []
  },
  {
   "cell_type": "code",
   "execution_count": 57,
   "metadata": {},
   "outputs": [],
   "source": [
    "# Multiple Linear Regression\n"
   ]
  },
  {
   "cell_type": "code",
   "execution_count": 58,
   "metadata": {},
   "outputs": [],
   "source": [
    "# Define feature columns\n",
    "feature_cols = [\"months_as_member\", \"weight\", \"category_encoded\"]\n",
    "# Define features (X) and target variable (y)\n",
    "X = fitness_df[feature_cols]\n",
    "y = fitness_df[\"attended\"]"
   ]
  },
  {
   "cell_type": "code",
   "execution_count": 59,
   "metadata": {},
   "outputs": [
    {
     "name": "stdout",
     "output_type": "stream",
     "text": [
      "Model: LinearRegression\n",
      "Mean Squared Error: 0.17699440569618757\n",
      "Mean Absolute Error: 0.34745751880440495\n",
      "R-squared: 0.220856782385644\n",
      "\n",
      "==================================================\n",
      "\n",
      "Model: DecisionTreeRegressor\n",
      "Mean Squared Error: 0.32222222222222224\n",
      "Mean Absolute Error: 0.32222222222222224\n",
      "R-squared: -0.4184474250559773\n",
      "\n",
      "==================================================\n",
      "\n",
      "Model: RandomForestRegressor\n",
      "Mean Squared Error: 0.20322936111111112\n",
      "Mean Absolute Error: 0.326\n",
      "R-squared: 0.10536845666398542\n",
      "\n",
      "==================================================\n",
      "\n",
      "Model: GradientBoostingRegressor\n",
      "Mean Squared Error: 0.17612582604751853\n",
      "Mean Absolute Error: 0.31805670215800697\n",
      "R-squared: 0.22468033793564257\n",
      "\n",
      "==================================================\n",
      "\n"
     ]
    }
   ],
   "source": [
    "# Split the data into training and testing sets\n",
    "X_train, X_test, y_train, y_test = train_test_split(X, y, test_size=0.3, random_state=42)\n",
    "\n",
    "# Define a list of regression models\n",
    "models = [\n",
    "LinearRegression(),\n",
    "DecisionTreeRegressor(random_state=42),\n",
    "RandomForestRegressor(n_estimators=100, random_state=42),\n",
    "GradientBoostingRegressor(random_state=42)\n",
    "]\n",
    "\n",
    "# Iterate through each model\n",
    "for model in models:\n",
    "    # Fit the model to the training data\n",
    "    model.fit(X_train, y_train)\n",
    "    \n",
    "    # Make predictions on the test set\n",
    "    y_pred = model.predict(X_test)\n",
    "    \n",
    "    # Evaluate the model\n",
    "    mse = mean_squared_error(y_test, y_pred)\n",
    "    mae = mean_absolute_error(y_test, y_pred)\n",
    "    r2 = r2_score(y_test, y_pred)\n",
    "    \n",
    "    # Print model evaluation metrics\n",
    "    print(f\"Model: {type(model).__name__}\")\n",
    "    print(f\"Mean Squared Error: {mse}\")\n",
    "    print(f\"Mean Absolute Error: {mae}\")\n",
    "    print(f\"R-squared: {r2}\")\n",
    "    print(\"\\n\" + \"=\"*50 + \"\\n\")\n",
    "    "
   ]
  },
  {
   "cell_type": "code",
   "execution_count": 60,
   "metadata": {},
   "outputs": [],
   "source": [
    "# Observations: The R^2 value for the multiple linear regression comes out to be\n",
    "# 22.0%"
   ]
  },
  {
   "cell_type": "code",
   "execution_count": null,
   "metadata": {},
   "outputs": [],
   "source": []
  },
  {
   "cell_type": "code",
   "execution_count": 61,
   "metadata": {},
   "outputs": [],
   "source": [
    "# Performance assessment, testing and validation on Linear Regression"
   ]
  },
  {
   "cell_type": "code",
   "execution_count": 62,
   "metadata": {},
   "outputs": [
    {
     "name": "stdout",
     "output_type": "stream",
     "text": [
      "            Feature  Coefficient\n",
      "0  months_as_member     0.016300\n",
      "1            weight    -0.000613\n",
      "2  category_encoded    -0.002324\n"
     ]
    }
   ],
   "source": [
    "# Define feature columns\n",
    "feature_cols = [\"months_as_member\", \"weight\", \"category_encoded\"]\n",
    "\n",
    "# Define features (X) and target variable (y)\n",
    "X = fitness_df[feature_cols]\n",
    "y = fitness_df[\"attended\"]\n",
    "\n",
    "# Split the data into training and testing sets\n",
    "X_train, X_test, y_train, y_test = train_test_split(X, y, test_size=0.3, random_state=42)\n",
    "\n",
    "# Create and fit a linear regression model\n",
    "lm = LinearRegression()\n",
    "lm.fit(X_train, y_train)\n",
    "\n",
    "# Make predictions on the test set\n",
    "y_pred = lm.predict(X_test)\n",
    "\n",
    "# Create a DataFrame to store feature importance\n",
    "feature_importance_df = pd.DataFrame({'Feature': feature_cols, 'Coefficient': lm.coef_})\n",
    "\n",
    "# Print or visualize the feature importance\n",
    "print(feature_importance_df)"
   ]
  },
  {
   "cell_type": "code",
   "execution_count": null,
   "metadata": {},
   "outputs": [],
   "source": []
  },
  {
   "cell_type": "code",
   "execution_count": 63,
   "metadata": {},
   "outputs": [
    {
     "data": {
      "image/png": "[encoded data removed]",
      "text/plain": [
       "<Figure size 640x480 with 1 Axes>"
      ]
     },
     "metadata": {},
     "output_type": "display_data"
    }
   ],
   "source": [
    "#creates a scatter plot with y_test on the x-axis and y_pred on the y-axis.\n",
    "plt.scatter(y_test, y_pred)\n",
    "plt.xlabel(\"Actual attended\")\n",
    "plt.ylabel(\"Predicted attended\")\n",
    "plt.title(\"Actual vs Predicted attended\")\n",
    "plt.show()\n",
    "\n"
   ]
  },
  {
   "cell_type": "code",
   "execution_count": 64,
   "metadata": {},
   "outputs": [
    {
     "data": {
      "image/png": "[encoded data removed]",
      "text/plain": [
       "<Figure size 750x500 with 1 Axes>"
      ]
     },
     "metadata": {},
     "output_type": "display_data"
    }
   ],
   "source": [
    "# Assuming y_test and y_pred are your actual and predicted values\n",
    "df_lmplot = pd.DataFrame({'Actual attended': y_test, 'Predicted attended': y_pred})\n",
    "# Create an lmplot with specific height and aspect to control width\n",
    "sns.lmplot(x='Actual attended', y='Predicted attended', data=df_lmplot, height=5, aspect=1.5)\n",
    "\n",
    "plt.xlabel(\"Actual attended\")\n",
    "plt.ylabel(\"Predicted attended\")\n",
    "plt.title(\"Actual vs Predicted attended with Linear Regression Line\")\n",
    "plt.show()"
   ]
  },
  {
   "cell_type": "code",
   "execution_count": 65,
   "metadata": {},
   "outputs": [],
   "source": [
    "# Observations\n",
    "# We found the R-squared increased as we would expect after adding a feature. Also the error\n",
    "# decreased for this Linear Regression model.\n",
    "\n"
   ]
  },
  {
   "cell_type": "code",
   "execution_count": null,
   "metadata": {},
   "outputs": [],
   "source": []
  },
  {
   "cell_type": "code",
   "execution_count": 66,
   "metadata": {},
   "outputs": [],
   "source": [
    "# Residuals\n",
    "# Create a distribution plot of residuals in your regression analysis. It\n",
    "# helps you check whether the residuals (the differences between actual\n",
    "# and predicted values) follow a normal distribution"
   ]
  },
  {
   "cell_type": "code",
   "execution_count": 67,
   "metadata": {},
   "outputs": [
    {
     "data": {
      "image/png": "[encoded data removed]",
      "text/plain": [
       "<Figure size 640x480 with 1 Axes>"
      ]
     },
     "metadata": {},
     "output_type": "display_data"
    }
   ],
   "source": [
    "# Assuming y_test and y_pred are your actual and predicted values\n",
    "sns.distplot((y_test - y_pred), bins=20)\n",
    "plt.xlabel(\"Residuals\")\n",
    "plt.ylabel(\"Frequency\")\n",
    "plt.title(\"Distribution of Residuals using Linear Regression Model\")\n",
    "plt.show()\n"
   ]
  },
  {
   "cell_type": "code",
   "execution_count": 68,
   "metadata": {},
   "outputs": [],
   "source": [
    "# The residuals are normally distributed, it suggests that your model is\n",
    "# making unbiased predictions"
   ]
  },
  {
   "cell_type": "code",
   "execution_count": 69,
   "metadata": {},
   "outputs": [
    {
     "data": {
      "text/html": [
       "<div>\n",
       "<style scoped>\n",
       "    .dataframe tbody tr th:only-of-type {\n",
       "        vertical-align: middle;\n",
       "    }\n",
       "\n",
       "    .dataframe tbody tr th {\n",
       "        vertical-align: top;\n",
       "    }\n",
       "\n",
       "    .dataframe thead th {\n",
       "        text-align: right;\n",
       "    }\n",
       "</style>\n",
       "<table border=\"1\" class=\"dataframe\">\n",
       "  <thead>\n",
       "    <tr style=\"text-align: right;\">\n",
       "      <th></th>\n",
       "      <th>months_as_member</th>\n",
       "      <th>weight</th>\n",
       "      <th>days_before</th>\n",
       "      <th>day_of_week</th>\n",
       "      <th>time</th>\n",
       "      <th>category</th>\n",
       "      <th>attended</th>\n",
       "      <th>category_encoded</th>\n",
       "    </tr>\n",
       "  </thead>\n",
       "  <tbody>\n",
       "    <tr>\n",
       "      <th>0</th>\n",
       "      <td>17</td>\n",
       "      <td>79.56</td>\n",
       "      <td>8</td>\n",
       "      <td>Wed</td>\n",
       "      <td>PM</td>\n",
       "      <td>Strength</td>\n",
       "      <td>0</td>\n",
       "      <td>4</td>\n",
       "    </tr>\n",
       "    <tr>\n",
       "      <th>1</th>\n",
       "      <td>10</td>\n",
       "      <td>79.01</td>\n",
       "      <td>2</td>\n",
       "      <td>Mon</td>\n",
       "      <td>AM</td>\n",
       "      <td>HIIT</td>\n",
       "      <td>0</td>\n",
       "      <td>3</td>\n",
       "    </tr>\n",
       "    <tr>\n",
       "      <th>2</th>\n",
       "      <td>16</td>\n",
       "      <td>74.53</td>\n",
       "      <td>14</td>\n",
       "      <td>Sun</td>\n",
       "      <td>AM</td>\n",
       "      <td>Strength</td>\n",
       "      <td>0</td>\n",
       "      <td>4</td>\n",
       "    </tr>\n",
       "    <tr>\n",
       "      <th>3</th>\n",
       "      <td>5</td>\n",
       "      <td>86.12</td>\n",
       "      <td>10</td>\n",
       "      <td>Fri</td>\n",
       "      <td>AM</td>\n",
       "      <td>Cycling</td>\n",
       "      <td>0</td>\n",
       "      <td>2</td>\n",
       "    </tr>\n",
       "    <tr>\n",
       "      <th>4</th>\n",
       "      <td>15</td>\n",
       "      <td>69.29</td>\n",
       "      <td>8</td>\n",
       "      <td>Thu</td>\n",
       "      <td>AM</td>\n",
       "      <td>HIIT</td>\n",
       "      <td>0</td>\n",
       "      <td>3</td>\n",
       "    </tr>\n",
       "    <tr>\n",
       "      <th>...</th>\n",
       "      <td>...</td>\n",
       "      <td>...</td>\n",
       "      <td>...</td>\n",
       "      <td>...</td>\n",
       "      <td>...</td>\n",
       "      <td>...</td>\n",
       "      <td>...</td>\n",
       "      <td>...</td>\n",
       "    </tr>\n",
       "    <tr>\n",
       "      <th>1495</th>\n",
       "      <td>21</td>\n",
       "      <td>79.51</td>\n",
       "      <td>10</td>\n",
       "      <td>Fri</td>\n",
       "      <td>AM</td>\n",
       "      <td>HIIT</td>\n",
       "      <td>0</td>\n",
       "      <td>3</td>\n",
       "    </tr>\n",
       "    <tr>\n",
       "      <th>1496</th>\n",
       "      <td>29</td>\n",
       "      <td>89.55</td>\n",
       "      <td>2</td>\n",
       "      <td>Mon</td>\n",
       "      <td>AM</td>\n",
       "      <td>Strength</td>\n",
       "      <td>0</td>\n",
       "      <td>4</td>\n",
       "    </tr>\n",
       "    <tr>\n",
       "      <th>1497</th>\n",
       "      <td>9</td>\n",
       "      <td>87.38</td>\n",
       "      <td>4</td>\n",
       "      <td>Tue</td>\n",
       "      <td>AM</td>\n",
       "      <td>HIIT</td>\n",
       "      <td>0</td>\n",
       "      <td>3</td>\n",
       "    </tr>\n",
       "    <tr>\n",
       "      <th>1498</th>\n",
       "      <td>34</td>\n",
       "      <td>68.64</td>\n",
       "      <td>14</td>\n",
       "      <td>Sun</td>\n",
       "      <td>AM</td>\n",
       "      <td>Aqua</td>\n",
       "      <td>0</td>\n",
       "      <td>1</td>\n",
       "    </tr>\n",
       "    <tr>\n",
       "      <th>1499</th>\n",
       "      <td>20</td>\n",
       "      <td>94.39</td>\n",
       "      <td>8</td>\n",
       "      <td>Thu</td>\n",
       "      <td>AM</td>\n",
       "      <td>Cycling</td>\n",
       "      <td>1</td>\n",
       "      <td>2</td>\n",
       "    </tr>\n",
       "  </tbody>\n",
       "</table>\n",
       "<p>1500 rows × 8 columns</p>\n",
       "</div>"
      ],
      "text/plain": [
       "      months_as_member  weight days_before day_of_week time  category  \\\n",
       "0                   17   79.56           8         Wed   PM  Strength   \n",
       "1                   10   79.01           2         Mon   AM      HIIT   \n",
       "2                   16   74.53          14         Sun   AM  Strength   \n",
       "3                    5   86.12          10         Fri   AM   Cycling   \n",
       "4                   15   69.29           8         Thu   AM      HIIT   \n",
       "...                ...     ...         ...         ...  ...       ...   \n",
       "1495                21   79.51          10         Fri   AM      HIIT   \n",
       "1496                29   89.55           2         Mon   AM  Strength   \n",
       "1497                 9   87.38           4         Tue   AM      HIIT   \n",
       "1498                34   68.64          14         Sun   AM      Aqua   \n",
       "1499                20   94.39           8         Thu   AM   Cycling   \n",
       "\n",
       "      attended  category_encoded  \n",
       "0            0                 4  \n",
       "1            0                 3  \n",
       "2            0                 4  \n",
       "3            0                 2  \n",
       "4            0                 3  \n",
       "...        ...               ...  \n",
       "1495         0                 3  \n",
       "1496         0                 4  \n",
       "1497         0                 3  \n",
       "1498         0                 1  \n",
       "1499         1                 2  \n",
       "\n",
       "[1500 rows x 8 columns]"
      ]
     },
     "execution_count": 69,
     "metadata": {},
     "output_type": "execute_result"
    }
   ],
   "source": [
    "fitness_df"
   ]
  },
  {
   "cell_type": "code",
   "execution_count": 70,
   "metadata": {},
   "outputs": [],
   "source": [
    "# Performance assessment, testing and validation on\n",
    "# Gradient Boosting Regression"
   ]
  },
  {
   "cell_type": "code",
   "execution_count": 71,
   "metadata": {},
   "outputs": [
    {
     "name": "stdout",
     "output_type": "stream",
     "text": [
      "            Feature  Coefficient\n",
      "0  months_as_member     0.016300\n",
      "1            weight    -0.000613\n",
      "2  category_encoded    -0.002324\n"
     ]
    }
   ],
   "source": [
    "# Define feature columns\n",
    "feature_cols = [\"months_as_member\", \"weight\", \"category_encoded\"]\n",
    "\n",
    "# Define features (X) and target variable (y)\n",
    "X = fitness_df[feature_cols]\n",
    "y = fitness_df[\"attended\"]\n",
    "\n",
    "# Split the data into training and testing sets\n",
    "X_train, X_test, y_train, y_test = train_test_split(X, y, test_size=0.3, random_state=42)\n",
    "\n",
    "# Create and fit a Gradient Boosting regression model\n",
    "gbr = GradientBoostingRegressor(random_state=42)\n",
    "gbr.fit(X_train, y_train)\n",
    "\n",
    "# Make predictions on the test set\n",
    "y_pred = gbr.predict(X_test)\n",
    "\n",
    "# Create a DataFrame to store feature importance\n",
    "feature_importance_df = pd.DataFrame({'Feature': feature_cols, 'Coefficient': lm.coef_})\n",
    "\n",
    "# Print or visualize the feature importance\n",
    "print(feature_importance_df)"
   ]
  },
  {
   "cell_type": "code",
   "execution_count": null,
   "metadata": {},
   "outputs": [],
   "source": []
  },
  {
   "cell_type": "code",
   "execution_count": 72,
   "metadata": {},
   "outputs": [],
   "source": [
    "# Let visualizes the relationship between the actual revenues (Actual\n",
    "# Revenues) and the predicted revenues (Predicted Revenues) with a line\n",
    "# that represents the linear regression model's fit."
   ]
  },
  {
   "cell_type": "code",
   "execution_count": 73,
   "metadata": {},
   "outputs": [
    {
     "data": {
      "image/png": "[encoded data removed]",
      "text/plain": [
       "<Figure size 640x480 with 1 Axes>"
      ]
     },
     "metadata": {},
     "output_type": "display_data"
    }
   ],
   "source": [
    "#creates a scatter plot with y_test on the x-axis and y_pred on the y-axis.\n",
    "plt.scatter(y_test, y_pred)\n",
    "plt.xlabel(\"Actual attended\")\n",
    "plt.ylabel(\"Predicted attended\")\n",
    "plt.title(\"Actual vs Predicted attended\")\n",
    "plt.show()"
   ]
  },
  {
   "cell_type": "code",
   "execution_count": 74,
   "metadata": {},
   "outputs": [
    {
     "data": {
      "image/png": "[encoded data removed]",
      "text/plain": [
       "<Figure size 750x500 with 1 Axes>"
      ]
     },
     "metadata": {},
     "output_type": "display_data"
    }
   ],
   "source": [
    "# Assuming y_test and y_pred are your actual and predicted values\n",
    "df_lmplot = pd.DataFrame({'Actual attended': y_test, 'Predicted attended': y_pred})\n",
    "\n",
    "# Create an lmplot with specific height and aspect to control width\n",
    "sns.lmplot(x='Actual attended', y='Predicted attended', data=df_lmplot, height=5, aspect=1.5)\n",
    "\n",
    "plt.xlabel(\"Actual attended\")\n",
    "plt.ylabel(\"Predicted attended\")\n",
    "plt.title(\"Actual vs Predicted attended with Linear Regression Line\")\n",
    "plt.show()\n"
   ]
  },
  {
   "cell_type": "code",
   "execution_count": 75,
   "metadata": {},
   "outputs": [],
   "source": [
    "# Residuals\n",
    "# Create a distribution plot of residuals in your regression analysis. It\n",
    "# helps you check whether the residuals (the differences between actual\n",
    "# and predicted values) follow a normal distribution"
   ]
  },
  {
   "cell_type": "code",
   "execution_count": 76,
   "metadata": {},
   "outputs": [
    {
     "data": {
      "image/png": "[encoded data removed]",
      "text/plain": [
       "<Figure size 640x480 with 1 Axes>"
      ]
     },
     "metadata": {},
     "output_type": "display_data"
    }
   ],
   "source": [
    "# Assuming y_test and y_pred are your actual and predicted values\n",
    "sns.distplot((y_test - y_pred), bins=20)\n",
    "plt.xlabel(\"Residuals\")\n",
    "plt.ylabel(\"Frequency\")\n",
    "plt.title(\"Distribution of Residuals using Gradient Boosting Regression Model\")\n",
    "plt.show()"
   ]
  },
  {
   "cell_type": "code",
   "execution_count": 77,
   "metadata": {},
   "outputs": [],
   "source": [
    "# Observations: The residuals are normally distributed, it suggests that your\n",
    "# model is making unbiased predictions."
   ]
  },
  {
   "cell_type": "code",
   "execution_count": null,
   "metadata": {},
   "outputs": [],
   "source": []
  },
  {
   "cell_type": "code",
   "execution_count": 78,
   "metadata": {},
   "outputs": [],
   "source": [
    "# define the independent and dependent variables as X and y respectively\n"
   ]
  },
  {
   "cell_type": "code",
   "execution_count": 79,
   "metadata": {},
   "outputs": [
    {
     "data": {
      "text/html": [
       "<div>\n",
       "<style scoped>\n",
       "    .dataframe tbody tr th:only-of-type {\n",
       "        vertical-align: middle;\n",
       "    }\n",
       "\n",
       "    .dataframe tbody tr th {\n",
       "        vertical-align: top;\n",
       "    }\n",
       "\n",
       "    .dataframe thead th {\n",
       "        text-align: right;\n",
       "    }\n",
       "</style>\n",
       "<table border=\"1\" class=\"dataframe\">\n",
       "  <thead>\n",
       "    <tr style=\"text-align: right;\">\n",
       "      <th></th>\n",
       "      <th>months_as_member</th>\n",
       "      <th>weight</th>\n",
       "      <th>days_before</th>\n",
       "      <th>day_of_week</th>\n",
       "      <th>time</th>\n",
       "      <th>attended</th>\n",
       "      <th>category_encoded</th>\n",
       "    </tr>\n",
       "  </thead>\n",
       "  <tbody>\n",
       "    <tr>\n",
       "      <th>0</th>\n",
       "      <td>17</td>\n",
       "      <td>79.56</td>\n",
       "      <td>8</td>\n",
       "      <td>Wed</td>\n",
       "      <td>PM</td>\n",
       "      <td>0</td>\n",
       "      <td>4</td>\n",
       "    </tr>\n",
       "    <tr>\n",
       "      <th>1</th>\n",
       "      <td>10</td>\n",
       "      <td>79.01</td>\n",
       "      <td>2</td>\n",
       "      <td>Mon</td>\n",
       "      <td>AM</td>\n",
       "      <td>0</td>\n",
       "      <td>3</td>\n",
       "    </tr>\n",
       "    <tr>\n",
       "      <th>2</th>\n",
       "      <td>16</td>\n",
       "      <td>74.53</td>\n",
       "      <td>14</td>\n",
       "      <td>Sun</td>\n",
       "      <td>AM</td>\n",
       "      <td>0</td>\n",
       "      <td>4</td>\n",
       "    </tr>\n",
       "    <tr>\n",
       "      <th>3</th>\n",
       "      <td>5</td>\n",
       "      <td>86.12</td>\n",
       "      <td>10</td>\n",
       "      <td>Fri</td>\n",
       "      <td>AM</td>\n",
       "      <td>0</td>\n",
       "      <td>2</td>\n",
       "    </tr>\n",
       "    <tr>\n",
       "      <th>4</th>\n",
       "      <td>15</td>\n",
       "      <td>69.29</td>\n",
       "      <td>8</td>\n",
       "      <td>Thu</td>\n",
       "      <td>AM</td>\n",
       "      <td>0</td>\n",
       "      <td>3</td>\n",
       "    </tr>\n",
       "    <tr>\n",
       "      <th>...</th>\n",
       "      <td>...</td>\n",
       "      <td>...</td>\n",
       "      <td>...</td>\n",
       "      <td>...</td>\n",
       "      <td>...</td>\n",
       "      <td>...</td>\n",
       "      <td>...</td>\n",
       "    </tr>\n",
       "    <tr>\n",
       "      <th>1495</th>\n",
       "      <td>21</td>\n",
       "      <td>79.51</td>\n",
       "      <td>10</td>\n",
       "      <td>Fri</td>\n",
       "      <td>AM</td>\n",
       "      <td>0</td>\n",
       "      <td>3</td>\n",
       "    </tr>\n",
       "    <tr>\n",
       "      <th>1496</th>\n",
       "      <td>29</td>\n",
       "      <td>89.55</td>\n",
       "      <td>2</td>\n",
       "      <td>Mon</td>\n",
       "      <td>AM</td>\n",
       "      <td>0</td>\n",
       "      <td>4</td>\n",
       "    </tr>\n",
       "    <tr>\n",
       "      <th>1497</th>\n",
       "      <td>9</td>\n",
       "      <td>87.38</td>\n",
       "      <td>4</td>\n",
       "      <td>Tue</td>\n",
       "      <td>AM</td>\n",
       "      <td>0</td>\n",
       "      <td>3</td>\n",
       "    </tr>\n",
       "    <tr>\n",
       "      <th>1498</th>\n",
       "      <td>34</td>\n",
       "      <td>68.64</td>\n",
       "      <td>14</td>\n",
       "      <td>Sun</td>\n",
       "      <td>AM</td>\n",
       "      <td>0</td>\n",
       "      <td>1</td>\n",
       "    </tr>\n",
       "    <tr>\n",
       "      <th>1499</th>\n",
       "      <td>20</td>\n",
       "      <td>94.39</td>\n",
       "      <td>8</td>\n",
       "      <td>Thu</td>\n",
       "      <td>AM</td>\n",
       "      <td>1</td>\n",
       "      <td>2</td>\n",
       "    </tr>\n",
       "  </tbody>\n",
       "</table>\n",
       "<p>1500 rows × 7 columns</p>\n",
       "</div>"
      ],
      "text/plain": [
       "      months_as_member  weight days_before day_of_week time  attended  \\\n",
       "0                   17   79.56           8         Wed   PM         0   \n",
       "1                   10   79.01           2         Mon   AM         0   \n",
       "2                   16   74.53          14         Sun   AM         0   \n",
       "3                    5   86.12          10         Fri   AM         0   \n",
       "4                   15   69.29           8         Thu   AM         0   \n",
       "...                ...     ...         ...         ...  ...       ...   \n",
       "1495                21   79.51          10         Fri   AM         0   \n",
       "1496                29   89.55           2         Mon   AM         0   \n",
       "1497                 9   87.38           4         Tue   AM         0   \n",
       "1498                34   68.64          14         Sun   AM         0   \n",
       "1499                20   94.39           8         Thu   AM         1   \n",
       "\n",
       "      category_encoded  \n",
       "0                    4  \n",
       "1                    3  \n",
       "2                    4  \n",
       "3                    2  \n",
       "4                    3  \n",
       "...                ...  \n",
       "1495                 3  \n",
       "1496                 4  \n",
       "1497                 3  \n",
       "1498                 1  \n",
       "1499                 2  \n",
       "\n",
       "[1500 rows x 7 columns]"
      ]
     },
     "execution_count": 79,
     "metadata": {},
     "output_type": "execute_result"
    }
   ],
   "source": [
    "# Dropping 'category' columns\n",
    "fitness_df = fitness_df.drop(['category'], axis=1)\n",
    "fitness_df"
   ]
  },
  {
   "cell_type": "code",
   "execution_count": 80,
   "metadata": {},
   "outputs": [],
   "source": [
    "X = fitness_df.iloc[:, :-1]\n",
    "y = fitness_df.iloc[:, -1]\n"
   ]
  },
  {
   "cell_type": "code",
   "execution_count": 81,
   "metadata": {},
   "outputs": [
    {
     "data": {
      "text/html": [
       "<div>\n",
       "<style scoped>\n",
       "    .dataframe tbody tr th:only-of-type {\n",
       "        vertical-align: middle;\n",
       "    }\n",
       "\n",
       "    .dataframe tbody tr th {\n",
       "        vertical-align: top;\n",
       "    }\n",
       "\n",
       "    .dataframe thead th {\n",
       "        text-align: right;\n",
       "    }\n",
       "</style>\n",
       "<table border=\"1\" class=\"dataframe\">\n",
       "  <thead>\n",
       "    <tr style=\"text-align: right;\">\n",
       "      <th></th>\n",
       "      <th>months_as_member</th>\n",
       "      <th>weight</th>\n",
       "      <th>days_before</th>\n",
       "      <th>day_of_week</th>\n",
       "      <th>time</th>\n",
       "      <th>attended</th>\n",
       "    </tr>\n",
       "  </thead>\n",
       "  <tbody>\n",
       "    <tr>\n",
       "      <th>0</th>\n",
       "      <td>17</td>\n",
       "      <td>79.56</td>\n",
       "      <td>8</td>\n",
       "      <td>Wed</td>\n",
       "      <td>PM</td>\n",
       "      <td>0</td>\n",
       "    </tr>\n",
       "    <tr>\n",
       "      <th>1</th>\n",
       "      <td>10</td>\n",
       "      <td>79.01</td>\n",
       "      <td>2</td>\n",
       "      <td>Mon</td>\n",
       "      <td>AM</td>\n",
       "      <td>0</td>\n",
       "    </tr>\n",
       "    <tr>\n",
       "      <th>2</th>\n",
       "      <td>16</td>\n",
       "      <td>74.53</td>\n",
       "      <td>14</td>\n",
       "      <td>Sun</td>\n",
       "      <td>AM</td>\n",
       "      <td>0</td>\n",
       "    </tr>\n",
       "    <tr>\n",
       "      <th>3</th>\n",
       "      <td>5</td>\n",
       "      <td>86.12</td>\n",
       "      <td>10</td>\n",
       "      <td>Fri</td>\n",
       "      <td>AM</td>\n",
       "      <td>0</td>\n",
       "    </tr>\n",
       "    <tr>\n",
       "      <th>4</th>\n",
       "      <td>15</td>\n",
       "      <td>69.29</td>\n",
       "      <td>8</td>\n",
       "      <td>Thu</td>\n",
       "      <td>AM</td>\n",
       "      <td>0</td>\n",
       "    </tr>\n",
       "  </tbody>\n",
       "</table>\n",
       "</div>"
      ],
      "text/plain": [
       "   months_as_member  weight days_before day_of_week time  attended\n",
       "0                17   79.56           8         Wed   PM         0\n",
       "1                10   79.01           2         Mon   AM         0\n",
       "2                16   74.53          14         Sun   AM         0\n",
       "3                 5   86.12          10         Fri   AM         0\n",
       "4                15   69.29           8         Thu   AM         0"
      ]
     },
     "execution_count": 81,
     "metadata": {},
     "output_type": "execute_result"
    }
   ],
   "source": [
    "X.head()"
   ]
  },
  {
   "cell_type": "code",
   "execution_count": 82,
   "metadata": {},
   "outputs": [
    {
     "data": {
      "text/plain": [
       "0    4\n",
       "1    3\n",
       "2    4\n",
       "3    2\n",
       "4    3\n",
       "Name: category_encoded, dtype: int32"
      ]
     },
     "execution_count": 82,
     "metadata": {},
     "output_type": "execute_result"
    }
   ],
   "source": [
    "y.head()"
   ]
  },
  {
   "cell_type": "code",
   "execution_count": 83,
   "metadata": {},
   "outputs": [],
   "source": [
    "# splitting data into train and test sets\n",
    "X_train, X_test, y_train, y_test = train_test_split(X, y, test_size=0.3, random_state=42)"
   ]
  },
  {
   "cell_type": "code",
   "execution_count": 84,
   "metadata": {},
   "outputs": [],
   "source": [
    "def scores(m, X_train, X_test, y_train, y_test):\n",
    "    np.random.seed(42)\n",
    "    \n",
    "    ms = {}\n",
    "    \n",
    "    for n, model in m.items():\n",
    "        model.fit(X_train,y_train)\n",
    "        ms[n] = model.score(X_test,y_test)\n",
    "        \n",
    "    ms = pd.DataFrame(ms, index=['Score']).transpose()\n",
    "    ms = ms.sort_values('Score')\n",
    "    \n",
    "    return ms"
   ]
  },
  {
   "cell_type": "code",
   "execution_count": 85,
   "metadata": {},
   "outputs": [],
   "source": [
    "models = {'LogisticRegression': LogisticRegression(max_iter=10000),\n",
    "    'KNeighborsClassifier': KNeighborsClassifier(),\n",
    "    'SVC': SVC(),\n",
    "    'DecisionTreeClassifier': DecisionTreeClassifier(),\n",
    "    'RandomForestClassifier': RandomForestClassifier(),\n",
    "    'AdaBoostClassifier': AdaBoostClassifier(),\n",
    "    'GradientBoostingClassifier': GradientBoostingClassifier()}"
   ]
  },
  {
   "cell_type": "code",
   "execution_count": null,
   "metadata": {},
   "outputs": [],
   "source": []
  },
  {
   "cell_type": "code",
   "execution_count": 86,
   "metadata": {},
   "outputs": [
    {
     "data": {
      "text/html": [
       "<div>\n",
       "<style scoped>\n",
       "    .dataframe tbody tr th:only-of-type {\n",
       "        vertical-align: middle;\n",
       "    }\n",
       "\n",
       "    .dataframe tbody tr th {\n",
       "        vertical-align: top;\n",
       "    }\n",
       "\n",
       "    .dataframe thead th {\n",
       "        text-align: right;\n",
       "    }\n",
       "</style>\n",
       "<table border=\"1\" class=\"dataframe\">\n",
       "  <thead>\n",
       "    <tr style=\"text-align: right;\">\n",
       "      <th></th>\n",
       "      <th>months_as_member</th>\n",
       "      <th>weight</th>\n",
       "      <th>days_before</th>\n",
       "      <th>day_of_week</th>\n",
       "      <th>time</th>\n",
       "      <th>attended</th>\n",
       "    </tr>\n",
       "  </thead>\n",
       "  <tbody>\n",
       "    <tr>\n",
       "      <th>1116</th>\n",
       "      <td>15</td>\n",
       "      <td>65.47</td>\n",
       "      <td>6</td>\n",
       "      <td>Wednesday</td>\n",
       "      <td>AM</td>\n",
       "      <td>1</td>\n",
       "    </tr>\n",
       "    <tr>\n",
       "      <th>1368</th>\n",
       "      <td>18</td>\n",
       "      <td>77.85</td>\n",
       "      <td>8</td>\n",
       "      <td>Thu</td>\n",
       "      <td>AM</td>\n",
       "      <td>1</td>\n",
       "    </tr>\n",
       "    <tr>\n",
       "      <th>422</th>\n",
       "      <td>13</td>\n",
       "      <td>67.26</td>\n",
       "      <td>10</td>\n",
       "      <td>Fri</td>\n",
       "      <td>AM</td>\n",
       "      <td>0</td>\n",
       "    </tr>\n",
       "    <tr>\n",
       "      <th>413</th>\n",
       "      <td>7</td>\n",
       "      <td>86.70</td>\n",
       "      <td>12</td>\n",
       "      <td>Sat</td>\n",
       "      <td>AM</td>\n",
       "      <td>0</td>\n",
       "    </tr>\n",
       "    <tr>\n",
       "      <th>451</th>\n",
       "      <td>5</td>\n",
       "      <td>135.18</td>\n",
       "      <td>8</td>\n",
       "      <td>Thu</td>\n",
       "      <td>AM</td>\n",
       "      <td>0</td>\n",
       "    </tr>\n",
       "    <tr>\n",
       "      <th>...</th>\n",
       "      <td>...</td>\n",
       "      <td>...</td>\n",
       "      <td>...</td>\n",
       "      <td>...</td>\n",
       "      <td>...</td>\n",
       "      <td>...</td>\n",
       "    </tr>\n",
       "    <tr>\n",
       "      <th>1083</th>\n",
       "      <td>12</td>\n",
       "      <td>60.28</td>\n",
       "      <td>2</td>\n",
       "      <td>Mon</td>\n",
       "      <td>AM</td>\n",
       "      <td>1</td>\n",
       "    </tr>\n",
       "    <tr>\n",
       "      <th>990</th>\n",
       "      <td>19</td>\n",
       "      <td>72.10</td>\n",
       "      <td>5</td>\n",
       "      <td>Tue</td>\n",
       "      <td>PM</td>\n",
       "      <td>0</td>\n",
       "    </tr>\n",
       "    <tr>\n",
       "      <th>650</th>\n",
       "      <td>8</td>\n",
       "      <td>78.59</td>\n",
       "      <td>3</td>\n",
       "      <td>Tue</td>\n",
       "      <td>PM</td>\n",
       "      <td>0</td>\n",
       "    </tr>\n",
       "    <tr>\n",
       "      <th>1188</th>\n",
       "      <td>5</td>\n",
       "      <td>107.06</td>\n",
       "      <td>10</td>\n",
       "      <td>Fri</td>\n",
       "      <td>AM</td>\n",
       "      <td>0</td>\n",
       "    </tr>\n",
       "    <tr>\n",
       "      <th>1498</th>\n",
       "      <td>34</td>\n",
       "      <td>68.64</td>\n",
       "      <td>14</td>\n",
       "      <td>Sun</td>\n",
       "      <td>AM</td>\n",
       "      <td>0</td>\n",
       "    </tr>\n",
       "  </tbody>\n",
       "</table>\n",
       "<p>450 rows × 6 columns</p>\n",
       "</div>"
      ],
      "text/plain": [
       "      months_as_member  weight days_before day_of_week time  attended\n",
       "1116                15   65.47           6   Wednesday   AM         1\n",
       "1368                18   77.85           8         Thu   AM         1\n",
       "422                 13   67.26          10         Fri   AM         0\n",
       "413                  7   86.70          12         Sat   AM         0\n",
       "451                  5  135.18           8         Thu   AM         0\n",
       "...                ...     ...         ...         ...  ...       ...\n",
       "1083                12   60.28           2         Mon   AM         1\n",
       "990                 19   72.10           5         Tue   PM         0\n",
       "650                  8   78.59           3         Tue   PM         0\n",
       "1188                 5  107.06          10         Fri   AM         0\n",
       "1498                34   68.64          14         Sun   AM         0\n",
       "\n",
       "[450 rows x 6 columns]"
      ]
     },
     "execution_count": 86,
     "metadata": {},
     "output_type": "execute_result"
    }
   ],
   "source": [
    "X_test"
   ]
  },
  {
   "cell_type": "code",
   "execution_count": 87,
   "metadata": {},
   "outputs": [
    {
     "data": {
      "text/plain": [
       "485     1\n",
       "527     4\n",
       "199     2\n",
       "889     2\n",
       "844     1\n",
       "       ..\n",
       "1130    2\n",
       "1294    5\n",
       "860     2\n",
       "1459    2\n",
       "1126    5\n",
       "Name: category_encoded, Length: 1050, dtype: int32"
      ]
     },
     "execution_count": 87,
     "metadata": {},
     "output_type": "execute_result"
    }
   ],
   "source": [
    "y_train"
   ]
  },
  {
   "cell_type": "code",
   "execution_count": 88,
   "metadata": {},
   "outputs": [
    {
     "data": {
      "text/plain": [
       "1116    3\n",
       "1368    4\n",
       "422     2\n",
       "413     3\n",
       "451     3\n",
       "       ..\n",
       "1083    4\n",
       "990     2\n",
       "650     3\n",
       "1188    5\n",
       "1498    1\n",
       "Name: category_encoded, Length: 450, dtype: int32"
      ]
     },
     "execution_count": 88,
     "metadata": {},
     "output_type": "execute_result"
    }
   ],
   "source": [
    "y_test"
   ]
  },
  {
   "cell_type": "code",
   "execution_count": null,
   "metadata": {},
   "outputs": [],
   "source": []
  },
  {
   "cell_type": "code",
   "execution_count": null,
   "metadata": {},
   "outputs": [],
   "source": []
  },
  {
   "cell_type": "code",
   "execution_count": 89,
   "metadata": {},
   "outputs": [],
   "source": [
    "# # encode 'category' column\n",
    "# label_encoder = LabelEncoder()\n",
    "# fitness_df['category_encoded'] = label_encoder.fit_transform(fitness_df['category'])"
   ]
  },
  {
   "cell_type": "code",
   "execution_count": 90,
   "metadata": {},
   "outputs": [],
   "source": [
    "# # Dropping booking_id column\n",
    "# fitness_df = fitness_df.drop(['booking_id'], axis=1)\n",
    "# fitness_df"
   ]
  },
  {
   "cell_type": "code",
   "execution_count": 91,
   "metadata": {},
   "outputs": [],
   "source": [
    "# encoding\n",
    "label_encoder = LabelEncoder()\n",
    "fitness_df['day_of_week_encoded'] = label_encoder.fit_transform(fitness_df['day_of_week'])\n",
    "\n",
    "label_encoder = LabelEncoder()\n",
    "fitness_df['time_encoded'] = label_encoder.fit_transform(fitness_df['time'])"
   ]
  },
  {
   "cell_type": "code",
   "execution_count": 92,
   "metadata": {},
   "outputs": [
    {
     "data": {
      "text/html": [
       "<div>\n",
       "<style scoped>\n",
       "    .dataframe tbody tr th:only-of-type {\n",
       "        vertical-align: middle;\n",
       "    }\n",
       "\n",
       "    .dataframe tbody tr th {\n",
       "        vertical-align: top;\n",
       "    }\n",
       "\n",
       "    .dataframe thead th {\n",
       "        text-align: right;\n",
       "    }\n",
       "</style>\n",
       "<table border=\"1\" class=\"dataframe\">\n",
       "  <thead>\n",
       "    <tr style=\"text-align: right;\">\n",
       "      <th></th>\n",
       "      <th>months_as_member</th>\n",
       "      <th>weight</th>\n",
       "      <th>days_before</th>\n",
       "      <th>day_of_week</th>\n",
       "      <th>time</th>\n",
       "      <th>attended</th>\n",
       "    </tr>\n",
       "  </thead>\n",
       "  <tbody>\n",
       "    <tr>\n",
       "      <th>485</th>\n",
       "      <td>66</td>\n",
       "      <td>61.01</td>\n",
       "      <td>5</td>\n",
       "      <td>Tue</td>\n",
       "      <td>AM</td>\n",
       "      <td>1</td>\n",
       "    </tr>\n",
       "    <tr>\n",
       "      <th>527</th>\n",
       "      <td>5</td>\n",
       "      <td>94.55</td>\n",
       "      <td>3</td>\n",
       "      <td>Tue</td>\n",
       "      <td>PM</td>\n",
       "      <td>0</td>\n",
       "    </tr>\n",
       "    <tr>\n",
       "      <th>199</th>\n",
       "      <td>12</td>\n",
       "      <td>80.28</td>\n",
       "      <td>14</td>\n",
       "      <td>Sun</td>\n",
       "      <td>AM</td>\n",
       "      <td>0</td>\n",
       "    </tr>\n",
       "    <tr>\n",
       "      <th>889</th>\n",
       "      <td>17</td>\n",
       "      <td>80.49</td>\n",
       "      <td>4</td>\n",
       "      <td>Tue</td>\n",
       "      <td>PM</td>\n",
       "      <td>0</td>\n",
       "    </tr>\n",
       "    <tr>\n",
       "      <th>844</th>\n",
       "      <td>16</td>\n",
       "      <td>65.81</td>\n",
       "      <td>5</td>\n",
       "      <td>Wednesday</td>\n",
       "      <td>PM</td>\n",
       "      <td>0</td>\n",
       "    </tr>\n",
       "    <tr>\n",
       "      <th>...</th>\n",
       "      <td>...</td>\n",
       "      <td>...</td>\n",
       "      <td>...</td>\n",
       "      <td>...</td>\n",
       "      <td>...</td>\n",
       "      <td>...</td>\n",
       "    </tr>\n",
       "    <tr>\n",
       "      <th>1130</th>\n",
       "      <td>15</td>\n",
       "      <td>77.20</td>\n",
       "      <td>10</td>\n",
       "      <td>Fri</td>\n",
       "      <td>AM</td>\n",
       "      <td>0</td>\n",
       "    </tr>\n",
       "    <tr>\n",
       "      <th>1294</th>\n",
       "      <td>17</td>\n",
       "      <td>85.26</td>\n",
       "      <td>6</td>\n",
       "      <td>Wed</td>\n",
       "      <td>AM</td>\n",
       "      <td>0</td>\n",
       "    </tr>\n",
       "    <tr>\n",
       "      <th>860</th>\n",
       "      <td>6</td>\n",
       "      <td>95.66</td>\n",
       "      <td>3</td>\n",
       "      <td>Tue</td>\n",
       "      <td>PM</td>\n",
       "      <td>0</td>\n",
       "    </tr>\n",
       "    <tr>\n",
       "      <th>1459</th>\n",
       "      <td>13</td>\n",
       "      <td>73.31</td>\n",
       "      <td>12</td>\n",
       "      <td>Sat</td>\n",
       "      <td>PM</td>\n",
       "      <td>0</td>\n",
       "    </tr>\n",
       "    <tr>\n",
       "      <th>1126</th>\n",
       "      <td>13</td>\n",
       "      <td>73.96</td>\n",
       "      <td>8</td>\n",
       "      <td>Thu</td>\n",
       "      <td>AM</td>\n",
       "      <td>0</td>\n",
       "    </tr>\n",
       "  </tbody>\n",
       "</table>\n",
       "<p>1050 rows × 6 columns</p>\n",
       "</div>"
      ],
      "text/plain": [
       "      months_as_member  weight days_before day_of_week time  attended\n",
       "485                 66   61.01           5         Tue   AM         1\n",
       "527                  5   94.55           3         Tue   PM         0\n",
       "199                 12   80.28          14         Sun   AM         0\n",
       "889                 17   80.49           4         Tue   PM         0\n",
       "844                 16   65.81           5   Wednesday   PM         0\n",
       "...                ...     ...         ...         ...  ...       ...\n",
       "1130                15   77.20          10         Fri   AM         0\n",
       "1294                17   85.26           6         Wed   AM         0\n",
       "860                  6   95.66           3         Tue   PM         0\n",
       "1459                13   73.31          12         Sat   PM         0\n",
       "1126                13   73.96           8         Thu   AM         0\n",
       "\n",
       "[1050 rows x 6 columns]"
      ]
     },
     "execution_count": 92,
     "metadata": {},
     "output_type": "execute_result"
    }
   ],
   "source": [
    "X_train"
   ]
  },
  {
   "cell_type": "code",
   "execution_count": null,
   "metadata": {},
   "outputs": [],
   "source": []
  },
  {
   "cell_type": "code",
   "execution_count": null,
   "metadata": {},
   "outputs": [],
   "source": []
  },
  {
   "cell_type": "code",
   "execution_count": null,
   "metadata": {},
   "outputs": [],
   "source": []
  },
  {
   "cell_type": "code",
   "execution_count": 93,
   "metadata": {},
   "outputs": [
    {
     "data": {
      "text/html": [
       "<div>\n",
       "<style scoped>\n",
       "    .dataframe tbody tr th:only-of-type {\n",
       "        vertical-align: middle;\n",
       "    }\n",
       "\n",
       "    .dataframe tbody tr th {\n",
       "        vertical-align: top;\n",
       "    }\n",
       "\n",
       "    .dataframe thead th {\n",
       "        text-align: right;\n",
       "    }\n",
       "</style>\n",
       "<table border=\"1\" class=\"dataframe\">\n",
       "  <thead>\n",
       "    <tr style=\"text-align: right;\">\n",
       "      <th></th>\n",
       "      <th>months_as_member</th>\n",
       "      <th>weight</th>\n",
       "      <th>days_before</th>\n",
       "      <th>attended</th>\n",
       "      <th>category_encoded</th>\n",
       "      <th>day_of_week_encoded</th>\n",
       "      <th>time_encoded</th>\n",
       "    </tr>\n",
       "  </thead>\n",
       "  <tbody>\n",
       "    <tr>\n",
       "      <th>0</th>\n",
       "      <td>17</td>\n",
       "      <td>79.56</td>\n",
       "      <td>8</td>\n",
       "      <td>0</td>\n",
       "      <td>4</td>\n",
       "      <td>8</td>\n",
       "      <td>1</td>\n",
       "    </tr>\n",
       "    <tr>\n",
       "      <th>1</th>\n",
       "      <td>10</td>\n",
       "      <td>79.01</td>\n",
       "      <td>2</td>\n",
       "      <td>0</td>\n",
       "      <td>3</td>\n",
       "      <td>2</td>\n",
       "      <td>0</td>\n",
       "    </tr>\n",
       "    <tr>\n",
       "      <th>2</th>\n",
       "      <td>16</td>\n",
       "      <td>74.53</td>\n",
       "      <td>14</td>\n",
       "      <td>0</td>\n",
       "      <td>4</td>\n",
       "      <td>5</td>\n",
       "      <td>0</td>\n",
       "    </tr>\n",
       "    <tr>\n",
       "      <th>3</th>\n",
       "      <td>5</td>\n",
       "      <td>86.12</td>\n",
       "      <td>10</td>\n",
       "      <td>0</td>\n",
       "      <td>2</td>\n",
       "      <td>0</td>\n",
       "      <td>0</td>\n",
       "    </tr>\n",
       "    <tr>\n",
       "      <th>4</th>\n",
       "      <td>15</td>\n",
       "      <td>69.29</td>\n",
       "      <td>8</td>\n",
       "      <td>0</td>\n",
       "      <td>3</td>\n",
       "      <td>6</td>\n",
       "      <td>0</td>\n",
       "    </tr>\n",
       "    <tr>\n",
       "      <th>...</th>\n",
       "      <td>...</td>\n",
       "      <td>...</td>\n",
       "      <td>...</td>\n",
       "      <td>...</td>\n",
       "      <td>...</td>\n",
       "      <td>...</td>\n",
       "      <td>...</td>\n",
       "    </tr>\n",
       "    <tr>\n",
       "      <th>1495</th>\n",
       "      <td>21</td>\n",
       "      <td>79.51</td>\n",
       "      <td>10</td>\n",
       "      <td>0</td>\n",
       "      <td>3</td>\n",
       "      <td>0</td>\n",
       "      <td>0</td>\n",
       "    </tr>\n",
       "    <tr>\n",
       "      <th>1496</th>\n",
       "      <td>29</td>\n",
       "      <td>89.55</td>\n",
       "      <td>2</td>\n",
       "      <td>0</td>\n",
       "      <td>4</td>\n",
       "      <td>2</td>\n",
       "      <td>0</td>\n",
       "    </tr>\n",
       "    <tr>\n",
       "      <th>1497</th>\n",
       "      <td>9</td>\n",
       "      <td>87.38</td>\n",
       "      <td>4</td>\n",
       "      <td>0</td>\n",
       "      <td>3</td>\n",
       "      <td>7</td>\n",
       "      <td>0</td>\n",
       "    </tr>\n",
       "    <tr>\n",
       "      <th>1498</th>\n",
       "      <td>34</td>\n",
       "      <td>68.64</td>\n",
       "      <td>14</td>\n",
       "      <td>0</td>\n",
       "      <td>1</td>\n",
       "      <td>5</td>\n",
       "      <td>0</td>\n",
       "    </tr>\n",
       "    <tr>\n",
       "      <th>1499</th>\n",
       "      <td>20</td>\n",
       "      <td>94.39</td>\n",
       "      <td>8</td>\n",
       "      <td>1</td>\n",
       "      <td>2</td>\n",
       "      <td>6</td>\n",
       "      <td>0</td>\n",
       "    </tr>\n",
       "  </tbody>\n",
       "</table>\n",
       "<p>1500 rows × 7 columns</p>\n",
       "</div>"
      ],
      "text/plain": [
       "      months_as_member  weight days_before  attended  category_encoded  \\\n",
       "0                   17   79.56           8         0                 4   \n",
       "1                   10   79.01           2         0                 3   \n",
       "2                   16   74.53          14         0                 4   \n",
       "3                    5   86.12          10         0                 2   \n",
       "4                   15   69.29           8         0                 3   \n",
       "...                ...     ...         ...       ...               ...   \n",
       "1495                21   79.51          10         0                 3   \n",
       "1496                29   89.55           2         0                 4   \n",
       "1497                 9   87.38           4         0                 3   \n",
       "1498                34   68.64          14         0                 1   \n",
       "1499                20   94.39           8         1                 2   \n",
       "\n",
       "      day_of_week_encoded  time_encoded  \n",
       "0                       8             1  \n",
       "1                       2             0  \n",
       "2                       5             0  \n",
       "3                       0             0  \n",
       "4                       6             0  \n",
       "...                   ...           ...  \n",
       "1495                    0             0  \n",
       "1496                    2             0  \n",
       "1497                    7             0  \n",
       "1498                    5             0  \n",
       "1499                    6             0  \n",
       "\n",
       "[1500 rows x 7 columns]"
      ]
     },
     "execution_count": 93,
     "metadata": {},
     "output_type": "execute_result"
    }
   ],
   "source": [
    "# Dropping unnecessry column\n",
    "fitness_df = fitness_df.drop(['day_of_week','time'], axis=1)\n",
    "fitness_df"
   ]
  },
  {
   "cell_type": "code",
   "execution_count": 94,
   "metadata": {},
   "outputs": [
    {
     "data": {
      "text/html": [
       "<div>\n",
       "<style scoped>\n",
       "    .dataframe tbody tr th:only-of-type {\n",
       "        vertical-align: middle;\n",
       "    }\n",
       "\n",
       "    .dataframe tbody tr th {\n",
       "        vertical-align: top;\n",
       "    }\n",
       "\n",
       "    .dataframe thead th {\n",
       "        text-align: right;\n",
       "    }\n",
       "</style>\n",
       "<table border=\"1\" class=\"dataframe\">\n",
       "  <thead>\n",
       "    <tr style=\"text-align: right;\">\n",
       "      <th></th>\n",
       "      <th>months_as_member</th>\n",
       "      <th>weight</th>\n",
       "      <th>days_before</th>\n",
       "      <th>day_of_week</th>\n",
       "      <th>time</th>\n",
       "      <th>attended</th>\n",
       "    </tr>\n",
       "  </thead>\n",
       "  <tbody>\n",
       "    <tr>\n",
       "      <th>485</th>\n",
       "      <td>66</td>\n",
       "      <td>61.01</td>\n",
       "      <td>5</td>\n",
       "      <td>Tue</td>\n",
       "      <td>AM</td>\n",
       "      <td>1</td>\n",
       "    </tr>\n",
       "    <tr>\n",
       "      <th>527</th>\n",
       "      <td>5</td>\n",
       "      <td>94.55</td>\n",
       "      <td>3</td>\n",
       "      <td>Tue</td>\n",
       "      <td>PM</td>\n",
       "      <td>0</td>\n",
       "    </tr>\n",
       "    <tr>\n",
       "      <th>199</th>\n",
       "      <td>12</td>\n",
       "      <td>80.28</td>\n",
       "      <td>14</td>\n",
       "      <td>Sun</td>\n",
       "      <td>AM</td>\n",
       "      <td>0</td>\n",
       "    </tr>\n",
       "    <tr>\n",
       "      <th>889</th>\n",
       "      <td>17</td>\n",
       "      <td>80.49</td>\n",
       "      <td>4</td>\n",
       "      <td>Tue</td>\n",
       "      <td>PM</td>\n",
       "      <td>0</td>\n",
       "    </tr>\n",
       "    <tr>\n",
       "      <th>844</th>\n",
       "      <td>16</td>\n",
       "      <td>65.81</td>\n",
       "      <td>5</td>\n",
       "      <td>Wednesday</td>\n",
       "      <td>PM</td>\n",
       "      <td>0</td>\n",
       "    </tr>\n",
       "    <tr>\n",
       "      <th>...</th>\n",
       "      <td>...</td>\n",
       "      <td>...</td>\n",
       "      <td>...</td>\n",
       "      <td>...</td>\n",
       "      <td>...</td>\n",
       "      <td>...</td>\n",
       "    </tr>\n",
       "    <tr>\n",
       "      <th>1130</th>\n",
       "      <td>15</td>\n",
       "      <td>77.20</td>\n",
       "      <td>10</td>\n",
       "      <td>Fri</td>\n",
       "      <td>AM</td>\n",
       "      <td>0</td>\n",
       "    </tr>\n",
       "    <tr>\n",
       "      <th>1294</th>\n",
       "      <td>17</td>\n",
       "      <td>85.26</td>\n",
       "      <td>6</td>\n",
       "      <td>Wed</td>\n",
       "      <td>AM</td>\n",
       "      <td>0</td>\n",
       "    </tr>\n",
       "    <tr>\n",
       "      <th>860</th>\n",
       "      <td>6</td>\n",
       "      <td>95.66</td>\n",
       "      <td>3</td>\n",
       "      <td>Tue</td>\n",
       "      <td>PM</td>\n",
       "      <td>0</td>\n",
       "    </tr>\n",
       "    <tr>\n",
       "      <th>1459</th>\n",
       "      <td>13</td>\n",
       "      <td>73.31</td>\n",
       "      <td>12</td>\n",
       "      <td>Sat</td>\n",
       "      <td>PM</td>\n",
       "      <td>0</td>\n",
       "    </tr>\n",
       "    <tr>\n",
       "      <th>1126</th>\n",
       "      <td>13</td>\n",
       "      <td>73.96</td>\n",
       "      <td>8</td>\n",
       "      <td>Thu</td>\n",
       "      <td>AM</td>\n",
       "      <td>0</td>\n",
       "    </tr>\n",
       "  </tbody>\n",
       "</table>\n",
       "<p>1050 rows × 6 columns</p>\n",
       "</div>"
      ],
      "text/plain": [
       "      months_as_member  weight days_before day_of_week time  attended\n",
       "485                 66   61.01           5         Tue   AM         1\n",
       "527                  5   94.55           3         Tue   PM         0\n",
       "199                 12   80.28          14         Sun   AM         0\n",
       "889                 17   80.49           4         Tue   PM         0\n",
       "844                 16   65.81           5   Wednesday   PM         0\n",
       "...                ...     ...         ...         ...  ...       ...\n",
       "1130                15   77.20          10         Fri   AM         0\n",
       "1294                17   85.26           6         Wed   AM         0\n",
       "860                  6   95.66           3         Tue   PM         0\n",
       "1459                13   73.31          12         Sat   PM         0\n",
       "1126                13   73.96           8         Thu   AM         0\n",
       "\n",
       "[1050 rows x 6 columns]"
      ]
     },
     "execution_count": 94,
     "metadata": {},
     "output_type": "execute_result"
    }
   ],
   "source": [
    "X_train"
   ]
  },
  {
   "cell_type": "code",
   "execution_count": null,
   "metadata": {},
   "outputs": [],
   "source": []
  },
  {
   "cell_type": "code",
   "execution_count": 95,
   "metadata": {},
   "outputs": [
    {
     "ename": "ValueError",
     "evalue": "could not convert string to float: 'Tue'",
     "output_type": "error",
     "traceback": [
      "\u001b[1;31m---------------------------------------------------------------------------\u001b[0m",
      "\u001b[1;31mValueError\u001b[0m                                Traceback (most recent call last)",
      "\u001b[1;32m~\\AppData\\Local\\Temp\\ipykernel_16340\\903209213.py\u001b[0m in \u001b[0;36m?\u001b[1;34m()\u001b[0m\n\u001b[1;32m----> 1\u001b[1;33m \u001b[0mresults\u001b[0m \u001b[1;33m=\u001b[0m \u001b[0mscores\u001b[0m\u001b[1;33m(\u001b[0m\u001b[0mmodels\u001b[0m\u001b[1;33m,\u001b[0m \u001b[0mX_train\u001b[0m\u001b[1;33m,\u001b[0m \u001b[0mX_test\u001b[0m\u001b[1;33m,\u001b[0m \u001b[0my_train\u001b[0m\u001b[1;33m,\u001b[0m \u001b[0my_test\u001b[0m\u001b[1;33m)\u001b[0m\u001b[1;33m\u001b[0m\u001b[1;33m\u001b[0m\u001b[0m\n\u001b[0m\u001b[0;32m      2\u001b[0m \u001b[0mresults\u001b[0m\u001b[1;33m\u001b[0m\u001b[1;33m\u001b[0m\u001b[0m\n",
      "\u001b[1;32m~\\AppData\\Local\\Temp\\ipykernel_16340\\2892390255.py\u001b[0m in \u001b[0;36m?\u001b[1;34m(m, X_train, X_test, y_train, y_test)\u001b[0m\n\u001b[0;32m      3\u001b[0m \u001b[1;33m\u001b[0m\u001b[0m\n\u001b[0;32m      4\u001b[0m     \u001b[0mms\u001b[0m \u001b[1;33m=\u001b[0m \u001b[1;33m{\u001b[0m\u001b[1;33m}\u001b[0m\u001b[1;33m\u001b[0m\u001b[1;33m\u001b[0m\u001b[0m\n\u001b[0;32m      5\u001b[0m \u001b[1;33m\u001b[0m\u001b[0m\n\u001b[0;32m      6\u001b[0m     \u001b[1;32mfor\u001b[0m \u001b[0mn\u001b[0m\u001b[1;33m,\u001b[0m \u001b[0mmodel\u001b[0m \u001b[1;32min\u001b[0m \u001b[0mm\u001b[0m\u001b[1;33m.\u001b[0m\u001b[0mitems\u001b[0m\u001b[1;33m(\u001b[0m\u001b[1;33m)\u001b[0m\u001b[1;33m:\u001b[0m\u001b[1;33m\u001b[0m\u001b[1;33m\u001b[0m\u001b[0m\n\u001b[1;32m----> 7\u001b[1;33m         \u001b[0mmodel\u001b[0m\u001b[1;33m.\u001b[0m\u001b[0mfit\u001b[0m\u001b[1;33m(\u001b[0m\u001b[0mX_train\u001b[0m\u001b[1;33m,\u001b[0m\u001b[0my_train\u001b[0m\u001b[1;33m)\u001b[0m\u001b[1;33m\u001b[0m\u001b[1;33m\u001b[0m\u001b[0m\n\u001b[0m\u001b[0;32m      8\u001b[0m         \u001b[0mms\u001b[0m\u001b[1;33m[\u001b[0m\u001b[0mn\u001b[0m\u001b[1;33m]\u001b[0m \u001b[1;33m=\u001b[0m \u001b[0mmodel\u001b[0m\u001b[1;33m.\u001b[0m\u001b[0mscore\u001b[0m\u001b[1;33m(\u001b[0m\u001b[0mX_test\u001b[0m\u001b[1;33m,\u001b[0m\u001b[0my_test\u001b[0m\u001b[1;33m)\u001b[0m\u001b[1;33m\u001b[0m\u001b[1;33m\u001b[0m\u001b[0m\n\u001b[0;32m      9\u001b[0m \u001b[1;33m\u001b[0m\u001b[0m\n\u001b[0;32m     10\u001b[0m     \u001b[0mms\u001b[0m \u001b[1;33m=\u001b[0m \u001b[0mpd\u001b[0m\u001b[1;33m.\u001b[0m\u001b[0mDataFrame\u001b[0m\u001b[1;33m(\u001b[0m\u001b[0mms\u001b[0m\u001b[1;33m,\u001b[0m \u001b[0mindex\u001b[0m\u001b[1;33m=\u001b[0m\u001b[1;33m[\u001b[0m\u001b[1;34m'Score'\u001b[0m\u001b[1;33m]\u001b[0m\u001b[1;33m)\u001b[0m\u001b[1;33m.\u001b[0m\u001b[0mtranspose\u001b[0m\u001b[1;33m(\u001b[0m\u001b[1;33m)\u001b[0m\u001b[1;33m\u001b[0m\u001b[1;33m\u001b[0m\u001b[0m\n",
      "\u001b[1;32m~\\anaconda3\\lib\\site-packages\\sklearn\\base.py\u001b[0m in \u001b[0;36m?\u001b[1;34m(estimator, *args, **kwargs)\u001b[0m\n\u001b[0;32m   1148\u001b[0m                 skip_parameter_validation=(\n\u001b[0;32m   1149\u001b[0m                     \u001b[0mprefer_skip_nested_validation\u001b[0m \u001b[1;32mor\u001b[0m \u001b[0mglobal_skip_validation\u001b[0m\u001b[1;33m\u001b[0m\u001b[1;33m\u001b[0m\u001b[0m\n\u001b[0;32m   1150\u001b[0m                 )\n\u001b[0;32m   1151\u001b[0m             ):\n\u001b[1;32m-> 1152\u001b[1;33m                 \u001b[1;32mreturn\u001b[0m \u001b[0mfit_method\u001b[0m\u001b[1;33m(\u001b[0m\u001b[0mestimator\u001b[0m\u001b[1;33m,\u001b[0m \u001b[1;33m*\u001b[0m\u001b[0margs\u001b[0m\u001b[1;33m,\u001b[0m \u001b[1;33m**\u001b[0m\u001b[0mkwargs\u001b[0m\u001b[1;33m)\u001b[0m\u001b[1;33m\u001b[0m\u001b[1;33m\u001b[0m\u001b[0m\n\u001b[0m",
      "\u001b[1;32m~\\anaconda3\\lib\\site-packages\\sklearn\\linear_model\\_logistic.py\u001b[0m in \u001b[0;36m?\u001b[1;34m(self, X, y, sample_weight)\u001b[0m\n\u001b[0;32m   1204\u001b[0m             \u001b[0m_dtype\u001b[0m \u001b[1;33m=\u001b[0m \u001b[0mnp\u001b[0m\u001b[1;33m.\u001b[0m\u001b[0mfloat64\u001b[0m\u001b[1;33m\u001b[0m\u001b[1;33m\u001b[0m\u001b[0m\n\u001b[0;32m   1205\u001b[0m         \u001b[1;32melse\u001b[0m\u001b[1;33m:\u001b[0m\u001b[1;33m\u001b[0m\u001b[1;33m\u001b[0m\u001b[0m\n\u001b[0;32m   1206\u001b[0m             \u001b[0m_dtype\u001b[0m \u001b[1;33m=\u001b[0m \u001b[1;33m[\u001b[0m\u001b[0mnp\u001b[0m\u001b[1;33m.\u001b[0m\u001b[0mfloat64\u001b[0m\u001b[1;33m,\u001b[0m \u001b[0mnp\u001b[0m\u001b[1;33m.\u001b[0m\u001b[0mfloat32\u001b[0m\u001b[1;33m]\u001b[0m\u001b[1;33m\u001b[0m\u001b[1;33m\u001b[0m\u001b[0m\n\u001b[0;32m   1207\u001b[0m \u001b[1;33m\u001b[0m\u001b[0m\n\u001b[1;32m-> 1208\u001b[1;33m         X, y = self._validate_data(\n\u001b[0m\u001b[0;32m   1209\u001b[0m             \u001b[0mX\u001b[0m\u001b[1;33m,\u001b[0m\u001b[1;33m\u001b[0m\u001b[1;33m\u001b[0m\u001b[0m\n\u001b[0;32m   1210\u001b[0m             \u001b[0my\u001b[0m\u001b[1;33m,\u001b[0m\u001b[1;33m\u001b[0m\u001b[1;33m\u001b[0m\u001b[0m\n\u001b[0;32m   1211\u001b[0m             \u001b[0maccept_sparse\u001b[0m\u001b[1;33m=\u001b[0m\u001b[1;34m\"csr\"\u001b[0m\u001b[1;33m,\u001b[0m\u001b[1;33m\u001b[0m\u001b[1;33m\u001b[0m\u001b[0m\n",
      "\u001b[1;32m~\\anaconda3\\lib\\site-packages\\sklearn\\base.py\u001b[0m in \u001b[0;36m?\u001b[1;34m(self, X, y, reset, validate_separately, cast_to_ndarray, **check_params)\u001b[0m\n\u001b[0;32m    618\u001b[0m                 \u001b[1;32mif\u001b[0m \u001b[1;34m\"estimator\"\u001b[0m \u001b[1;32mnot\u001b[0m \u001b[1;32min\u001b[0m \u001b[0mcheck_y_params\u001b[0m\u001b[1;33m:\u001b[0m\u001b[1;33m\u001b[0m\u001b[1;33m\u001b[0m\u001b[0m\n\u001b[0;32m    619\u001b[0m                     \u001b[0mcheck_y_params\u001b[0m \u001b[1;33m=\u001b[0m \u001b[1;33m{\u001b[0m\u001b[1;33m**\u001b[0m\u001b[0mdefault_check_params\u001b[0m\u001b[1;33m,\u001b[0m \u001b[1;33m**\u001b[0m\u001b[0mcheck_y_params\u001b[0m\u001b[1;33m}\u001b[0m\u001b[1;33m\u001b[0m\u001b[1;33m\u001b[0m\u001b[0m\n\u001b[0;32m    620\u001b[0m                 \u001b[0my\u001b[0m \u001b[1;33m=\u001b[0m \u001b[0mcheck_array\u001b[0m\u001b[1;33m(\u001b[0m\u001b[0my\u001b[0m\u001b[1;33m,\u001b[0m \u001b[0minput_name\u001b[0m\u001b[1;33m=\u001b[0m\u001b[1;34m\"y\"\u001b[0m\u001b[1;33m,\u001b[0m \u001b[1;33m**\u001b[0m\u001b[0mcheck_y_params\u001b[0m\u001b[1;33m)\u001b[0m\u001b[1;33m\u001b[0m\u001b[1;33m\u001b[0m\u001b[0m\n\u001b[0;32m    621\u001b[0m             \u001b[1;32melse\u001b[0m\u001b[1;33m:\u001b[0m\u001b[1;33m\u001b[0m\u001b[1;33m\u001b[0m\u001b[0m\n\u001b[1;32m--> 622\u001b[1;33m                 \u001b[0mX\u001b[0m\u001b[1;33m,\u001b[0m \u001b[0my\u001b[0m \u001b[1;33m=\u001b[0m \u001b[0mcheck_X_y\u001b[0m\u001b[1;33m(\u001b[0m\u001b[0mX\u001b[0m\u001b[1;33m,\u001b[0m \u001b[0my\u001b[0m\u001b[1;33m,\u001b[0m \u001b[1;33m**\u001b[0m\u001b[0mcheck_params\u001b[0m\u001b[1;33m)\u001b[0m\u001b[1;33m\u001b[0m\u001b[1;33m\u001b[0m\u001b[0m\n\u001b[0m\u001b[0;32m    623\u001b[0m             \u001b[0mout\u001b[0m \u001b[1;33m=\u001b[0m \u001b[0mX\u001b[0m\u001b[1;33m,\u001b[0m \u001b[0my\u001b[0m\u001b[1;33m\u001b[0m\u001b[1;33m\u001b[0m\u001b[0m\n\u001b[0;32m    624\u001b[0m \u001b[1;33m\u001b[0m\u001b[0m\n\u001b[0;32m    625\u001b[0m         \u001b[1;32mif\u001b[0m \u001b[1;32mnot\u001b[0m \u001b[0mno_val_X\u001b[0m \u001b[1;32mand\u001b[0m \u001b[0mcheck_params\u001b[0m\u001b[1;33m.\u001b[0m\u001b[0mget\u001b[0m\u001b[1;33m(\u001b[0m\u001b[1;34m\"ensure_2d\"\u001b[0m\u001b[1;33m,\u001b[0m \u001b[1;32mTrue\u001b[0m\u001b[1;33m)\u001b[0m\u001b[1;33m:\u001b[0m\u001b[1;33m\u001b[0m\u001b[1;33m\u001b[0m\u001b[0m\n",
      "\u001b[1;32m~\\anaconda3\\lib\\site-packages\\sklearn\\utils\\validation.py\u001b[0m in \u001b[0;36m?\u001b[1;34m(X, y, accept_sparse, accept_large_sparse, dtype, order, copy, force_all_finite, ensure_2d, allow_nd, multi_output, ensure_min_samples, ensure_min_features, y_numeric, estimator)\u001b[0m\n\u001b[0;32m   1142\u001b[0m         raise ValueError(\n\u001b[0;32m   1143\u001b[0m             \u001b[1;34mf\"{estimator_name} requires y to be passed, but the target y is None\"\u001b[0m\u001b[1;33m\u001b[0m\u001b[1;33m\u001b[0m\u001b[0m\n\u001b[0;32m   1144\u001b[0m         )\n\u001b[0;32m   1145\u001b[0m \u001b[1;33m\u001b[0m\u001b[0m\n\u001b[1;32m-> 1146\u001b[1;33m     X = check_array(\n\u001b[0m\u001b[0;32m   1147\u001b[0m         \u001b[0mX\u001b[0m\u001b[1;33m,\u001b[0m\u001b[1;33m\u001b[0m\u001b[1;33m\u001b[0m\u001b[0m\n\u001b[0;32m   1148\u001b[0m         \u001b[0maccept_sparse\u001b[0m\u001b[1;33m=\u001b[0m\u001b[0maccept_sparse\u001b[0m\u001b[1;33m,\u001b[0m\u001b[1;33m\u001b[0m\u001b[1;33m\u001b[0m\u001b[0m\n\u001b[0;32m   1149\u001b[0m         \u001b[0maccept_large_sparse\u001b[0m\u001b[1;33m=\u001b[0m\u001b[0maccept_large_sparse\u001b[0m\u001b[1;33m,\u001b[0m\u001b[1;33m\u001b[0m\u001b[1;33m\u001b[0m\u001b[0m\n",
      "\u001b[1;32m~\\anaconda3\\lib\\site-packages\\sklearn\\utils\\validation.py\u001b[0m in \u001b[0;36m?\u001b[1;34m(array, accept_sparse, accept_large_sparse, dtype, order, copy, force_all_finite, ensure_2d, allow_nd, ensure_min_samples, ensure_min_features, estimator, input_name)\u001b[0m\n\u001b[0;32m    912\u001b[0m                         )\n\u001b[0;32m    913\u001b[0m                     \u001b[0marray\u001b[0m \u001b[1;33m=\u001b[0m \u001b[0mxp\u001b[0m\u001b[1;33m.\u001b[0m\u001b[0mastype\u001b[0m\u001b[1;33m(\u001b[0m\u001b[0marray\u001b[0m\u001b[1;33m,\u001b[0m \u001b[0mdtype\u001b[0m\u001b[1;33m,\u001b[0m \u001b[0mcopy\u001b[0m\u001b[1;33m=\u001b[0m\u001b[1;32mFalse\u001b[0m\u001b[1;33m)\u001b[0m\u001b[1;33m\u001b[0m\u001b[1;33m\u001b[0m\u001b[0m\n\u001b[0;32m    914\u001b[0m                 \u001b[1;32melse\u001b[0m\u001b[1;33m:\u001b[0m\u001b[1;33m\u001b[0m\u001b[1;33m\u001b[0m\u001b[0m\n\u001b[0;32m    915\u001b[0m                     \u001b[0marray\u001b[0m \u001b[1;33m=\u001b[0m \u001b[0m_asarray_with_order\u001b[0m\u001b[1;33m(\u001b[0m\u001b[0marray\u001b[0m\u001b[1;33m,\u001b[0m \u001b[0morder\u001b[0m\u001b[1;33m=\u001b[0m\u001b[0morder\u001b[0m\u001b[1;33m,\u001b[0m \u001b[0mdtype\u001b[0m\u001b[1;33m=\u001b[0m\u001b[0mdtype\u001b[0m\u001b[1;33m,\u001b[0m \u001b[0mxp\u001b[0m\u001b[1;33m=\u001b[0m\u001b[0mxp\u001b[0m\u001b[1;33m)\u001b[0m\u001b[1;33m\u001b[0m\u001b[1;33m\u001b[0m\u001b[0m\n\u001b[1;32m--> 916\u001b[1;33m             \u001b[1;32mexcept\u001b[0m \u001b[0mComplexWarning\u001b[0m \u001b[1;32mas\u001b[0m \u001b[0mcomplex_warning\u001b[0m\u001b[1;33m:\u001b[0m\u001b[1;33m\u001b[0m\u001b[1;33m\u001b[0m\u001b[0m\n\u001b[0m\u001b[0;32m    917\u001b[0m                 raise ValueError(\n\u001b[0;32m    918\u001b[0m                     \u001b[1;34m\"Complex data not supported\\n{}\\n\"\u001b[0m\u001b[1;33m.\u001b[0m\u001b[0mformat\u001b[0m\u001b[1;33m(\u001b[0m\u001b[0marray\u001b[0m\u001b[1;33m)\u001b[0m\u001b[1;33m\u001b[0m\u001b[1;33m\u001b[0m\u001b[0m\n\u001b[0;32m    919\u001b[0m                 ) from complex_warning\n",
      "\u001b[1;32m~\\anaconda3\\lib\\site-packages\\sklearn\\utils\\_array_api.py\u001b[0m in \u001b[0;36m?\u001b[1;34m(array, dtype, order, copy, xp)\u001b[0m\n\u001b[0;32m    376\u001b[0m         \u001b[1;31m# Use NumPy API to support order\u001b[0m\u001b[1;33m\u001b[0m\u001b[1;33m\u001b[0m\u001b[0m\n\u001b[0;32m    377\u001b[0m         \u001b[1;32mif\u001b[0m \u001b[0mcopy\u001b[0m \u001b[1;32mis\u001b[0m \u001b[1;32mTrue\u001b[0m\u001b[1;33m:\u001b[0m\u001b[1;33m\u001b[0m\u001b[1;33m\u001b[0m\u001b[0m\n\u001b[0;32m    378\u001b[0m             \u001b[0marray\u001b[0m \u001b[1;33m=\u001b[0m \u001b[0mnumpy\u001b[0m\u001b[1;33m.\u001b[0m\u001b[0marray\u001b[0m\u001b[1;33m(\u001b[0m\u001b[0marray\u001b[0m\u001b[1;33m,\u001b[0m \u001b[0morder\u001b[0m\u001b[1;33m=\u001b[0m\u001b[0morder\u001b[0m\u001b[1;33m,\u001b[0m \u001b[0mdtype\u001b[0m\u001b[1;33m=\u001b[0m\u001b[0mdtype\u001b[0m\u001b[1;33m)\u001b[0m\u001b[1;33m\u001b[0m\u001b[1;33m\u001b[0m\u001b[0m\n\u001b[0;32m    379\u001b[0m         \u001b[1;32melse\u001b[0m\u001b[1;33m:\u001b[0m\u001b[1;33m\u001b[0m\u001b[1;33m\u001b[0m\u001b[0m\n\u001b[1;32m--> 380\u001b[1;33m             \u001b[0marray\u001b[0m \u001b[1;33m=\u001b[0m \u001b[0mnumpy\u001b[0m\u001b[1;33m.\u001b[0m\u001b[0masarray\u001b[0m\u001b[1;33m(\u001b[0m\u001b[0marray\u001b[0m\u001b[1;33m,\u001b[0m \u001b[0morder\u001b[0m\u001b[1;33m=\u001b[0m\u001b[0morder\u001b[0m\u001b[1;33m,\u001b[0m \u001b[0mdtype\u001b[0m\u001b[1;33m=\u001b[0m\u001b[0mdtype\u001b[0m\u001b[1;33m)\u001b[0m\u001b[1;33m\u001b[0m\u001b[1;33m\u001b[0m\u001b[0m\n\u001b[0m\u001b[0;32m    381\u001b[0m \u001b[1;33m\u001b[0m\u001b[0m\n\u001b[0;32m    382\u001b[0m         \u001b[1;31m# At this point array is a NumPy ndarray. We convert it to an array\u001b[0m\u001b[1;33m\u001b[0m\u001b[1;33m\u001b[0m\u001b[0m\n\u001b[0;32m    383\u001b[0m         \u001b[1;31m# container that is consistent with the input's namespace.\u001b[0m\u001b[1;33m\u001b[0m\u001b[1;33m\u001b[0m\u001b[0m\n",
      "\u001b[1;32m~\\anaconda3\\lib\\site-packages\\pandas\\core\\generic.py\u001b[0m in \u001b[0;36m?\u001b[1;34m(self, dtype)\u001b[0m\n\u001b[0;32m   2082\u001b[0m     \u001b[1;32mdef\u001b[0m \u001b[0m__array__\u001b[0m\u001b[1;33m(\u001b[0m\u001b[0mself\u001b[0m\u001b[1;33m,\u001b[0m \u001b[0mdtype\u001b[0m\u001b[1;33m:\u001b[0m \u001b[0mnpt\u001b[0m\u001b[1;33m.\u001b[0m\u001b[0mDTypeLike\u001b[0m \u001b[1;33m|\u001b[0m \u001b[1;32mNone\u001b[0m \u001b[1;33m=\u001b[0m \u001b[1;32mNone\u001b[0m\u001b[1;33m)\u001b[0m \u001b[1;33m->\u001b[0m \u001b[0mnp\u001b[0m\u001b[1;33m.\u001b[0m\u001b[0mndarray\u001b[0m\u001b[1;33m:\u001b[0m\u001b[1;33m\u001b[0m\u001b[1;33m\u001b[0m\u001b[0m\n\u001b[0;32m   2083\u001b[0m         \u001b[0mvalues\u001b[0m \u001b[1;33m=\u001b[0m \u001b[0mself\u001b[0m\u001b[1;33m.\u001b[0m\u001b[0m_values\u001b[0m\u001b[1;33m\u001b[0m\u001b[1;33m\u001b[0m\u001b[0m\n\u001b[1;32m-> 2084\u001b[1;33m         \u001b[0marr\u001b[0m \u001b[1;33m=\u001b[0m \u001b[0mnp\u001b[0m\u001b[1;33m.\u001b[0m\u001b[0masarray\u001b[0m\u001b[1;33m(\u001b[0m\u001b[0mvalues\u001b[0m\u001b[1;33m,\u001b[0m \u001b[0mdtype\u001b[0m\u001b[1;33m=\u001b[0m\u001b[0mdtype\u001b[0m\u001b[1;33m)\u001b[0m\u001b[1;33m\u001b[0m\u001b[1;33m\u001b[0m\u001b[0m\n\u001b[0m\u001b[0;32m   2085\u001b[0m         if (\n\u001b[0;32m   2086\u001b[0m             \u001b[0mastype_is_view\u001b[0m\u001b[1;33m(\u001b[0m\u001b[0mvalues\u001b[0m\u001b[1;33m.\u001b[0m\u001b[0mdtype\u001b[0m\u001b[1;33m,\u001b[0m \u001b[0marr\u001b[0m\u001b[1;33m.\u001b[0m\u001b[0mdtype\u001b[0m\u001b[1;33m)\u001b[0m\u001b[1;33m\u001b[0m\u001b[1;33m\u001b[0m\u001b[0m\n\u001b[0;32m   2087\u001b[0m             \u001b[1;32mand\u001b[0m \u001b[0musing_copy_on_write\u001b[0m\u001b[1;33m(\u001b[0m\u001b[1;33m)\u001b[0m\u001b[1;33m\u001b[0m\u001b[1;33m\u001b[0m\u001b[0m\n",
      "\u001b[1;31mValueError\u001b[0m: could not convert string to float: 'Tue'"
     ]
    }
   ],
   "source": [
    "results = scores(models, X_train, X_test, y_train, y_test)\n",
    "results"
   ]
  },
  {
   "cell_type": "code",
   "execution_count": null,
   "metadata": {},
   "outputs": [],
   "source": [
    "plt.figure(figsize=(10, 5))\n",
    "plt.xticks(rotation=90)\n",
    "plt.xlabel('Model', fontsize=15)\n",
    "plt.ylabel('Score', fontsize=15)\n",
    "plt.title(\"Models and its scores\", fontsize=20)\n",
    "sns.barplot(x=results.index, y=results['Score']);"
   ]
  },
  {
   "cell_type": "code",
   "execution_count": null,
   "metadata": {},
   "outputs": [],
   "source": [
    "# Define feature columns\n",
    "feature_cols = [\"months_as_member\", \"weight\", \"category_encoded\"]\n",
    "\n",
    "# Define features (X) and target variable (y)\n",
    "X = fitness_df[feature_cols]\n",
    "y = fitness_df[\"attended\"]\n",
    "\n",
    "# Split the data into training and testing sets\n",
    "X_train, X_test, y_train, y_test = train_test_split(X, y, test_size=0.3, random_state=42)\n"
   ]
  },
  {
   "cell_type": "code",
   "execution_count": null,
   "metadata": {},
   "outputs": [],
   "source": [
    "# Logistic Regression Model"
   ]
  },
  {
   "cell_type": "code",
   "execution_count": null,
   "metadata": {
    "scrolled": true
   },
   "outputs": [],
   "source": [
    "# Logistic Regression\n",
    "model = LogisticRegression(C=500, max_iter=50000, random_state=88)\n",
    "model.fit(X_train, y_train)\n",
    "y_prediction = model.predict(X_test)\n",
    "y_train_pred = model.predict(X_train)\n",
    "\n",
    "# Print the model performance\n",
    "print('Logistic Regression:')\n",
    "print(f'Training accuracy: {model.score(X_train, y_train)}')\n",
    "print(f'Test accuracy: {model.score(X_test, y_test)}')\n",
    "\n",
    "# Print the classification report\n",
    "print('Classification Report for Test Data')\n",
    "print(classification_report(y_test, y_prediction))"
   ]
  },
  {
   "cell_type": "code",
   "execution_count": null,
   "metadata": {},
   "outputs": [],
   "source": [
    "# confusion matrix for training data\n",
    "conf_matrix_train = confusion_matrix(y_train, model.predict(X_train))\n",
    "print(\"Confusion Matrix for Training Data:\")\n",
    "print(conf_matrix_train)"
   ]
  },
  {
   "cell_type": "code",
   "execution_count": null,
   "metadata": {},
   "outputs": [],
   "source": [
    "# Logistic Regression\n",
    "#\n",
    "# Predictions on the training set\n",
    "y_train_prediction = model.predict(X_train)\n",
    "plt.figure(figsize=(5, 4))\n",
    "cf_mat = confusion_matrix(y_train, y_train_prediction)\n",
    "sns.heatmap(cf_mat, annot=True, fmt='g', cmap='coolwarm')\n",
    "plt.xlabel(\"Actual Value\")\n",
    "plt.ylabel(\"Predicted Label\")\n",
    "plt.title(\"Confusion Matrix for Logistic Regression - Training Data\")\n",
    "plt.show()"
   ]
  },
  {
   "cell_type": "code",
   "execution_count": null,
   "metadata": {},
   "outputs": [],
   "source": [
    "# confusion matrix for test data\n",
    "conf_matrix_test = confusion_matrix(y_test, model.predict(X_test))\n",
    "print(\"Confusion Matrix for Test Data:\")\n",
    "print(conf_matrix_test)"
   ]
  },
  {
   "cell_type": "code",
   "execution_count": null,
   "metadata": {},
   "outputs": [],
   "source": [
    "# Logistic Regression\n",
    "# Predictions on the test set\n",
    "y_test_prediction = model.predict(X_test)\n",
    "plt.figure(figsize=(5, 4))\n",
    "cf_mat_test = confusion_matrix(y_test, y_test_prediction)\n",
    "sns.heatmap(cf_mat_test, annot=True, fmt='g', cmap='coolwarm')\n",
    "plt.xlabel(\"Actual Value\")\n",
    "plt.ylabel(\"Predicted Label\")\n",
    "plt.title(\"Confusion Matrix for Logistic Regression - Test Data\")\n",
    "plt.show()"
   ]
  },
  {
   "cell_type": "code",
   "execution_count": null,
   "metadata": {},
   "outputs": [],
   "source": [
    "# Plotting The ROC Curve for Logistic Regression\n",
    "y_score = model.decision_function(X_test)\n",
    "# Compute ROC curve and ROC area\n",
    "fpr, tpr, _ = roc_curve(y_test, y_score)\n",
    "roc_auc = auc(fpr, tpr)\n",
    "# Plot the ROC curve\n",
    "plt.figure(figsize=(8, 6))\n",
    "plt.plot(fpr, tpr, color='darkorange', lw=2, label=f'AUC = {roc_auc:.2f}')\n",
    "plt.plot([0, 1], [0, 1], color='navy', lw=2, linestyle='--')\n",
    "plt.xlabel('False Positive Rate')\n",
    "plt.ylabel('True Positive Rate')\n",
    "plt.title('ROC Curve for Logistic Regression')\n",
    "plt.legend(loc='lower right')\n",
    "plt.show()"
   ]
  },
  {
   "cell_type": "code",
   "execution_count": null,
   "metadata": {},
   "outputs": [],
   "source": [
    "# KNeighborsClassifier Mode"
   ]
  },
  {
   "cell_type": "code",
   "execution_count": null,
   "metadata": {},
   "outputs": [],
   "source": [
    "# KNeighborsClassifier\n",
    "model = KNeighborsClassifier()\n",
    "model.fit(X_train, y_train)\n",
    "y_prediction = model.predict(X_test)\n",
    "y_train_pred = model.predict(X_train)\n",
    "\n",
    "# Print the model performance\n",
    "print('KNeighborsClassifier:')\n",
    "print(f'Training accuracy: {model.score(X_train, y_train)}')\n",
    "print(f'Test accuracy: {model.score(X_test, y_test)}')\n",
    "\n",
    "# Print the classification report\n",
    "print('Classification Report for Test Data')\n",
    "print(classification_report(y_test, y_prediction))"
   ]
  },
  {
   "cell_type": "code",
   "execution_count": null,
   "metadata": {},
   "outputs": [],
   "source": [
    "# confusion matrix for training data\n",
    "conf_matrix_train = confusion_matrix(y_train, model.predict(X_train))\n",
    "print(\"Confusion Matrix for Training Data:\")\n",
    "print(conf_matrix_train)"
   ]
  },
  {
   "cell_type": "code",
   "execution_count": null,
   "metadata": {},
   "outputs": [],
   "source": [
    "# KNeighborsClassifier\n",
    "#\n",
    "# Predictions on the training set\n",
    "y_train_prediction = model.predict(X_train)\n",
    "\n",
    "plt.figure(figsize=(5, 4))\n",
    "cf_mat = confusion_matrix(y_train, y_train_prediction)\n",
    "sns.heatmap(cf_mat, annot=True, fmt='g', cmap='coolwarm')\n",
    "plt.xlabel(\"Actual Value\")\n",
    "plt.ylabel(\"Predicted Label\")\n",
    "plt.title(\"Confusion Matrix for KNeighborsClassifier - Training Data\")\n",
    "plt.show()"
   ]
  },
  {
   "cell_type": "code",
   "execution_count": null,
   "metadata": {},
   "outputs": [],
   "source": [
    "# confusion matrix for test data\n",
    "conf_matrix_test = confusion_matrix(y_test, model.predict(X_test))\n",
    "print(\"Confusion Matrix for Test Data:\")\n",
    "print(conf_matrix_test)"
   ]
  },
  {
   "cell_type": "code",
   "execution_count": null,
   "metadata": {},
   "outputs": [],
   "source": [
    "# KNeighborsClassifier\n",
    "# Predictions on the test set\n",
    "y_test_prediction = model.predict(X_test)\n",
    "\n",
    "plt.figure(figsize=(5, 4))\n",
    "cf_mat_test = confusion_matrix(y_test, y_test_prediction)\n",
    "sns.heatmap(cf_mat_test, annot=True, fmt='g', cmap='coolwarm')\n",
    "plt.xlabel(\"Actual Value\")\n",
    "plt.ylabel(\"Predicted Label\")\n",
    "plt.title(\"Confusion Matrix for KNeighborsClassifier - Test Data\")\n",
    "plt.show()"
   ]
  },
  {
   "cell_type": "code",
   "execution_count": null,
   "metadata": {},
   "outputs": [],
   "source": [
    "# Plotting The ROC Curve for KNeighborsClassifier\n",
    "\n",
    "y_score = model.predict_proba(X_test)[:, 1]\n",
    "\n",
    "# Compute ROC curve and ROC area\n",
    "fpr, tpr, _ = roc_curve(y_test, y_score)\n",
    "roc_auc = auc(fpr, tpr)\n",
    "\n",
    "# Plot the ROC curve\n",
    "plt.figure(figsize=(8, 6))\n",
    "plt.plot(fpr, tpr, color='darkorange', lw=2, label=f'AUC = {roc_auc:.2f}')\n",
    "plt.plot([0, 1], [0, 1], color='navy', lw=2, linestyle='--')\n",
    "plt.xlabel('False Positive Rate')\n",
    "plt.ylabel('True Positive Rate')\n",
    "plt.title('ROC Curve for KNeighborsClassifier')\n",
    "plt.legend(loc='lower right')\n",
    "plt.show()"
   ]
  },
  {
   "cell_type": "code",
   "execution_count": null,
   "metadata": {},
   "outputs": [],
   "source": [
    "# perform Standard Scaler Scaling on the Dataset"
   ]
  },
  {
   "cell_type": "code",
   "execution_count": null,
   "metadata": {},
   "outputs": [],
   "source": [
    "# splitting data into train and test sets\n",
    "X_train, X_test, y_train, y_test = train_test_split(X, y, test_size=0.3, random_state=42)\n",
    "\n",
    "sc = StandardScaler()\n",
    "\n",
    "X_train = sc.fit_transform(X_train)\n",
    "X_test = sc.transform(X_test)\n",
    "\n",
    "results = scores(models, X_train, X_test, y_train, y_test)\n",
    "results"
   ]
  },
  {
   "cell_type": "code",
   "execution_count": null,
   "metadata": {},
   "outputs": [],
   "source": [
    "plt.figure(figsize=(10, 5))\n",
    "plt.xticks(rotation=90)\n",
    "plt.xlabel('Model', fontsize=15)\n",
    "plt.ylabel('Score', fontsize=15)\n",
    "plt.title(\"Models and its scores\", fontsize=20)\n",
    "sns.barplot(x=results.index, y=results['Score']);"
   ]
  },
  {
   "cell_type": "code",
   "execution_count": null,
   "metadata": {},
   "outputs": [],
   "source": [
    "#revisit Logistic Regression after performing the Scaling"
   ]
  },
  {
   "cell_type": "code",
   "execution_count": null,
   "metadata": {},
   "outputs": [],
   "source": [
    "# Logistic Regression\n",
    "model = LogisticRegression(C=500, max_iter=50000, random_state=88)\n",
    "model.fit(X_train, y_train)\n",
    "y_prediction = model.predict(X_test)\n",
    "y_train_pred = model.predict(X_train)\n",
    "\n",
    "# Print the model performance\n",
    "print('Logistic Regression:')\n",
    "print(f'Training accuracy: {model.score(X_train, y_train)}')\n",
    "print(f'Test accuracy: {model.score(X_test, y_test)}')\n",
    "\n",
    "# Print the classification report\n",
    "print('Classification Report for Test Data')\n",
    "print(classification_report(y_test, y_prediction))"
   ]
  },
  {
   "cell_type": "code",
   "execution_count": null,
   "metadata": {},
   "outputs": [],
   "source": [
    "# confusion matrix for training data\n",
    "conf_matrix_train = confusion_matrix(y_train, model.predict(X_train))\n",
    "print(\"Confusion Matrix for Training Data:\")\n",
    "print(conf_matrix_train)"
   ]
  },
  {
   "cell_type": "code",
   "execution_count": null,
   "metadata": {},
   "outputs": [],
   "source": [
    "# Logistic Regression\n",
    "#\n",
    "# Predictions on the training set\n",
    "y_train_prediction = model.predict(X_train)\n",
    "\n",
    "plt.figure(figsize=(5, 4))\n",
    "cf_mat = confusion_matrix(y_train, y_train_prediction)\n",
    "sns.heatmap(cf_mat, annot=True, fmt='g', cmap='coolwarm')\n",
    "plt.xlabel(\"Actual Value\")\n",
    "plt.ylabel(\"Predicted Label\")\n",
    "plt.title(\"Confusion Matrix for Logistic Regression - Training Data\")\n",
    "plt.show()"
   ]
  },
  {
   "cell_type": "code",
   "execution_count": null,
   "metadata": {},
   "outputs": [],
   "source": [
    "# confusion matrix for test data\n",
    "conf_matrix_test = confusion_matrix(y_test, model.predict(X_test))\n",
    "print(\"Confusion Matrix for Test Data:\")\n",
    "print(conf_matrix_test)"
   ]
  },
  {
   "cell_type": "code",
   "execution_count": null,
   "metadata": {},
   "outputs": [],
   "source": [
    "# Logistic Regression\n",
    "# Predictions on the test set\n",
    "y_test_prediction = model.predict(X_test)\n",
    "\n",
    "plt.figure(figsize=(5, 4))\n",
    "cf_mat_test = confusion_matrix(y_test, y_test_prediction)\n",
    "sns.heatmap(cf_mat_test, annot=True, fmt='g', cmap='coolwarm')\n",
    "plt.xlabel(\"Actual Value\")\n",
    "plt.ylabel(\"Predicted Label\")\n",
    "plt.title(\"Confusion Matrix for Logistic Regression - Test Data\")\n",
    "plt.show()\n"
   ]
  },
  {
   "cell_type": "code",
   "execution_count": null,
   "metadata": {},
   "outputs": [],
   "source": [
    "# Plotting The ROC Curve for Logistic Regression\n",
    "\n",
    "y_score = model.decision_function(X_test)\n",
    "\n",
    "# Compute ROC curve and ROC area\n",
    "fpr, tpr, _ = roc_curve(y_test, y_score)\n",
    "roc_auc = auc(fpr, tpr)\n",
    "\n",
    "# Plot the ROC curve\n",
    "plt.figure(figsize=(8, 6))\n",
    "plt.plot(fpr, tpr, color='darkorange', lw=2, label=f'AUC = {roc_auc:.2f}')\n",
    "plt.plot([0, 1], [0, 1], color='navy', lw=2, linestyle='--')\n",
    "plt.xlabel('False Positive Rate')\n",
    "plt.ylabel('True Positive Rate')\n",
    "plt.title('ROC Curve for Logistic Regression')\n",
    "plt.legend(loc='lower right')\n",
    "plt.show()"
   ]
  },
  {
   "cell_type": "code",
   "execution_count": null,
   "metadata": {},
   "outputs": [],
   "source": [
    "# revisit the KNeighborsClassifier after performing the Scaling"
   ]
  },
  {
   "cell_type": "code",
   "execution_count": null,
   "metadata": {},
   "outputs": [],
   "source": [
    "# KNeighborsClassifier\n",
    "model = KNeighborsClassifier()\n",
    "model.fit(X_train, y_train)\n",
    "y_prediction = model.predict(X_test)\n",
    "y_train_pred = model.predict(X_train)\n",
    "\n",
    "# Print the model performance\n",
    "print('KNeighborsClassifier:')\n",
    "print(f'Training accuracy: {model.score(X_train, y_train)}')\n",
    "print(f'Test accuracy: {model.score(X_test, y_test)}')\n",
    "\n",
    "# Print the classification report\n",
    "print('Classification Report for Test Data')\n",
    "print(classification_report(y_test, y_prediction))"
   ]
  },
  {
   "cell_type": "code",
   "execution_count": null,
   "metadata": {},
   "outputs": [],
   "source": [
    "# confusion matrix for training data\n",
    "conf_matrix_train = confusion_matrix(y_train, model.predict(X_train))\n",
    "print(\"Confusion Matrix for Training Data:\")\n",
    "print(conf_matrix_train)"
   ]
  },
  {
   "cell_type": "code",
   "execution_count": null,
   "metadata": {},
   "outputs": [],
   "source": [
    "# KNeighborsClassifier\n",
    "#\n",
    "# Predictions on the training set\n",
    "y_train_prediction = model.predict(X_train)\n",
    "\n",
    "plt.figure(figsize=(5, 4))\n",
    "cf_mat = confusion_matrix(y_train, y_train_prediction)\n",
    "sns.heatmap(cf_mat, annot=True, fmt='g', cmap='coolwarm')\n",
    "plt.xlabel(\"Actual Value\")\n",
    "plt.ylabel(\"Predicted Label\")\n",
    "plt.title(\"Confusion Matrix for KNeighborsClassifier - Training Data\")\n",
    "plt.show()"
   ]
  },
  {
   "cell_type": "code",
   "execution_count": null,
   "metadata": {},
   "outputs": [],
   "source": [
    "# confusion matrix for test data\n",
    "conf_matrix_test = confusion_matrix(y_test, model.predict(X_test))\n",
    "print(\"Confusion Matrix for Test Data:\")\n",
    "print(conf_matrix_test)"
   ]
  },
  {
   "cell_type": "code",
   "execution_count": null,
   "metadata": {},
   "outputs": [],
   "source": [
    "# KNeighborsClassifier\n",
    "# Predictions on the test set\n",
    "y_test_prediction = model.predict(X_test)\n",
    "\n",
    "plt.figure(figsize=(5, 4))\n",
    "cf_mat_test = confusion_matrix(y_test, y_test_prediction)\n",
    "sns.heatmap(cf_mat_test, annot=True, fmt='g', cmap='coolwarm')\n",
    "plt.xlabel(\"Actual Value\")\n",
    "plt.ylabel(\"Predicted Label\")\n",
    "plt.title(\"Confusion Matrix for KNeighborsClassifier - Test Data\")\n",
    "plt.show()"
   ]
  },
  {
   "cell_type": "code",
   "execution_count": null,
   "metadata": {},
   "outputs": [],
   "source": [
    "# Plotting The ROC Curve for KNeighborsClassifier\n",
    "\n",
    "y_score = model.predict_proba(X_test)[:, 1]\n",
    "\n",
    "# Compute ROC curve and ROC area\n",
    "fpr, tpr, _ = roc_curve(y_test, y_score)\n",
    "roc_auc = auc(fpr, tpr)\n",
    "\n",
    "# Plot the ROC curve\n",
    "plt.figure(figsize=(8, 6))\n",
    "plt.plot(fpr, tpr, color='darkorange', lw=2, label=f'AUC = {roc_auc:.2f}')\n",
    "plt.plot([0, 1], [0, 1], color='navy', lw=2, linestyle='--')\n",
    "plt.xlabel('False Positive Rate')\n",
    "plt.ylabel('True Positive Rate')\n",
    "plt.title('ROC Curve for KNeighborsClassifier')\n",
    "plt.legend(loc='lower right')\n",
    "plt.show()"
   ]
  },
  {
   "cell_type": "code",
   "execution_count": null,
   "metadata": {},
   "outputs": [],
   "source": []
  },
  {
   "cell_type": "markdown",
   "metadata": {},
   "source": [
    "# 6. Tuning <a id='tuning'></a>\n",
    "\n",
    "[Back to top](#table_of_contents)"
   ]
  },
  {
   "cell_type": "code",
   "execution_count": null,
   "metadata": {},
   "outputs": [],
   "source": [
    "# hyperparameter tuning"
   ]
  },
  {
   "cell_type": "code",
   "execution_count": null,
   "metadata": {},
   "outputs": [],
   "source": []
  },
  {
   "cell_type": "code",
   "execution_count": null,
   "metadata": {},
   "outputs": [],
   "source": [
    "# Grid Search"
   ]
  },
  {
   "cell_type": "code",
   "execution_count": null,
   "metadata": {},
   "outputs": [],
   "source": [
    "from sklearn.model_selection import GridSearchCV"
   ]
  },
  {
   "cell_type": "code",
   "execution_count": null,
   "metadata": {},
   "outputs": [],
   "source": [
    "# Define hyperparameter grid\n",
    "param_grid = {'param_name': ['months_as_member','weight','category_encoded']}"
   ]
  },
  {
   "cell_type": "code",
   "execution_count": null,
   "metadata": {},
   "outputs": [],
   "source": [
    "# Create model\n",
    "model = LogisticRegression()"
   ]
  },
  {
   "cell_type": "code",
   "execution_count": null,
   "metadata": {},
   "outputs": [],
   "source": [
    "# Create GridSearchCV object\n",
    "grid_search = GridSearchCV(model, param_grid, cv=5)  # cv is the number of cross-validation folds\n"
   ]
  },
  {
   "cell_type": "code",
   "execution_count": null,
   "metadata": {},
   "outputs": [],
   "source": [
    "# Fit the model\n",
    "grid_search.fit(X_train, y_train)"
   ]
  },
  {
   "cell_type": "code",
   "execution_count": null,
   "metadata": {},
   "outputs": [],
   "source": []
  },
  {
   "cell_type": "code",
   "execution_count": null,
   "metadata": {},
   "outputs": [],
   "source": []
  },
  {
   "cell_type": "markdown",
   "metadata": {},
   "source": [
    "# 7. Validation <a id='validation'></a>\n",
    "\n",
    "[Back to top](#table_of_contents)"
   ]
  },
  {
   "cell_type": "code",
   "execution_count": null,
   "metadata": {},
   "outputs": [],
   "source": []
  },
  {
   "cell_type": "code",
   "execution_count": null,
   "metadata": {},
   "outputs": [],
   "source": []
  }
 ],
 "metadata": {
  "kernelspec": {
   "display_name": "Python 3 (ipykernel)",
   "language": "python",
   "name": "python3"
  },
  "language_info": {
   "codemirror_mode": {
    "name": "ipython",
    "version": 3
   },
   "file_extension": ".py",
   "mimetype": "text/x-python",
   "name": "python",
   "nbconvert_exporter": "python",
   "pygments_lexer": "ipython3",
   "version": "3.10.13"
  }
 },
 "nbformat": 4,
 "nbformat_minor": 4
}
