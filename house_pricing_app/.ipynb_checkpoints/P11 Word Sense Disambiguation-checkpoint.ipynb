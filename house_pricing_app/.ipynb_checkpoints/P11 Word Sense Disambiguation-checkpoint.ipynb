{
 "cells": [
  {
   "attachments": {
    "NYPLogo.png": {
     "image/png": "[encoded data removed]"
    }
   },
   "cell_type": "markdown",
   "metadata": {},
   "source": [
    "![NYPLogo.png](attachment:NYPLogo.png)\n",
    "\n",
    "# Practical 11: Word Sense Disambiguation\n",
    "\n",
    "\n",
    "## Objectives\n",
    "\n",
    "- Construct models to resolve word sense disambiguation.\n"
   ]
  },
  {
   "cell_type": "markdown",
   "metadata": {},
   "source": [
    "## WordNet\n",
    "\n",
    "WordNet is a lexical database for the English language, which was created by Princeton, and is part of the NLTK corpus. It is a machine-readable database of words which can be accessed from most popular programming languages (C, C#, Java, Ruby, Python etc.). WordNet superficially resembles a thesaurus, in that it groups words together based on their meanings.\n",
    "\n",
    "WordNet is not like your traditional dictionary. WordNet focuses on the relationship between words along with their definitions, and this makes a WordNet a network instead of a list. NLTK includes the English WordNet, with 155,287 words and 117,659 synonym sets.\n",
    "\n",
    "In the WordNet network, the words are connected by linguistic relations. These linguistic relations (hypernym, hyponym, meronym, holonym and other fancy sounding stuff), are WordNet’s secret sauce. They give you powerful capabilities that are missing in an ordinary dictionary/thesaurus.\n",
    "\n",
    "Now, let's get into the implementation and usage of WordNet in Python!\n",
    "\n",
    "### 1) Synonyms\n",
    "WordNet stores synonyms in the form of synsets where each word in the synset shares the same meaning. Basically, each synset is a group of synonyms. Each synset has a definition associated with it. Relations are stored between different synsets.\n",
    "\n",
    "In the following example. Take the word ‘sofa’. We have only one synset for ‘sofa’ which means that it has only one context or meaning. Another word like ‘jupiter’ will give two synsets because it has two meanings – one as ‘planet’ and the other as ‘Roman God’.\n",
    "\n",
    "~~~Python\n",
    "from nltk.corpus import wordnet as wn\n",
    "\n",
    "# get synsets of sofa\n",
    "print (wn.synsets('sofa'))\n",
    "\n",
    "# get synsets of jupiter\n",
    "syns = wn.synsets('jupiter')\n",
    "print (syns)\n",
    "\n",
    "# definition of first synset\n",
    "print (syns[0].definition())\n",
    "\n",
    "# definition of second synset\n",
    "print (syns[1].definition())\n",
    "~~~"
   ]
  },
  {
   "cell_type": "code",
   "execution_count": null,
   "metadata": {},
   "outputs": [],
   "source": [
    "# Enter code here\n"
   ]
  },
  {
   "cell_type": "markdown",
   "metadata": {},
   "source": [
    "### 2) Hyponyms and Hypernyms\n",
    "Hyponyms and Hypernyms are specific and generalized concepts respectively.\n",
    "\n",
    "For example, ‘beach house’ and ‘guest house’ are hyponyms of ‘house’. They are more specific concepts of ‘house’. And ‘house’ is a hypernym of ‘guest house’ because it is a general concept.\n",
    "\n",
    "‘Egg Noodle’ is a hyponym of ‘noodle’ and ‘pasta’ is a hypernym of ‘noodle’.\n",
    "\n",
    "~~~Python\n",
    "# get hyponyms of noodle\n",
    "print (wn.synsets('noodle')[0].hyponyms())\n",
    "\n",
    "# get hypernyms of noodle\n",
    "print (wn.synsets('noodle')[0].hypernyms())\n",
    "\n",
    "# definitation of egg noodle\n",
    "print (wn.synset('egg_noodle.n.01').definition())\n",
    "\n",
    "# definitation of pasta\n",
    "print (wn.synset('pasta.n.01').definition())\n",
    "~~~"
   ]
  },
  {
   "cell_type": "code",
   "execution_count": null,
   "metadata": {},
   "outputs": [],
   "source": [
    "# Enter code here\n"
   ]
  },
  {
   "cell_type": "markdown",
   "metadata": {},
   "source": [
    "### 3) Meronyms and Holonyms\n",
    "Meronyms and Holonyms represent the part-whole relationship. The meronym represents the part and the holonym represents the whole. For example, ‘kitchen’ is a meronym of ‘home'(the kitchen is a part of the home), ‘mattress’ is a meronym of ‘bed’, and ‘bedroom’ is a holonym of ‘bed’.\n",
    "\n",
    "~~~Python\n",
    "# get holonyms of noodle\n",
    "print (wn.synsets('bed')[0].part_holonyms())\n",
    "\n",
    "# get meronyms of noodle\n",
    "print (wn.synsets('bed')[0].part_meronyms())\n",
    "~~~"
   ]
  },
  {
   "cell_type": "code",
   "execution_count": null,
   "metadata": {},
   "outputs": [],
   "source": [
    "# Enter code here\n"
   ]
  },
  {
   "cell_type": "markdown",
   "metadata": {},
   "source": [
    "### 4) Entailments\n",
    "An entailment is an implication. For example, looking implies seeing. Buying implies choosing and paying. We can find entailments as seen below in the code.\n",
    "\n",
    "~~~Python\n",
    "# get entailments of buy\n",
    "print (wn.synsets('buy'))\n",
    "print (wn.synsets('buy')[1].entailments())\n",
    "~~~"
   ]
  },
  {
   "cell_type": "code",
   "execution_count": null,
   "metadata": {},
   "outputs": [],
   "source": [
    "# Enter code here\n"
   ]
  },
  {
   "cell_type": "markdown",
   "metadata": {},
   "source": [
    "### 5) Word Similarity\n",
    "We can compute the similarity between two words based on the distance between words in the WordNet network. The smaller the distance, the more similar the words. In this way, it is possible to quantitatively figure out that a cat and a dog are similar, a phone and a computer are similar, but a cat and a phone are not similar!\n",
    "\n",
    "~~~Python\n",
    "# compute similarity between cat and dog\n",
    "dog = wn.synsets('dog')[0]\n",
    "cat = wn.synsets('cat')[0]\n",
    "print (wn.path_similarity(dog, cat))\n",
    "\n",
    "# compute similarity between cat and dog\n",
    "phone = wn.synsets('phone')[0]\n",
    "computer = wn.synsets('computer')[0]\n",
    "print (wn.path_similarity(phone, computer))\n",
    "\n",
    "# compute similarity between cat and phone\n",
    "print (wn.path_similarity(phone, cat))\n",
    "~~~"
   ]
  },
  {
   "cell_type": "code",
   "execution_count": null,
   "metadata": {},
   "outputs": [],
   "source": [
    "# Enter code here\n"
   ]
  },
  {
   "cell_type": "markdown",
   "metadata": {},
   "source": [
    "### Applications\n",
    "There are several subfields in natural language processing which can benefit from having a large lexical database, especially one as big and extensive as WordNet. Many semantic applications can draw benefits from using WordNet, including Word Sense Disambiguation (WSD), question answering and sentiment analysis. Many papers have been published regarding WordNet and WSD, exploring different approaches and algorithms, which is the main field for using this.\n",
    "\n",
    "## Word Sense Disambiguation\n",
    "One of the first things you realize when working with linguistic or textual data is just how ambiguous the words are. Language is very contextual and the meanings of the words depend upon the context in which you are using it.\n",
    "\n",
    "To give a hint how all this works, consider three examples of the distinct senses that exist for the word \"bass\":\n",
    "1. a type of fish\n",
    "2. tones of low frequency\n",
    "3. a type of instrument\n",
    "\n",
    "and the sentences:\n",
    "1. I went fishing for some sea bass.\n",
    "2. The bass line of the song is too weak.\n",
    "\n",
    "To a human, it is obvious that the first sentence is using the word \"**<em>bass (fish)</em>**\", as in the former sense above and in the second sentence, the word \"**<em>bass (instrument)</em>**\" is being used as in the latter sense below. Developing algorithms to replicate this human ability can often be a difficult task.\n",
    "\n",
    "Nevertheless, we have solved a number of very difficult problems to a reasonable degree of accuracy with computational approaches. Let's talk about one of the more naive approaches to word sense disambiguation, which actually does fairly well when given a reasonably large input.\n",
    "\n",
    "But first, what’s this Word Sense Disambiguation all about. Well, the sense of a word is a way of identifying how we use a given word by associating its definition. This is where the ambiguity problem comes in, how does a computer know, how to treat a given input when each one has a number of different senses, some of which have wildly different connotations and usages? This one problem is a key building block for all sorts of more complex, interesting NLP systems, from sentiment analysis to machine translation."
   ]
  },
  {
   "cell_type": "markdown",
   "metadata": {},
   "source": [
    "## A Simple WSD Application\n",
    "Next, we will create a simple program that will analyse the query you entered and what it is relating to.\n",
    "1. Give two sentences with some data.\n",
    "2. Give a third sentence and the program will analyse which sentence you are relating to.\n",
    "\n",
    "### Import libraries\n",
    "~~~Python\n",
    "import nltk\n",
    "\n",
    "from nltk.tokenize import PunktSentenceTokenizer,sent_tokenize, word_tokenize\n",
    "from nltk.corpus import stopwords, wordnet\n",
    "from nltk.stem import WordNetLemmatizer, PorterStemmer\n",
    "~~~"
   ]
  },
  {
   "cell_type": "code",
   "execution_count": null,
   "metadata": {},
   "outputs": [],
   "source": [
    "# Enter code here\n"
   ]
  },
  {
   "cell_type": "markdown",
   "metadata": {},
   "source": [
    "The **simpleFilter** function takes the given query/sentence as an input and returns list of tokens which are lemmatized. Lemmatization refers to deriving the root word which is morphologically correct. There rises a slight confusion between lemmatization and stemming. However, the two words differ in their flavor. Stemming usually refers to a crude heuristic process that chops off the ends of words in the hope of achieving this goal correctly most of the time, and often includes the removal of derivational affixes. Lemmatization usually refers to doing things properly with the use of a vocabulary and morphological analysis of words, normally aiming to remove inflectional endings only and to return the base or dictionary form of a word, which is known as the lemma.\n",
    "\n",
    "Stopwords, are the high frequency words in a language which do not contribute much to the topic of the sentence. In English, such words include, ‘a’ , ‘an’ , ‘the’, ‘of’ , ‘to’ , etc.. We remove these words and focus on our main subject/topic, to solve ambiguity. The function is applied to the training data sets as well as user input.\n",
    "\n",
    "~~~Python\n",
    "def simpleFilter(sentence):\n",
    "    filtered_sent = []\n",
    "    lemmatizer = WordNetLemmatizer()\n",
    "    stop_words = set(stopwords.words(\"english\"))\n",
    "    words = word_tokenize(sentence)\n",
    "    \n",
    "    for w in words:\n",
    "        if w not in stop_words:\n",
    "            filtered_sent.append(lemmatizer.lemmatize(w))\n",
    "    \n",
    "    return filtered_sent\n",
    "~~~"
   ]
  },
  {
   "cell_type": "code",
   "execution_count": null,
   "metadata": {},
   "outputs": [],
   "source": [
    "# Enter code here\n"
   ]
  },
  {
   "cell_type": "markdown",
   "metadata": {},
   "source": [
    "Next we perform similarity check, function: **similarityCheck**, for the filtered sentence tokens that are returned by the first function. Similarity is checked between the given query/sentence tokens and the training data set tokens. For this, the synonym set is loaded for each token word from wordnet corpus. The depth and closeness of a word is calculated and returned on scale of 0–1 . This is the main data that will resolve the ambiguity. The more data you provide, the more accurate it gets. The normalised similarity between sentences is stored.\n",
    "\n",
    "~~~Python\n",
    "def simlilarityCheck(word1, word2):\n",
    "    word1 = word1 + \".n.01\"\n",
    "    word2 = word2 + \".n.01\"\n",
    "    \n",
    "    try:\n",
    "        w1 = wordnet.synset(word1)\n",
    "        w2 = wordnet.synset(word2)\n",
    "        \n",
    "        return w1.wup_similarity(w2)\n",
    "\n",
    "    except:\n",
    "        return 0\n",
    "~~~"
   ]
  },
  {
   "cell_type": "code",
   "execution_count": null,
   "metadata": {},
   "outputs": [],
   "source": [
    "# Enter code here\n"
   ]
  },
  {
   "cell_type": "markdown",
   "metadata": {},
   "source": [
    "**synonymsCreator** is a simplistic function to store the synonyms of the given input word. This will be used is storing the synonyms of the given data set and query tokens. The synonyms will also be taken into consideration while performing similarity check for the sentences.\n",
    "\n",
    "~~~Python\n",
    "def synonymsCreator(word):\n",
    "    synonyms = []\n",
    "\n",
    "    for syn in wordnet.synsets(word):\n",
    "        for i in syn.lemmas():\n",
    "            synonyms.append(i.name())\n",
    "\n",
    "    return synonyms\n",
    "~~~"
   ]
  },
  {
   "cell_type": "code",
   "execution_count": null,
   "metadata": {},
   "outputs": [],
   "source": [
    "# Enter code here\n"
   ]
  },
  {
   "cell_type": "markdown",
   "metadata": {},
   "source": [
    "Once the similarity is stored, we apply the next level filter, function: **filteredSentence**, to apply lemmatization over stemmed tokens and again removing stop words. In the filtered sentence list, we now store the token word along with its synonyms for more precised matching / similarity check. \n",
    "\n",
    "~~~Python\n",
    "# Remove Stop Words. Word Stemming. Return new tokenised list.\n",
    "def filteredSentence(sentence):\n",
    "    filtered_sent = []\n",
    "    lemmatizer = WordNetLemmatizer()   #lemmatizes the words\n",
    "    ps = PorterStemmer()    #stemmer stems the root of the word.\n",
    "\n",
    "    stop_words = set(stopwords.words(\"english\"))\n",
    "    words = word_tokenize(sentence)\n",
    "    \n",
    "    for w in words:\n",
    "        if w not in stop_words:\n",
    "            filtered_sent.append(lemmatizer.lemmatize(ps.stem(w)))\n",
    "            \n",
    "            for i in synonymsCreator(w):\n",
    "                filtered_sent.append(i)\n",
    "\n",
    "    return filtered_sent\n",
    "~~~"
   ]
  },
  {
   "cell_type": "code",
   "execution_count": null,
   "metadata": {},
   "outputs": [],
   "source": [
    "# Enter code here\n"
   ]
  },
  {
   "cell_type": "markdown",
   "metadata": {},
   "source": [
    "Next, we put all these together.\n",
    "\n",
    "~~~Python\n",
    "sent1 = input(\"Enter Sentence 1: \").lower()\n",
    "sent2 = input(\"Enter Sentence 2: \").lower()\n",
    "sent3 = input(\"Enter Query: \").lower()\n",
    "\n",
    "filtered_sent1 = []\n",
    "filtered_sent2 = []\n",
    "filtered_sent3 = []\n",
    "\n",
    "counter1 = 0\n",
    "counter2 = 0\n",
    "sent31_similarity = 0\n",
    "sent32_similarity = 0\n",
    "\n",
    "filtered_sent1 = simpleFilter(sent1)\n",
    "filtered_sent2 = simpleFilter(sent2)\n",
    "filtered_sent3 = simpleFilter(sent3)\n",
    "\n",
    "for i in filtered_sent3:\n",
    "    for j in filtered_sent1:\n",
    "        sent31_similarity = sent31_similarity + simlilarityCheck(i, j)\n",
    "\n",
    "    for j in filtered_sent2:\n",
    "        sent32_similarity = sent32_similarity + simlilarityCheck(i, j)\n",
    "\n",
    "filtered_sent1 = []\n",
    "filtered_sent2 = []\n",
    "filtered_sent3 = []\n",
    "\n",
    "filtered_sent1 = filteredSentence(sent1)\n",
    "filtered_sent2 = filteredSentence(sent2)\n",
    "filtered_sent3 = filteredSentence(sent3)\n",
    "\n",
    "sent1_count = 0\n",
    "sent2_count = 0\n",
    "\n",
    "for i in filtered_sent3:\n",
    "    for j in filtered_sent1:\n",
    "        if(i == j):\n",
    "            sent1_count = sent1_count + 1\n",
    "            \n",
    "    for j in filtered_sent2:\n",
    "        if(i == j):\n",
    "            sent2_count = sent2_count + 1\n",
    "\n",
    "if((sent1_count + sent31_similarity) > (sent2_count+sent32_similarity)):\n",
    "    print(\"Same synset as Sentence 1\")\n",
    "else:\n",
    "    print(\"Same synset as Sentence 2\")\n",
    "~~~\n",
    "\n",
    "Use the following to test: \n",
    "\n",
    "**Sentence 1**: \"the commercial banks are used for finance. all the financial matters are managed by financial banks and they have lots of money, user accounts like salary account and savings account, current account. money can also be withdrawn from this bank.\n",
    "\n",
    "**Sentence 2**: \"the river bank has water in it and it has fishes trees. lots of water is stored in the banks. boats float in it and animals come and drink water from it.\"\n",
    "\n",
    "**Query**: \"from which bank should i withdraw money\"\n",
    "\n",
    "\n",
    "**Sentence 1**: \"any of various nocturnal flying mammals of the order Chiroptera, having membranous wings that extend from the forelimbs to the hind limbs or tail and anatomical adaptations for echolocation, by which they navigate and hunt prey.\"\n",
    "\n",
    "**Sentence 2**: \"a cricket wooden bat is used for playing criket. it is rectangular in shape and has handle and is made of wood or plastic and is used by cricket players.\"\n",
    "\n",
    "**Query**: \"which bat can fly?\""
   ]
  },
  {
   "cell_type": "code",
   "execution_count": null,
   "metadata": {},
   "outputs": [],
   "source": [
    "# Enter code here\n"
   ]
  },
  {
   "cell_type": "markdown",
   "metadata": {},
   "source": [
    "## Lesk Algorithm\n",
    "Let's use the Lesk algorithm in NLTK to estimate the sense of the word in the given context sentence.\n",
    "\n",
    "The Lesk algorithm is based on the assumption that words in a given \"neighborhood\" (section of text) will tend to share a common topic. A simplified version of the Lesk algorithm is to compare the dictionary definition of an ambiguous word with the terms contained in its neighbourhood.\n",
    "\n",
    "The below is the definition of the lesk function.\n",
    "\n",
    "> lesk(context_sentence, ambiguous_word, pos=None, synsets=None)\n",
    "\n",
    "In the example below, for the first and the second sentence, the lesk algorithm is some what accurate in understanding the context of the word bass in the sentence. But for the third sentence where the bass is in the context of musical instrument, it is estimating the word as Synset('sea_bass.n.01) which is clearly not correct! Unfortunately, Lesk’s approach is very sensitive to the exact wording of definitions, so the absence of a certain word can radically change the results.\n",
    "\n",
    "~~~Python\n",
    "from nltk.wsd import lesk\n",
    "\n",
    "for ss in wn.synsets('bass'):\n",
    "    print (ss, ss.definition())\n",
    "\n",
    "sentences = [\n",
    "    'I went fishing for some sea bass.',\n",
    "    'The bass line of the song is too weak.',\n",
    "    'Avishai Cohen is an Israeli jazz musician. He plays double bass and is also a composer'\n",
    "]\n",
    "\n",
    "# get sysnet for each sentence\n",
    "print()\n",
    "print (lesk(sentences[0].split(), 'bass', 'n'))\n",
    "print (lesk(sentences[1].split(), 'bass', 's'))\n",
    "print (lesk(sentences[2].split(), 'bass', 'n'))\n",
    "~~~"
   ]
  },
  {
   "cell_type": "code",
   "execution_count": null,
   "metadata": {},
   "outputs": [],
   "source": [
    "# Enter code here\n"
   ]
  }
 ],
 "metadata": {
  "kernelspec": {
   "display_name": "Python 3 (ipykernel)",
   "language": "python",
   "name": "python3"
  },
  "language_info": {
   "codemirror_mode": {
    "name": "ipython",
    "version": 3
   },
   "file_extension": ".py",
   "mimetype": "text/x-python",
   "name": "python",
   "nbconvert_exporter": "python",
   "pygments_lexer": "ipython3",
   "version": "3.10.13"
  }
 },
 "nbformat": 4,
 "nbformat_minor": 4
}
