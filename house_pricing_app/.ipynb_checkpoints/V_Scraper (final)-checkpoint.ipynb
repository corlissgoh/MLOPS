{
 "cells": [
  {
   "cell_type": "markdown",
   "metadata": {},
   "source": [
    "# Web Scraper for Crunchyroll"
   ]
  },
  {
   "cell_type": "markdown",
   "metadata": {},
   "source": [
    "### Importing packages"
   ]
  },
  {
   "cell_type": "code",
   "execution_count": 1,
   "metadata": {},
   "outputs": [],
   "source": [
    "import requests\n",
    "from bs4 import BeautifulSoup as bs\n",
    "import pandas as pd"
   ]
  },
  {
   "cell_type": "markdown",
   "metadata": {},
   "source": [
    "### Get links for all animes under each category"
   ]
  },
  {
   "cell_type": "code",
   "execution_count": 1,
   "metadata": {},
   "outputs": [
    {
     "data": {
      "text/plain": [
       "{'Action': 'https://animeultima.su/genres/action',\n",
       " 'Adventure': 'https://animeultima.su/genres/adventure',\n",
       " 'Comedy': 'https://animeultima.su/genres/comedy',\n",
       " 'Romance': 'https://animeultima.su/genres/romance',\n",
       " 'Slice of Life': 'https://animeultima.su/genres/slice-of-life'}"
      ]
     },
     "execution_count": 1,
     "metadata": {},
     "output_type": "execute_result"
    }
   ],
   "source": [
    "# URLs for different anime genres\n",
    "tags = [\"action\", \"adventure\", \"comedy\", \"romance\", \"slice-of-life\"]\n",
    "genres = [\"Action\", \"Adventure\", \"Comedy\", \"Romance\", \"Slice of Life\"]\n",
    "\n",
    "# Base link\n",
    "link = \"https://animeultima.su/genres/{}\"\n",
    "\n",
    "# Making a GET request\n",
    "urls = {}\n",
    "for tag in tags:\n",
    "    formated_url = link.format(tag) \n",
    "    urls[genres[tags.index(tag)]] = formated_url\n",
    "\n",
    "urls"
   ]
  },
  {
   "cell_type": "code",
   "execution_count": 2,
   "metadata": {},
   "outputs": [
    {
     "ename": "NameError",
     "evalue": "name 'requests' is not defined",
     "output_type": "error",
     "traceback": [
      "\u001b[1;31m---------------------------------------------------------------------------\u001b[0m",
      "\u001b[1;31mNameError\u001b[0m                                 Traceback (most recent call last)",
      "Cell \u001b[1;32mIn[2], line 23\u001b[0m\n\u001b[0;32m     20\u001b[0m \u001b[38;5;28;01mwhile\u001b[39;00m num \u001b[38;5;241m<\u001b[39m\u001b[38;5;241m=\u001b[39m \u001b[38;5;241m15\u001b[39m: \n\u001b[0;32m     21\u001b[0m \u001b[38;5;66;03m# As there are a lot of animes per genre, we will only scrape the first 15 pages of each genre\u001b[39;00m\n\u001b[0;32m     22\u001b[0m     url \u001b[38;5;241m=\u001b[39m urls[genre]\n\u001b[1;32m---> 23\u001b[0m     response \u001b[38;5;241m=\u001b[39m \u001b[43mrequests\u001b[49m\u001b[38;5;241m.\u001b[39mget(url)\n\u001b[0;32m     24\u001b[0m     html \u001b[38;5;241m=\u001b[39m response\u001b[38;5;241m.\u001b[39mcontent\n\u001b[0;32m     25\u001b[0m     soup \u001b[38;5;241m=\u001b[39m bs(html, \u001b[38;5;124m\"\u001b[39m\u001b[38;5;124mhtml.parser\u001b[39m\u001b[38;5;124m\"\u001b[39m)\n",
      "\u001b[1;31mNameError\u001b[0m: name 'requests' is not defined"
     ]
    }
   ],
   "source": [
    "base_url = \"https://animeultima.su\"\n",
    "anime_links = {}\n",
    "\n",
    "# Function to scrape pages (1-15) of each genre\n",
    "def scrape_page(url,num):\n",
    "    url = url + \"?page=\" + str(num)\n",
    "    response = requests.get(url)\n",
    "    html = response.content\n",
    "    soup = bs(html, \"html.parser\")\n",
    "    # Getting all the links for the anime\n",
    "    hrefs = soup.find_all('a', class_=\"dynamic-name\")\n",
    "    for href in hrefs:\n",
    "        link = base_url + href.get('href')\n",
    "        anime_links[genre].append(link)\n",
    "\n",
    "animes =  {}\n",
    "for genre in urls.keys():\n",
    "    anime_links[genre] = []\n",
    "    num = 1\n",
    "    while num <= 15: \n",
    "    # As there are a lot of animes per genre, we will only scrape the first 15 pages of each genre\n",
    "        url = urls[genre]\n",
    "        response = requests.get(url)\n",
    "        html = response.content\n",
    "        soup = bs(html, \"html.parser\")\n",
    "        scrape_page(url,num)\n",
    "        num += 1\n",
    "    anime = pd.DataFrame(anime_links[genre], columns=['link'])\n",
    "    anime['genre'] = genre\n",
    "    animes[genre] = anime\n",
    "    print(f\"{genre}: {len(anime_links[genre])}\")\n",
    "\n",
    "animes.keys()"
   ]
  },
  {
   "cell_type": "code",
   "execution_count": null,
   "metadata": {},
   "outputs": [
    {
     "data": {
      "text/html": [
       "<div>\n",
       "<style scoped>\n",
       "    .dataframe tbody tr th:only-of-type {\n",
       "        vertical-align: middle;\n",
       "    }\n",
       "\n",
       "    .dataframe tbody tr th {\n",
       "        vertical-align: top;\n",
       "    }\n",
       "\n",
       "    .dataframe thead th {\n",
       "        text-align: right;\n",
       "    }\n",
       "</style>\n",
       "<table border=\"1\" class=\"dataframe\">\n",
       "  <thead>\n",
       "    <tr style=\"text-align: right;\">\n",
       "      <th></th>\n",
       "      <th>link</th>\n",
       "      <th>genre</th>\n",
       "    </tr>\n",
       "  </thead>\n",
       "  <tbody>\n",
       "    <tr>\n",
       "      <th>0</th>\n",
       "      <td>https://9animetv.to/watch/jungle-no-ouja-taa-c...</td>\n",
       "      <td>Action</td>\n",
       "    </tr>\n",
       "    <tr>\n",
       "      <th>1</th>\n",
       "      <td>https://9animetv.to/watch/majestic-prince-epis...</td>\n",
       "      <td>Action</td>\n",
       "    </tr>\n",
       "    <tr>\n",
       "      <th>2</th>\n",
       "      <td>https://9animetv.to/watch/my-hero-academia-sea...</td>\n",
       "      <td>Action</td>\n",
       "    </tr>\n",
       "    <tr>\n",
       "      <th>3</th>\n",
       "      <td>https://9animetv.to/watch/ghost-in-the-shell-s...</td>\n",
       "      <td>Action</td>\n",
       "    </tr>\n",
       "    <tr>\n",
       "      <th>4</th>\n",
       "      <td>https://9animetv.to/watch/ghost-in-the-shell-s...</td>\n",
       "      <td>Action</td>\n",
       "    </tr>\n",
       "    <tr>\n",
       "      <th>...</th>\n",
       "      <td>...</td>\n",
       "      <td>...</td>\n",
       "    </tr>\n",
       "    <tr>\n",
       "      <th>4795</th>\n",
       "      <td>https://9animetv.to/watch/naruto-shippuden-355</td>\n",
       "      <td>Slice of Life</td>\n",
       "    </tr>\n",
       "    <tr>\n",
       "      <th>4796</th>\n",
       "      <td>https://9animetv.to/watch/the-wrong-way-to-use...</td>\n",
       "      <td>Slice of Life</td>\n",
       "    </tr>\n",
       "    <tr>\n",
       "      <th>4797</th>\n",
       "      <td>https://9animetv.to/watch/mashle-magic-and-mus...</td>\n",
       "      <td>Slice of Life</td>\n",
       "    </tr>\n",
       "    <tr>\n",
       "      <th>4798</th>\n",
       "      <td>https://9animetv.to/watch/classroom-of-the-eli...</td>\n",
       "      <td>Slice of Life</td>\n",
       "    </tr>\n",
       "    <tr>\n",
       "      <th>4799</th>\n",
       "      <td>https://9animetv.to/watch/my-instant-death-abi...</td>\n",
       "      <td>Slice of Life</td>\n",
       "    </tr>\n",
       "  </tbody>\n",
       "</table>\n",
       "<p>4800 rows × 2 columns</p>\n",
       "</div>"
      ],
      "text/plain": [
       "                                                   link          genre\n",
       "0     https://9animetv.to/watch/jungle-no-ouja-taa-c...         Action\n",
       "1     https://9animetv.to/watch/majestic-prince-epis...         Action\n",
       "2     https://9animetv.to/watch/my-hero-academia-sea...         Action\n",
       "3     https://9animetv.to/watch/ghost-in-the-shell-s...         Action\n",
       "4     https://9animetv.to/watch/ghost-in-the-shell-s...         Action\n",
       "...                                                 ...            ...\n",
       "4795     https://9animetv.to/watch/naruto-shippuden-355  Slice of Life\n",
       "4796  https://9animetv.to/watch/the-wrong-way-to-use...  Slice of Life\n",
       "4797  https://9animetv.to/watch/mashle-magic-and-mus...  Slice of Life\n",
       "4798  https://9animetv.to/watch/classroom-of-the-eli...  Slice of Life\n",
       "4799  https://9animetv.to/watch/my-instant-death-abi...  Slice of Life\n",
       "\n",
       "[4800 rows x 2 columns]"
      ]
     },
     "execution_count": 5,
     "metadata": {},
     "output_type": "execute_result"
    }
   ],
   "source": [
    "animes = pd.concat(animes.values(), ignore_index=True)\n",
    "animes"
   ]
  },
  {
   "cell_type": "code",
   "execution_count": null,
   "metadata": {},
   "outputs": [
    {
     "data": {
      "text/html": [
       "<div>\n",
       "<style scoped>\n",
       "    .dataframe tbody tr th:only-of-type {\n",
       "        vertical-align: middle;\n",
       "    }\n",
       "\n",
       "    .dataframe tbody tr th {\n",
       "        vertical-align: top;\n",
       "    }\n",
       "\n",
       "    .dataframe thead th {\n",
       "        text-align: right;\n",
       "    }\n",
       "</style>\n",
       "<table border=\"1\" class=\"dataframe\">\n",
       "  <thead>\n",
       "    <tr style=\"text-align: right;\">\n",
       "      <th></th>\n",
       "      <th>link</th>\n",
       "      <th>genre</th>\n",
       "    </tr>\n",
       "  </thead>\n",
       "  <tbody>\n",
       "    <tr>\n",
       "      <th>0</th>\n",
       "      <td>https://9animetv.to/watch/jungle-no-ouja-taa-c...</td>\n",
       "      <td>Action</td>\n",
       "    </tr>\n",
       "    <tr>\n",
       "      <th>1</th>\n",
       "      <td>https://9animetv.to/watch/majestic-prince-epis...</td>\n",
       "      <td>Action</td>\n",
       "    </tr>\n",
       "    <tr>\n",
       "      <th>2</th>\n",
       "      <td>https://9animetv.to/watch/my-hero-academia-sea...</td>\n",
       "      <td>Action</td>\n",
       "    </tr>\n",
       "    <tr>\n",
       "      <th>3</th>\n",
       "      <td>https://9animetv.to/watch/ghost-in-the-shell-s...</td>\n",
       "      <td>Action</td>\n",
       "    </tr>\n",
       "    <tr>\n",
       "      <th>4</th>\n",
       "      <td>https://9animetv.to/watch/ghost-in-the-shell-s...</td>\n",
       "      <td>Action</td>\n",
       "    </tr>\n",
       "    <tr>\n",
       "      <th>...</th>\n",
       "      <td>...</td>\n",
       "      <td>...</td>\n",
       "    </tr>\n",
       "    <tr>\n",
       "      <th>1797</th>\n",
       "      <td>https://9animetv.to/watch/bunny-drop-113</td>\n",
       "      <td>Slice of Life</td>\n",
       "    </tr>\n",
       "    <tr>\n",
       "      <th>1798</th>\n",
       "      <td>https://9animetv.to/watch/usakame-8598</td>\n",
       "      <td>Slice of Life</td>\n",
       "    </tr>\n",
       "    <tr>\n",
       "      <th>1799</th>\n",
       "      <td>https://9animetv.to/watch/uzamaid-3611</td>\n",
       "      <td>Slice of Life</td>\n",
       "    </tr>\n",
       "    <tr>\n",
       "      <th>1800</th>\n",
       "      <td>https://9animetv.to/watch/uzaki-chan-wants-to-...</td>\n",
       "      <td>Slice of Life</td>\n",
       "    </tr>\n",
       "    <tr>\n",
       "      <th>1801</th>\n",
       "      <td>https://9animetv.to/watch/uninhabited-planet-s...</td>\n",
       "      <td>Slice of Life</td>\n",
       "    </tr>\n",
       "  </tbody>\n",
       "</table>\n",
       "<p>1802 rows × 2 columns</p>\n",
       "</div>"
      ],
      "text/plain": [
       "                                                   link          genre\n",
       "0     https://9animetv.to/watch/jungle-no-ouja-taa-c...         Action\n",
       "1     https://9animetv.to/watch/majestic-prince-epis...         Action\n",
       "2     https://9animetv.to/watch/my-hero-academia-sea...         Action\n",
       "3     https://9animetv.to/watch/ghost-in-the-shell-s...         Action\n",
       "4     https://9animetv.to/watch/ghost-in-the-shell-s...         Action\n",
       "...                                                 ...            ...\n",
       "1797           https://9animetv.to/watch/bunny-drop-113  Slice of Life\n",
       "1798             https://9animetv.to/watch/usakame-8598  Slice of Life\n",
       "1799             https://9animetv.to/watch/uzamaid-3611  Slice of Life\n",
       "1800  https://9animetv.to/watch/uzaki-chan-wants-to-...  Slice of Life\n",
       "1801  https://9animetv.to/watch/uninhabited-planet-s...  Slice of Life\n",
       "\n",
       "[1802 rows x 2 columns]"
      ]
     },
     "execution_count": 6,
     "metadata": {},
     "output_type": "execute_result"
    }
   ],
   "source": [
    "# Remove duplicates\n",
    "animes = animes.drop_duplicates(subset=['link'],ignore_index=True,keep='first')\n",
    "animes"
   ]
  },
  {
   "cell_type": "code",
   "execution_count": null,
   "metadata": {},
   "outputs": [
    {
     "data": {
      "text/plain": [
       "<Axes: xlabel='genre'>"
      ]
     },
     "execution_count": 7,
     "metadata": {},
     "output_type": "execute_result"
    },
    {
     "data": {
      "image/png": "[encoded data removed]",
      "text/plain": [
       "<Figure size 640x480 with 1 Axes>"
      ]
     },
     "metadata": {},
     "output_type": "display_data"
    }
   ],
   "source": [
    "animes['genre'].value_counts().plot(kind='bar')\n"
   ]
  },
  {
   "cell_type": "markdown",
   "metadata": {},
   "source": [
    "### Collecting Anime Title and Description"
   ]
  },
  {
   "cell_type": "code",
   "execution_count": null,
   "metadata": {},
   "outputs": [],
   "source": [
    "titles = []\n",
    "descriptions = []\n",
    "for link in animes['link']:\n",
    "    response = requests.get(link)\n",
    "    html = response.content\n",
    "    soup = bs(html, \"html.parser\")\n",
    "\n",
    "    # Getting the title of the anime\n",
    "    title = soup.select(\"h2.film-name\")[0].get_text().strip()\n",
    "    titles.append(title)\n",
    "    \n",
    "\n",
    "    # Getting the description\n",
    "    description = soup.select(\"p.shorting\")[0].get_text().strip()\n",
    "    descriptions.append(description)\n",
    "\n",
    "animes['title'] = titles\n",
    "animes['description'] = descriptions\n",
    "animes\n"
   ]
  },
  {
   "cell_type": "markdown",
   "metadata": {},
   "source": [
    "### Export to CSV"
   ]
  },
  {
   "cell_type": "code",
   "execution_count": null,
   "metadata": {},
   "outputs": [],
   "source": [
    "animes.to_csv('victor.csv', index=False)\n"
   ]
  }
 ],
 "metadata": {
  "kernelspec": {
   "display_name": "Python 3 (ipykernel)",
   "language": "python",
   "name": "python3"
  },
  "language_info": {
   "codemirror_mode": {
    "name": "ipython",
    "version": 3
   },
   "file_extension": ".py",
   "mimetype": "text/x-python",
   "name": "python",
   "nbconvert_exporter": "python",
   "pygments_lexer": "ipython3",
   "version": "3.10.13"
  }
 },
 "nbformat": 4,
 "nbformat_minor": 2
}
